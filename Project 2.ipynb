{
 "cells": [
  {
   "cell_type": "markdown",
   "id": "fb0ed936",
   "metadata": {},
   "source": [
    "<img src=\"http://imgur.com/1ZcRyrc.png\" style=\"float: left; margin: 20px; height: 55px\">\n",
    "\n",
    "# Project 2: Predicting housing prices with Regression"
   ]
  },
  {
   "cell_type": "markdown",
   "id": "830fb60d",
   "metadata": {},
   "source": [
    "# Overview\n",
    "Purchasing a house is a big decision for both investors and those looking for a place to stay. One of the key considerations behind this decision is the price of the property is reasonable.\n",
    "\n",
    "**Goal**\n",
    "To build an accurate model to predict the expected sale price of a house in Ames. The key metric used will be root mean squared error.\n",
    "\n",
    "**Methods:<br/>**\n",
    "1. Background Research on known factors which affect house sale prices\n",
    "2. Data cleaning and exploration\n",
    "    - Check and process NA values to\n",
    "    - Check for obvious issues with data (e.g. continuous values within range and categorical values in their categories.\n",
    "    - Check if categories are meaningful (ie. poor features result in poor prices) and convert ordinal features to continuous where appropriate.\n",
    "    - Explore continuous variables to see general trends and correlations. Perform transformation where necessary to fit a linear relationship.\n",
    "    - Delete features where there is very low variation between levels/categories.\n",
    "    - Delete clear outliers.\n",
    "3. Analysis\n",
    "    - Use Linear Regression and regularisation techniques(Lasso, Ridge and ElasticNet) to build a home saleprice prediction model.\n",
    "    - Accuracy of the model will be determined through cross validation, mean squared error (mse) and root mean squared error (rmse) scores. Models with a lower mse and rmse are more accurate.\n",
    "    - Variables which perform poorly at each stage (heavily penalised during Lasso Regression) will be considered for removal before new variables are added in the subsequent stage."
   ]
  },
  {
   "cell_type": "markdown",
   "id": "7d623e29",
   "metadata": {},
   "source": [
    "# Background Research\n",
    "\n",
    "According to online sources, home sale prices in the USA are affected by factors including:<br/>\n",
    "**Macro**\n",
    "1. Economy, market cycles\n",
    "2. Tax rates\n",
    "3. Local housing market\n",
    "4. Supply and demand (e.g. bidding wars)\n",
    "5. Government laws\n",
    "6. Comparable sales\n",
    "\n",
    "**Home Related**\n",
    "1. Location, neighborhood, nearby features\n",
    "2. Home size, layout\n",
    "3. Home age\n",
    "4. Property condition\n",
    "5. Presentation and pricing strategy\n",
    "\n",
    "While the macroeconomic influences on the house prices are good to know, it is not possible to control or predict. However, we can use most of the home related factors which are available in the dataset to make our predictions. These factors and the like will be included in our analysis.\n",
    "\n",
    "([*source 1*](https://www.opendoor.com/w/blog/factors-that-influence-home-value))\n",
    "([*source 2*](https://www.inman.com/2017/08/07/6-factors-that-influence-a-homes-value/))\n",
    "([*source 3*](https://www.newrez.com/blog/home-buying-selling/5-things-that-influence-home-prices-in-2021/))\n",
    "([*source 4*](https://www.homelight.com/blog/real-estate-property-value/))"
   ]
  },
  {
   "cell_type": "code",
   "execution_count": 8,
   "id": "22066b36",
   "metadata": {},
   "outputs": [],
   "source": [
    "# Import required packages\n",
    "\n",
    "import numpy as np\n",
    "import pandas as pd\n",
    "import matplotlib.pyplot as plt\n",
    "import seaborn as sns\n",
    "\n",
    "\n",
    "from sklearn.preprocessing import (\n",
    "    PolynomialFeatures,\n",
    "    StandardScaler\n",
    ")\n",
    "\n",
    "from sklearn.linear_model import (\n",
    "    LinearRegression,\n",
    "    Ridge,\n",
    "    RidgeCV,\n",
    "    Lasso,\n",
    "    LassoCV,\n",
    "    ElasticNet,\n",
    "    ElasticNetCV\n",
    "    )\n",
    "\n",
    "from sklearn.model_selection import (\n",
    "    train_test_split,\n",
    "    cross_val_score\n",
    "    )\n",
    "\n",
    "from sklearn.metrics import (\n",
    "    mean_squared_error)"
   ]
  },
  {
   "cell_type": "code",
   "execution_count": 789,
   "id": "c50a1778",
   "metadata": {},
   "outputs": [],
   "source": [
    "# Import Data\n",
    "\n",
    "train_original = pd.read_csv('datasets/train.csv')\n",
    "train = pd.read_csv('datasets/train.csv')\n",
    "test = pd.read_csv('datasets/test.csv')"
   ]
  },
  {
   "cell_type": "code",
   "execution_count": 790,
   "id": "de3d1560",
   "metadata": {},
   "outputs": [],
   "source": [
    "# Standardise column names\n",
    "new_col_names = [x.replace(\" \", \"_\").lower() for x in list(train.columns)]\n",
    "train.columns = new_col_names"
   ]
  },
  {
   "cell_type": "code",
   "execution_count": 791,
   "id": "3555208f",
   "metadata": {},
   "outputs": [
    {
     "name": "stdout",
     "output_type": "stream",
     "text": [
      "<class 'pandas.core.frame.DataFrame'>\n",
      "RangeIndex: 2051 entries, 0 to 2050\n",
      "Data columns (total 81 columns):\n",
      " #   Column           Non-Null Count  Dtype  \n",
      "---  ------           --------------  -----  \n",
      " 0   id               2051 non-null   int64  \n",
      " 1   pid              2051 non-null   int64  \n",
      " 2   ms_subclass      2051 non-null   int64  \n",
      " 3   ms_zoning        2051 non-null   object \n",
      " 4   lot_frontage     1721 non-null   float64\n",
      " 5   lot_area         2051 non-null   int64  \n",
      " 6   street           2051 non-null   object \n",
      " 7   alley            140 non-null    object \n",
      " 8   lot_shape        2051 non-null   object \n",
      " 9   land_contour     2051 non-null   object \n",
      " 10  utilities        2051 non-null   object \n",
      " 11  lot_config       2051 non-null   object \n",
      " 12  land_slope       2051 non-null   object \n",
      " 13  neighborhood     2051 non-null   object \n",
      " 14  condition_1      2051 non-null   object \n",
      " 15  condition_2      2051 non-null   object \n",
      " 16  bldg_type        2051 non-null   object \n",
      " 17  house_style      2051 non-null   object \n",
      " 18  overall_qual     2051 non-null   int64  \n",
      " 19  overall_cond     2051 non-null   int64  \n",
      " 20  year_built       2051 non-null   int64  \n",
      " 21  year_remod/add   2051 non-null   int64  \n",
      " 22  roof_style       2051 non-null   object \n",
      " 23  roof_matl        2051 non-null   object \n",
      " 24  exterior_1st     2051 non-null   object \n",
      " 25  exterior_2nd     2051 non-null   object \n",
      " 26  mas_vnr_type     2029 non-null   object \n",
      " 27  mas_vnr_area     2029 non-null   float64\n",
      " 28  exter_qual       2051 non-null   object \n",
      " 29  exter_cond       2051 non-null   object \n",
      " 30  foundation       2051 non-null   object \n",
      " 31  bsmt_qual        1996 non-null   object \n",
      " 32  bsmt_cond        1996 non-null   object \n",
      " 33  bsmt_exposure    1993 non-null   object \n",
      " 34  bsmtfin_type_1   1996 non-null   object \n",
      " 35  bsmtfin_sf_1     2050 non-null   float64\n",
      " 36  bsmtfin_type_2   1995 non-null   object \n",
      " 37  bsmtfin_sf_2     2050 non-null   float64\n",
      " 38  bsmt_unf_sf      2050 non-null   float64\n",
      " 39  total_bsmt_sf    2050 non-null   float64\n",
      " 40  heating          2051 non-null   object \n",
      " 41  heating_qc       2051 non-null   object \n",
      " 42  central_air      2051 non-null   object \n",
      " 43  electrical       2051 non-null   object \n",
      " 44  1st_flr_sf       2051 non-null   int64  \n",
      " 45  2nd_flr_sf       2051 non-null   int64  \n",
      " 46  low_qual_fin_sf  2051 non-null   int64  \n",
      " 47  gr_liv_area      2051 non-null   int64  \n",
      " 48  bsmt_full_bath   2049 non-null   float64\n",
      " 49  bsmt_half_bath   2049 non-null   float64\n",
      " 50  full_bath        2051 non-null   int64  \n",
      " 51  half_bath        2051 non-null   int64  \n",
      " 52  bedroom_abvgr    2051 non-null   int64  \n",
      " 53  kitchen_abvgr    2051 non-null   int64  \n",
      " 54  kitchen_qual     2051 non-null   object \n",
      " 55  totrms_abvgrd    2051 non-null   int64  \n",
      " 56  functional       2051 non-null   object \n",
      " 57  fireplaces       2051 non-null   int64  \n",
      " 58  fireplace_qu     1051 non-null   object \n",
      " 59  garage_type      1938 non-null   object \n",
      " 60  garage_yr_blt    1937 non-null   float64\n",
      " 61  garage_finish    1937 non-null   object \n",
      " 62  garage_cars      2050 non-null   float64\n",
      " 63  garage_area      2050 non-null   float64\n",
      " 64  garage_qual      1937 non-null   object \n",
      " 65  garage_cond      1937 non-null   object \n",
      " 66  paved_drive      2051 non-null   object \n",
      " 67  wood_deck_sf     2051 non-null   int64  \n",
      " 68  open_porch_sf    2051 non-null   int64  \n",
      " 69  enclosed_porch   2051 non-null   int64  \n",
      " 70  3ssn_porch       2051 non-null   int64  \n",
      " 71  screen_porch     2051 non-null   int64  \n",
      " 72  pool_area        2051 non-null   int64  \n",
      " 73  pool_qc          9 non-null      object \n",
      " 74  fence            400 non-null    object \n",
      " 75  misc_feature     65 non-null     object \n",
      " 76  misc_val         2051 non-null   int64  \n",
      " 77  mo_sold          2051 non-null   int64  \n",
      " 78  yr_sold          2051 non-null   int64  \n",
      " 79  sale_type        2051 non-null   object \n",
      " 80  saleprice        2051 non-null   int64  \n",
      "dtypes: float64(11), int64(28), object(42)\n",
      "memory usage: 1.3+ MB\n"
     ]
    },
    {
     "data": {
      "text/html": [
       "<div>\n",
       "<style scoped>\n",
       "    .dataframe tbody tr th:only-of-type {\n",
       "        vertical-align: middle;\n",
       "    }\n",
       "\n",
       "    .dataframe tbody tr th {\n",
       "        vertical-align: top;\n",
       "    }\n",
       "\n",
       "    .dataframe thead th {\n",
       "        text-align: right;\n",
       "    }\n",
       "</style>\n",
       "<table border=\"1\" class=\"dataframe\">\n",
       "  <thead>\n",
       "    <tr style=\"text-align: right;\">\n",
       "      <th></th>\n",
       "      <th>id</th>\n",
       "      <th>pid</th>\n",
       "      <th>ms_subclass</th>\n",
       "      <th>ms_zoning</th>\n",
       "      <th>lot_frontage</th>\n",
       "      <th>lot_area</th>\n",
       "      <th>street</th>\n",
       "      <th>alley</th>\n",
       "      <th>lot_shape</th>\n",
       "      <th>land_contour</th>\n",
       "      <th>...</th>\n",
       "      <th>screen_porch</th>\n",
       "      <th>pool_area</th>\n",
       "      <th>pool_qc</th>\n",
       "      <th>fence</th>\n",
       "      <th>misc_feature</th>\n",
       "      <th>misc_val</th>\n",
       "      <th>mo_sold</th>\n",
       "      <th>yr_sold</th>\n",
       "      <th>sale_type</th>\n",
       "      <th>saleprice</th>\n",
       "    </tr>\n",
       "  </thead>\n",
       "  <tbody>\n",
       "    <tr>\n",
       "      <th>0</th>\n",
       "      <td>109</td>\n",
       "      <td>533352170</td>\n",
       "      <td>60</td>\n",
       "      <td>RL</td>\n",
       "      <td>NaN</td>\n",
       "      <td>13517</td>\n",
       "      <td>Pave</td>\n",
       "      <td>NaN</td>\n",
       "      <td>IR1</td>\n",
       "      <td>Lvl</td>\n",
       "      <td>...</td>\n",
       "      <td>0</td>\n",
       "      <td>0</td>\n",
       "      <td>NaN</td>\n",
       "      <td>NaN</td>\n",
       "      <td>NaN</td>\n",
       "      <td>0</td>\n",
       "      <td>3</td>\n",
       "      <td>2010</td>\n",
       "      <td>WD</td>\n",
       "      <td>130500</td>\n",
       "    </tr>\n",
       "    <tr>\n",
       "      <th>1</th>\n",
       "      <td>544</td>\n",
       "      <td>531379050</td>\n",
       "      <td>60</td>\n",
       "      <td>RL</td>\n",
       "      <td>43.0</td>\n",
       "      <td>11492</td>\n",
       "      <td>Pave</td>\n",
       "      <td>NaN</td>\n",
       "      <td>IR1</td>\n",
       "      <td>Lvl</td>\n",
       "      <td>...</td>\n",
       "      <td>0</td>\n",
       "      <td>0</td>\n",
       "      <td>NaN</td>\n",
       "      <td>NaN</td>\n",
       "      <td>NaN</td>\n",
       "      <td>0</td>\n",
       "      <td>4</td>\n",
       "      <td>2009</td>\n",
       "      <td>WD</td>\n",
       "      <td>220000</td>\n",
       "    </tr>\n",
       "    <tr>\n",
       "      <th>2</th>\n",
       "      <td>153</td>\n",
       "      <td>535304180</td>\n",
       "      <td>20</td>\n",
       "      <td>RL</td>\n",
       "      <td>68.0</td>\n",
       "      <td>7922</td>\n",
       "      <td>Pave</td>\n",
       "      <td>NaN</td>\n",
       "      <td>Reg</td>\n",
       "      <td>Lvl</td>\n",
       "      <td>...</td>\n",
       "      <td>0</td>\n",
       "      <td>0</td>\n",
       "      <td>NaN</td>\n",
       "      <td>NaN</td>\n",
       "      <td>NaN</td>\n",
       "      <td>0</td>\n",
       "      <td>1</td>\n",
       "      <td>2010</td>\n",
       "      <td>WD</td>\n",
       "      <td>109000</td>\n",
       "    </tr>\n",
       "    <tr>\n",
       "      <th>3</th>\n",
       "      <td>318</td>\n",
       "      <td>916386060</td>\n",
       "      <td>60</td>\n",
       "      <td>RL</td>\n",
       "      <td>73.0</td>\n",
       "      <td>9802</td>\n",
       "      <td>Pave</td>\n",
       "      <td>NaN</td>\n",
       "      <td>Reg</td>\n",
       "      <td>Lvl</td>\n",
       "      <td>...</td>\n",
       "      <td>0</td>\n",
       "      <td>0</td>\n",
       "      <td>NaN</td>\n",
       "      <td>NaN</td>\n",
       "      <td>NaN</td>\n",
       "      <td>0</td>\n",
       "      <td>4</td>\n",
       "      <td>2010</td>\n",
       "      <td>WD</td>\n",
       "      <td>174000</td>\n",
       "    </tr>\n",
       "    <tr>\n",
       "      <th>4</th>\n",
       "      <td>255</td>\n",
       "      <td>906425045</td>\n",
       "      <td>50</td>\n",
       "      <td>RL</td>\n",
       "      <td>82.0</td>\n",
       "      <td>14235</td>\n",
       "      <td>Pave</td>\n",
       "      <td>NaN</td>\n",
       "      <td>IR1</td>\n",
       "      <td>Lvl</td>\n",
       "      <td>...</td>\n",
       "      <td>0</td>\n",
       "      <td>0</td>\n",
       "      <td>NaN</td>\n",
       "      <td>NaN</td>\n",
       "      <td>NaN</td>\n",
       "      <td>0</td>\n",
       "      <td>3</td>\n",
       "      <td>2010</td>\n",
       "      <td>WD</td>\n",
       "      <td>138500</td>\n",
       "    </tr>\n",
       "  </tbody>\n",
       "</table>\n",
       "<p>5 rows × 81 columns</p>\n",
       "</div>"
      ],
      "text/plain": [
       "    id        pid  ms_subclass ms_zoning  lot_frontage  lot_area street alley  \\\n",
       "0  109  533352170           60        RL           NaN     13517   Pave   NaN   \n",
       "1  544  531379050           60        RL          43.0     11492   Pave   NaN   \n",
       "2  153  535304180           20        RL          68.0      7922   Pave   NaN   \n",
       "3  318  916386060           60        RL          73.0      9802   Pave   NaN   \n",
       "4  255  906425045           50        RL          82.0     14235   Pave   NaN   \n",
       "\n",
       "  lot_shape land_contour  ... screen_porch pool_area pool_qc fence  \\\n",
       "0       IR1          Lvl  ...            0         0     NaN   NaN   \n",
       "1       IR1          Lvl  ...            0         0     NaN   NaN   \n",
       "2       Reg          Lvl  ...            0         0     NaN   NaN   \n",
       "3       Reg          Lvl  ...            0         0     NaN   NaN   \n",
       "4       IR1          Lvl  ...            0         0     NaN   NaN   \n",
       "\n",
       "  misc_feature misc_val mo_sold yr_sold  sale_type  saleprice  \n",
       "0          NaN        0       3    2010        WD      130500  \n",
       "1          NaN        0       4    2009        WD      220000  \n",
       "2          NaN        0       1    2010        WD      109000  \n",
       "3          NaN        0       4    2010        WD      174000  \n",
       "4          NaN        0       3    2010        WD      138500  \n",
       "\n",
       "[5 rows x 81 columns]"
      ]
     },
     "execution_count": 791,
     "metadata": {},
     "output_type": "execute_result"
    }
   ],
   "source": [
    "#Getting a high level overview of the data\n",
    "train.info()\n",
    "train.shape\n",
    "train.head()"
   ]
  },
  {
   "cell_type": "markdown",
   "id": "7a1ddfee",
   "metadata": {},
   "source": [
    "# Data Cleaning and Exploration\n",
    "This section includes:\n",
    "1. Exploring features with explicit null values\n",
    "2. Data Cleaning\n",
    "    - Continuous features\n",
    "    - Categorical features"
   ]
  },
  {
   "cell_type": "markdown",
   "id": "416d01fc",
   "metadata": {},
   "source": [
    "## Exploring features with explicit null values\n",
    "\n",
    "Data points that are not required will be removed (ie. homes in bad condition) and features with null values will be explored. To retain rows as much as possible and recode nulls to a new category."
   ]
  },
  {
   "cell_type": "code",
   "execution_count": 792,
   "id": "8317d537",
   "metadata": {
    "scrolled": false
   },
   "outputs": [
    {
     "data": {
      "text/plain": [
       "pool_qc           2042\n",
       "misc_feature      1986\n",
       "alley             1911\n",
       "fence             1651\n",
       "fireplace_qu      1000\n",
       "lot_frontage       330\n",
       "garage_finish      114\n",
       "garage_qual        114\n",
       "garage_yr_blt      114\n",
       "garage_cond        114\n",
       "garage_type        113\n",
       "bsmt_exposure       58\n",
       "bsmtfin_type_2      56\n",
       "bsmtfin_type_1      55\n",
       "bsmt_cond           55\n",
       "bsmt_qual           55\n",
       "mas_vnr_area        22\n",
       "mas_vnr_type        22\n",
       "bsmt_half_bath       2\n",
       "bsmt_full_bath       2\n",
       "garage_area          1\n",
       "total_bsmt_sf        1\n",
       "bsmt_unf_sf          1\n",
       "bsmtfin_sf_2         1\n",
       "bsmtfin_sf_1         1\n",
       "garage_cars          1\n",
       "mo_sold              0\n",
       "sale_type            0\n",
       "full_bath            0\n",
       "half_bath            0\n",
       "dtype: int64"
      ]
     },
     "execution_count": 792,
     "metadata": {},
     "output_type": "execute_result"
    }
   ],
   "source": [
    "train.isnull().sum().sort_values(ascending=False).head(30) #"
   ]
  },
  {
   "cell_type": "markdown",
   "id": "98ec1204",
   "metadata": {},
   "source": [
    "#### Cleaning features with multiple explicit NAs"
   ]
  },
  {
   "cell_type": "code",
   "execution_count": 793,
   "id": "d93c4e69",
   "metadata": {},
   "outputs": [
    {
     "data": {
      "text/plain": [
       "pool_qc\n",
       "Ex        1\n",
       "Fa        2\n",
       "Gd        4\n",
       "TA        2\n",
       "NaN    2042\n",
       "Name: pool_area, dtype: int64"
      ]
     },
     "execution_count": 793,
     "metadata": {},
     "output_type": "execute_result"
    }
   ],
   "source": [
    "# View pool values\n",
    "train.groupby('pool_qc', dropna=False)['pool_area'].count()"
   ]
  },
  {
   "cell_type": "code",
   "execution_count": 794,
   "id": "127b3061",
   "metadata": {},
   "outputs": [],
   "source": [
    "# Clean pool values\n",
    "train.drop('pool_qc', axis = 1, inplace = True)           # remove pool QC as counts are low\n",
    "                                                          # few homes with pool\n",
    "    \n",
    "train['pool_area'] = [ x if x == 0 else 1 for x in train['pool_area']] \n",
    "                                                          # convert Pool Area to binary variable\n",
    "                                                          # representing pool or no pool\n",
    "train.rename(columns={\"pool_area\": \"pool\"}, inplace=True)\n",
    "                                                          # rename pool_area to pool"
   ]
  },
  {
   "cell_type": "code",
   "execution_count": 795,
   "id": "2266dcc1",
   "metadata": {},
   "outputs": [
    {
     "data": {
      "text/plain": [
       "Shed    56\n",
       "Gar2     4\n",
       "Othr     3\n",
       "TenC     1\n",
       "Elev     1\n",
       "Name: misc_feature, dtype: int64"
      ]
     },
     "execution_count": 795,
     "metadata": {},
     "output_type": "execute_result"
    }
   ],
   "source": [
    "# View misc_feature\n",
    "train['misc_feature'].value_counts()"
   ]
  },
  {
   "cell_type": "code",
   "execution_count": 796,
   "id": "33d6bf70",
   "metadata": {},
   "outputs": [],
   "source": [
    "# Clean misc_feature\n",
    "train.drop('misc_feature', axis=1, inplace=True) # random features with low counts\n",
    "                                                 # to remove"
   ]
  },
  {
   "cell_type": "code",
   "execution_count": 797,
   "id": "af7fb561",
   "metadata": {},
   "outputs": [
    {
     "data": {
      "text/html": [
       "<div>\n",
       "<style scoped>\n",
       "    .dataframe tbody tr th:only-of-type {\n",
       "        vertical-align: middle;\n",
       "    }\n",
       "\n",
       "    .dataframe tbody tr th {\n",
       "        vertical-align: top;\n",
       "    }\n",
       "\n",
       "    .dataframe thead th {\n",
       "        text-align: right;\n",
       "    }\n",
       "</style>\n",
       "<table border=\"1\" class=\"dataframe\">\n",
       "  <thead>\n",
       "    <tr style=\"text-align: right;\">\n",
       "      <th></th>\n",
       "      <th>alley</th>\n",
       "      <th>saleprice</th>\n",
       "    </tr>\n",
       "    <tr>\n",
       "      <th>alley</th>\n",
       "      <th></th>\n",
       "      <th></th>\n",
       "    </tr>\n",
       "  </thead>\n",
       "  <tbody>\n",
       "    <tr>\n",
       "      <th>Grvl</th>\n",
       "      <td>85</td>\n",
       "      <td>85</td>\n",
       "    </tr>\n",
       "    <tr>\n",
       "      <th>Pave</th>\n",
       "      <td>55</td>\n",
       "      <td>55</td>\n",
       "    </tr>\n",
       "    <tr>\n",
       "      <th>NaN</th>\n",
       "      <td>0</td>\n",
       "      <td>1911</td>\n",
       "    </tr>\n",
       "  </tbody>\n",
       "</table>\n",
       "</div>"
      ],
      "text/plain": [
       "       alley  saleprice\n",
       "alley                  \n",
       "Grvl      85         85\n",
       "Pave      55         55\n",
       "NaN        0       1911"
      ]
     },
     "execution_count": 797,
     "metadata": {},
     "output_type": "execute_result"
    }
   ],
   "source": [
    "# View alley values\n",
    "train.groupby('alley', dropna=False)[['alley', 'saleprice']].count()"
   ]
  },
  {
   "cell_type": "code",
   "execution_count": 798,
   "id": "f9f1bc61",
   "metadata": {},
   "outputs": [],
   "source": [
    "# Clean alley values\n",
    "train['alley'].fillna('no_alley', inplace=True) # fill Alley NA with \"No Alley\""
   ]
  },
  {
   "cell_type": "code",
   "execution_count": 799,
   "id": "e56b4498",
   "metadata": {},
   "outputs": [
    {
     "data": {
      "text/html": [
       "<div>\n",
       "<style scoped>\n",
       "    .dataframe tbody tr th:only-of-type {\n",
       "        vertical-align: middle;\n",
       "    }\n",
       "\n",
       "    .dataframe tbody tr th {\n",
       "        vertical-align: top;\n",
       "    }\n",
       "\n",
       "    .dataframe thead th {\n",
       "        text-align: right;\n",
       "    }\n",
       "</style>\n",
       "<table border=\"1\" class=\"dataframe\">\n",
       "  <thead>\n",
       "    <tr style=\"text-align: right;\">\n",
       "      <th></th>\n",
       "      <th>fence</th>\n",
       "      <th>saleprice</th>\n",
       "    </tr>\n",
       "    <tr>\n",
       "      <th>fence</th>\n",
       "      <th></th>\n",
       "      <th></th>\n",
       "    </tr>\n",
       "  </thead>\n",
       "  <tbody>\n",
       "    <tr>\n",
       "      <th>GdPrv</th>\n",
       "      <td>83</td>\n",
       "      <td>83</td>\n",
       "    </tr>\n",
       "    <tr>\n",
       "      <th>GdWo</th>\n",
       "      <td>80</td>\n",
       "      <td>80</td>\n",
       "    </tr>\n",
       "    <tr>\n",
       "      <th>MnPrv</th>\n",
       "      <td>227</td>\n",
       "      <td>227</td>\n",
       "    </tr>\n",
       "    <tr>\n",
       "      <th>MnWw</th>\n",
       "      <td>10</td>\n",
       "      <td>10</td>\n",
       "    </tr>\n",
       "    <tr>\n",
       "      <th>NaN</th>\n",
       "      <td>0</td>\n",
       "      <td>1651</td>\n",
       "    </tr>\n",
       "  </tbody>\n",
       "</table>\n",
       "</div>"
      ],
      "text/plain": [
       "       fence  saleprice\n",
       "fence                  \n",
       "GdPrv     83         83\n",
       "GdWo      80         80\n",
       "MnPrv    227        227\n",
       "MnWw      10         10\n",
       "NaN        0       1651"
      ]
     },
     "execution_count": 799,
     "metadata": {},
     "output_type": "execute_result"
    }
   ],
   "source": [
    "# View fence values\n",
    "train.groupby('fence', dropna=False)[['fence', 'saleprice']].count()"
   ]
  },
  {
   "cell_type": "code",
   "execution_count": 800,
   "id": "a89c90fd",
   "metadata": {},
   "outputs": [],
   "source": [
    "# Clean fence values\n",
    "train['fence'].fillna('no_fence', inplace=True) # fill fence NA with \"no_Fence\""
   ]
  },
  {
   "cell_type": "code",
   "execution_count": 801,
   "id": "622af628",
   "metadata": {},
   "outputs": [
    {
     "data": {
      "text/plain": [
       "fireplace_qu\n",
       "Ex       31\n",
       "Fa       59\n",
       "Gd      523\n",
       "Po       31\n",
       "TA      407\n",
       "NaN    1000\n",
       "Name: fireplaces, dtype: int64"
      ]
     },
     "execution_count": 801,
     "metadata": {},
     "output_type": "execute_result"
    }
   ],
   "source": [
    "# View fireplace_qu values\n",
    "train.groupby('fireplace_qu', dropna=False)['fireplaces'].count()\n",
    "                            # all fireplace_qu NA have 0 fireplaces"
   ]
  },
  {
   "cell_type": "code",
   "execution_count": 802,
   "id": "8142a442",
   "metadata": {},
   "outputs": [],
   "source": [
    "# Clean freplace_qu values\n",
    "train['fireplace_qu'].fillna('non', inplace=True) # fill fireplace_qu NA with \"no_fireplace\""
   ]
  },
  {
   "cell_type": "code",
   "execution_count": 803,
   "id": "3c2dcdc9",
   "metadata": {},
   "outputs": [
    {
     "data": {
      "text/plain": [
       "(22, 2)"
      ]
     },
     "execution_count": 803,
     "metadata": {},
     "output_type": "execute_result"
    }
   ],
   "source": [
    "# View mas_vnr NA values\n",
    "train.loc[train['mas_vnr_type'].isnull(), ['mas_vnr_type', 'mas_vnr_area']].shape\n"
   ]
  },
  {
   "cell_type": "code",
   "execution_count": 804,
   "id": "b1f2641a",
   "metadata": {},
   "outputs": [],
   "source": [
    "# Clean mas_vnr values\n",
    "train.fillna({\n",
    "    'mas_vnr_type' : 'non', # fill NA with 'no_mas'\n",
    "    'mas_vnr_area' : 0,  # fill NA with '0\n",
    "}, inplace=True) "
   ]
  },
  {
   "cell_type": "code",
   "execution_count": 805,
   "id": "a007ffb6",
   "metadata": {},
   "outputs": [
    {
     "data": {
      "text/plain": [
       "330"
      ]
     },
     "execution_count": 805,
     "metadata": {},
     "output_type": "execute_result"
    },
    {
     "data": {
      "image/png": "[encoded data removed]",
      "text/plain": [
       "<Figure size 432x288 with 1 Axes>"
      ]
     },
     "metadata": {
      "needs_background": "light"
     },
     "output_type": "display_data"
    }
   ],
   "source": [
    "# View lot_frontage\n",
    "#train['lot_frontage'].hist(bins=50)\n",
    "plt.hist(train['lot_frontage'], bins=50)\n",
    "plt.ylabel('saleprice')\n",
    "plt.xlabel('lot_frontage');\n",
    "train['lot_frontage'].isnull().sum()"
   ]
  },
  {
   "cell_type": "code",
   "execution_count": 806,
   "id": "51fd7b0a",
   "metadata": {},
   "outputs": [],
   "source": [
    "# Clean lot_frontage\n",
    "train['lot_frontage'].fillna(0, inplace=True)\n",
    "                        # likely represents homes with no front\n",
    "                        # noted that fillna 0 will cause a spike at 0\n",
    "\n",
    "                        # outlier noticed where lot_frontage > 300\n",
    "                        # to further assess during eda below"
   ]
  },
  {
   "cell_type": "code",
   "execution_count": 807,
   "id": "38670af8",
   "metadata": {},
   "outputs": [
    {
     "data": {
      "text/plain": [
       "garage_type      113\n",
       "garage_yr_blt    114\n",
       "garage_finish    114\n",
       "garage_cars        1\n",
       "garage_area        1\n",
       "garage_qual      114\n",
       "garage_cond      114\n",
       "dtype: int64"
      ]
     },
     "execution_count": 807,
     "metadata": {},
     "output_type": "execute_result"
    }
   ],
   "source": [
    "# View garage NA values\n",
    "garage_col = [col for col in list(train.columns) if 'garage' in col] # retrieve garage related variables\n",
    "garage_na = train.loc[train['garage_finish'].isnull(), garage_col] # Dataframe with Garage NAs\n",
    "train[garage_col].isnull().sum() == garage_na.isnull().sum() # check that our sub-df is getting all NAs in Garage\n",
    "\n",
    "train[garage_col].dtypes # view data types\n",
    "                         # data types correspond to data dictionary\n",
    "\n",
    "garage_na.isnull().sum() # view garage NAs"
   ]
  },
  {
   "cell_type": "code",
   "execution_count": 808,
   "id": "4d5fe798",
   "metadata": {},
   "outputs": [
    {
     "data": {
      "image/png": "[encoded data removed]",
      "text/plain": [
       "<Figure size 432x288 with 1 Axes>"
      ]
     },
     "metadata": {
      "needs_background": "light"
     },
     "output_type": "display_data"
    }
   ],
   "source": [
    "# View garage_yr_blt\n",
    "plt.hist(train['garage_yr_blt'], bins=50)\n",
    "plt.ylabel('Counts')\n",
    "plt.xlabel('garage_yr_blt')\n",
    "plt.title('Histogram of garage_yr_blt', fontsize=15);\n",
    "\n",
    "\n"
   ]
  },
  {
   "cell_type": "code",
   "execution_count": 809,
   "id": "2e44dd91",
   "metadata": {},
   "outputs": [],
   "source": [
    "# View garage_yr_blt - errorneous value\n",
    "train[train['garage_yr_blt']>2010]['garage_yr_blt']             # only 1 errorneous value\n",
    "train[train['garage_yr_blt']==2207][['year_built', 'yr_sold']]  # assess possible replacements\n",
    "                                                                # since house built 2006 and sold 2007,\n",
    "                                                                # fill garage_yr_blt as 2006\n",
    "train.loc[train['garage_yr_blt']==2207, 'garage_yr_blt']=2006 "
   ]
  },
  {
   "cell_type": "code",
   "execution_count": 810,
   "id": "cdad236f",
   "metadata": {},
   "outputs": [
    {
     "name": "stdout",
     "output_type": "stream",
     "text": [
      "106065.99122807017\n",
      "118341.0\n"
     ]
    },
    {
     "data": {
      "image/png": "[encoded data removed]",
      "text/plain": [
       "<Figure size 432x288 with 1 Axes>"
      ]
     },
     "metadata": {
      "needs_background": "light"
     },
     "output_type": "display_data"
    }
   ],
   "source": [
    "# View garage_yr_blt - homes with no garage\n",
    "# to fill with reasonable year\n",
    "plt.hist(train['garage_yr_blt'], bins=50)  # density=False would make counts\n",
    "plt.ylabel('Counts')\n",
    "plt.xlabel('garage_yr_blt')\n",
    "plt.title('Histogram of garage_yr_blt', fontsize=15);\n",
    "\n",
    "print(train.loc[train['garage_yr_blt'].isnull(),:]['saleprice'].mean())\n",
    "print(train.loc[(train['garage_yr_blt']>1905) & (train['garage_yr_blt']<1915),\n",
    "                :]['saleprice'].mean())   # mean similar to above\n",
    "\n",
    "train['garage_yr_blt'] = train['garage_yr_blt'].fillna(1910)          # fill garage_yr_blt with 1910\n"
   ]
  },
  {
   "cell_type": "code",
   "execution_count": 811,
   "id": "0df2ccbe",
   "metadata": {},
   "outputs": [],
   "source": [
    "# Clean garage NA values\n",
    "# For Index 1712, feature 'Garage Type', edit NA to 'no_Garage'\n",
    "# For all other Garage features, edit to 'no_garage' or 0\n",
    "\n",
    "train.loc[(train['garage_area'].isnull()) & \n",
    "          (train['garage_type'] == 'Detchd'), 'garage_type'] = np.nan\n",
    "\n",
    "train.fillna({\n",
    "    'garage_type':'non',\n",
    "    'garage_finish':'non',\n",
    "    'garage_qual':'non',\n",
    "    'garage_cond':'non',\n",
    "    'garage_cars' : 0,\n",
    "    'garage_area' : 0\n",
    "}, inplace=True)\n"
   ]
  },
  {
   "cell_type": "code",
   "execution_count": 812,
   "id": "253c7b27",
   "metadata": {},
   "outputs": [
    {
     "data": {
      "text/plain": [
       "bsmt_qual         55\n",
       "bsmt_cond         55\n",
       "bsmt_exposure     58\n",
       "bsmtfin_type_1    55\n",
       "bsmtfin_sf_1       1\n",
       "bsmtfin_type_2    56\n",
       "bsmtfin_sf_2       1\n",
       "bsmt_unf_sf        1\n",
       "total_bsmt_sf      1\n",
       "bsmt_full_bath     2\n",
       "bsmt_half_bath     2\n",
       "dtype: int64"
      ]
     },
     "execution_count": 812,
     "metadata": {},
     "output_type": "execute_result"
    }
   ],
   "source": [
    "# View Bsmt NA values\n",
    "bsmt_col = [col for col in list(train.columns) if 'bsmt' in col] # retrieve Bsmt related variables\n",
    "bsmt_na = train.loc[((train['bsmt_exposure'].isnull()) | \n",
    "                    (train['bsmtfin_type_2'].isnull())), bsmt_col] # df with Bsmt NAs\n",
    "\n",
    "train[bsmt_col].isnull().sum() == bsmt_na.isnull().sum()  # check that our sliced dataframe is\n",
    "                                                          # getting all NAs in Bsmt variables from main df\n",
    "\n",
    "train[bsmt_col].dtypes # view data types\n",
    "                       # data types correspond to data dictionary\n",
    "bsmt_na.isnull().sum() # df with Garage NAs"
   ]
  },
  {
   "cell_type": "code",
   "execution_count": 813,
   "id": "312a0cf1",
   "metadata": {},
   "outputs": [
    {
     "data": {
      "text/html": [
       "<div>\n",
       "<style scoped>\n",
       "    .dataframe tbody tr th:only-of-type {\n",
       "        vertical-align: middle;\n",
       "    }\n",
       "\n",
       "    .dataframe tbody tr th {\n",
       "        vertical-align: top;\n",
       "    }\n",
       "\n",
       "    .dataframe thead th {\n",
       "        text-align: right;\n",
       "    }\n",
       "</style>\n",
       "<table border=\"1\" class=\"dataframe\">\n",
       "  <thead>\n",
       "    <tr style=\"text-align: right;\">\n",
       "      <th></th>\n",
       "      <th>bsmt_qual</th>\n",
       "      <th>bsmt_cond</th>\n",
       "      <th>bsmt_exposure</th>\n",
       "      <th>bsmtfin_type_1</th>\n",
       "      <th>bsmtfin_sf_1</th>\n",
       "      <th>bsmtfin_type_2</th>\n",
       "      <th>bsmtfin_sf_2</th>\n",
       "      <th>bsmt_unf_sf</th>\n",
       "      <th>total_bsmt_sf</th>\n",
       "      <th>bsmt_full_bath</th>\n",
       "      <th>bsmt_half_bath</th>\n",
       "    </tr>\n",
       "  </thead>\n",
       "  <tbody>\n",
       "    <tr>\n",
       "      <th>1147</th>\n",
       "      <td>Gd</td>\n",
       "      <td>TA</td>\n",
       "      <td>No</td>\n",
       "      <td>GLQ</td>\n",
       "      <td>1124.0</td>\n",
       "      <td>NaN</td>\n",
       "      <td>479.0</td>\n",
       "      <td>1603.0</td>\n",
       "      <td>3206.0</td>\n",
       "      <td>1.0</td>\n",
       "      <td>0.0</td>\n",
       "    </tr>\n",
       "    <tr>\n",
       "      <th>1456</th>\n",
       "      <td>Gd</td>\n",
       "      <td>TA</td>\n",
       "      <td>NaN</td>\n",
       "      <td>Unf</td>\n",
       "      <td>0.0</td>\n",
       "      <td>Unf</td>\n",
       "      <td>0.0</td>\n",
       "      <td>725.0</td>\n",
       "      <td>725.0</td>\n",
       "      <td>0.0</td>\n",
       "      <td>0.0</td>\n",
       "    </tr>\n",
       "    <tr>\n",
       "      <th>1547</th>\n",
       "      <td>Gd</td>\n",
       "      <td>TA</td>\n",
       "      <td>NaN</td>\n",
       "      <td>Unf</td>\n",
       "      <td>0.0</td>\n",
       "      <td>Unf</td>\n",
       "      <td>0.0</td>\n",
       "      <td>1595.0</td>\n",
       "      <td>1595.0</td>\n",
       "      <td>0.0</td>\n",
       "      <td>0.0</td>\n",
       "    </tr>\n",
       "    <tr>\n",
       "      <th>1997</th>\n",
       "      <td>Gd</td>\n",
       "      <td>TA</td>\n",
       "      <td>NaN</td>\n",
       "      <td>Unf</td>\n",
       "      <td>0.0</td>\n",
       "      <td>Unf</td>\n",
       "      <td>0.0</td>\n",
       "      <td>936.0</td>\n",
       "      <td>936.0</td>\n",
       "      <td>0.0</td>\n",
       "      <td>0.0</td>\n",
       "    </tr>\n",
       "  </tbody>\n",
       "</table>\n",
       "</div>"
      ],
      "text/plain": [
       "     bsmt_qual bsmt_cond bsmt_exposure bsmtfin_type_1  bsmtfin_sf_1  \\\n",
       "1147        Gd        TA            No            GLQ        1124.0   \n",
       "1456        Gd        TA           NaN            Unf           0.0   \n",
       "1547        Gd        TA           NaN            Unf           0.0   \n",
       "1997        Gd        TA           NaN            Unf           0.0   \n",
       "\n",
       "     bsmtfin_type_2  bsmtfin_sf_2  bsmt_unf_sf  total_bsmt_sf  bsmt_full_bath  \\\n",
       "1147            NaN         479.0       1603.0         3206.0             1.0   \n",
       "1456            Unf           0.0        725.0          725.0             0.0   \n",
       "1547            Unf           0.0       1595.0         1595.0             0.0   \n",
       "1997            Unf           0.0        936.0          936.0             0.0   \n",
       "\n",
       "      bsmt_half_bath  \n",
       "1147             0.0  \n",
       "1456             0.0  \n",
       "1547             0.0  \n",
       "1997             0.0  "
      ]
     },
     "execution_count": 813,
     "metadata": {},
     "output_type": "execute_result"
    }
   ],
   "source": [
    "# View Bsmt NA values\n",
    "bsmt_na.loc[bsmt_na['bsmt_qual'].notnull(),:]   \n",
    "                        # Deductive imputation performed for Index 1147, col bsmtfin_type_2\n",
    "                        # change cell from NA to Unf"
   ]
  },
  {
   "cell_type": "code",
   "execution_count": 814,
   "id": "8a93f5e7",
   "metadata": {},
   "outputs": [
    {
     "data": {
      "text/plain": [
       "bsmt_qual  bsmt_cond  bsmt_exposure\n",
       "Ex         Gd         Av                 4\n",
       "                      Gd                 3\n",
       "                      Mn                 1\n",
       "                      No                12\n",
       "           Po         No                 1\n",
       "           TA         Av                37\n",
       "                      Gd                66\n",
       "                      Mn                14\n",
       "                      No                46\n",
       "Fa         Fa         Mn                 2\n",
       "                      No                12\n",
       "           Gd         Mn                 1\n",
       "                      No                 1\n",
       "           Po         Gd                 1\n",
       "                      No                 2\n",
       "           TA         Gd                 1\n",
       "                      Mn                 5\n",
       "                      No                35\n",
       "Gd         Ex         Mn                 1\n",
       "           Fa         Mn                 1\n",
       "                      No                 2\n",
       "           Gd         Av                 8\n",
       "                      Gd                11\n",
       "                      Mn                 5\n",
       "                      No                23\n",
       "           TA         Av               173\n",
       "                      Gd                95\n",
       "                      Mn                69\n",
       "                      No               473\n",
       "Po         Fa         No                 1\n",
       "TA         Ex         Av                 1\n",
       "                      No                 1\n",
       "           Fa         Gd                 1\n",
       "                      Mn                 3\n",
       "                      No                43\n",
       "           Gd         Av                 3\n",
       "                      Gd                 5\n",
       "                      Mn                 1\n",
       "                      No                11\n",
       "           Po         No                 1\n",
       "           TA         Av                62\n",
       "                      Gd                20\n",
       "                      Mn                60\n",
       "                      No               675\n",
       "Name: bsmt_exposure, dtype: int64"
      ]
     },
     "execution_count": 814,
     "metadata": {},
     "output_type": "execute_result"
    }
   ],
   "source": [
    "# View Bsmt NA values\n",
    "train.groupby(['bsmt_qual', 'bsmt_cond', 'bsmt_exposure'])\\\n",
    "    ['bsmt_exposure'].count()\n",
    "\n",
    "                                # Deductive imputation for Bsmt Exposure\n",
    "                                # Most common value for 'Bsmt Qual' == 'Gd' and 'Bsmt Cond' == 'TA' \n",
    "                                # is 'No'"
   ]
  },
  {
   "cell_type": "code",
   "execution_count": 815,
   "id": "3e7b030f",
   "metadata": {},
   "outputs": [],
   "source": [
    "# View Bsmt NA values\n",
    "# For Index- 1147, feature 'BsmtFun Type 2', edit np.nan to 'Unf'\n",
    "# For Index [1156, 1547, 1997], feature 'Bsmt Exposure', edit np.nan to 'No'\n",
    "# For all other Bsmt features, edit to 'no_bsmt' or 0\n",
    "\n",
    "train.loc[1147, 'bsmtfin_type_2'] = 'Unf'\n",
    "train.loc[[1456, 1547, 1997], 'bsmt_exposure'] = 'No'\n",
    "\n",
    "train.fillna({\n",
    "    'bsmt_qual':'non',\n",
    "    'bsmt_cond':'non',\n",
    "    'bsmt_exposure':'non',\n",
    "    'bsmtfin_type_1':'non',\n",
    "    'bsmtfin_sf_1' : 0,\n",
    "    'bsmtfin_type_2' : 'non',\n",
    "    'bsmtfin_sf_2' : 0,\n",
    "    'bsmt_unf_sf' : 0,\n",
    "    'total_bsmt_sf' : 0,\n",
    "    'bsmt_full_bath' : 0,\n",
    "    'bsmt_half_bath' : 0,  \n",
    "}, inplace=True)"
   ]
  },
  {
   "cell_type": "code",
   "execution_count": 816,
   "id": "d3709655",
   "metadata": {},
   "outputs": [
    {
     "data": {
      "text/plain": [
       "id              0\n",
       "pid             0\n",
       "ms_subclass     0\n",
       "ms_zoning       0\n",
       "lot_frontage    0\n",
       "               ..\n",
       "misc_val        0\n",
       "mo_sold         0\n",
       "yr_sold         0\n",
       "sale_type       0\n",
       "saleprice       0\n",
       "Length: 79, dtype: int64"
      ]
     },
     "execution_count": 816,
     "metadata": {},
     "output_type": "execute_result"
    }
   ],
   "source": [
    "#check that there are no more NAs\n",
    "train.isnull().sum()"
   ]
  },
  {
   "cell_type": "code",
   "execution_count": 817,
   "id": "dd0a2057",
   "metadata": {},
   "outputs": [],
   "source": [
    "# change year_built and garage_yr_blt to age\n",
    "\n",
    "train['garage_yr_blt'] = 2010 - train['garage_yr_blt']\n",
    "train['year_built'] = 2010 - train['year_built']\n",
    "\n",
    "# rename columns\n",
    "train.rename(columns={\"garage_yr_blt\": \"garage_age\", \"year_built\": \"house_age\"}, inplace=True)"
   ]
  },
  {
   "cell_type": "markdown",
   "id": "a55f34c8",
   "metadata": {},
   "source": [
    "## Data Cleaning"
   ]
  },
  {
   "cell_type": "markdown",
   "id": "ef6714af",
   "metadata": {},
   "source": [
    "1. Split dataset into those classified as numeric and categorical.\n",
    "2. Ensure that numeric data is intended to be numeric according to data dictionary.\n",
    "3. Ensure that categorical/ordinal data is correct according to data dictionary. Convert ordinal to continuous where reasonable.\n",
    "4. To further clean or remove odd features"
   ]
  },
  {
   "cell_type": "markdown",
   "id": "a282c147",
   "metadata": {},
   "source": [
    "### Continuous Features"
   ]
  },
  {
   "cell_type": "code",
   "execution_count": 818,
   "id": "cc92ede3",
   "metadata": {},
   "outputs": [],
   "source": [
    "# create function to convery ordinal scales to continuous\n",
    "def ordto_con(category):\n",
    "    if type(category) == str:\n",
    "        if category == 'non':\n",
    "            return 0\n",
    "        elif category == 'Po':\n",
    "            return 1\n",
    "        elif category == 'Fa':\n",
    "            return 2\n",
    "        elif category ==  'TA':\n",
    "            return 3\n",
    "        elif category == 'Gd':\n",
    "            return 4\n",
    "        elif category == 'Ex':\n",
    "            return 5\n",
    "        else:\n",
    "            return np.nan\n",
    "    else:\n",
    "        return category"
   ]
  },
  {
   "cell_type": "code",
   "execution_count": 819,
   "id": "039c7348",
   "metadata": {},
   "outputs": [
    {
     "name": "stdout",
     "output_type": "stream",
     "text": [
      "(2051, 39)\n",
      "(2051, 40)\n"
     ]
    }
   ],
   "source": [
    "# reference point for number of numeric and categorical features at the start\n",
    "num_features = train.select_dtypes([np.number])\n",
    "cat_features = train.select_dtypes(include='object')\n",
    "print(num_features.shape)\n",
    "print(cat_features.shape)"
   ]
  },
  {
   "cell_type": "code",
   "execution_count": 820,
   "id": "ab1243df",
   "metadata": {},
   "outputs": [
    {
     "data": {
      "text/html": [
       "<div>\n",
       "<style scoped>\n",
       "    .dataframe tbody tr th:only-of-type {\n",
       "        vertical-align: middle;\n",
       "    }\n",
       "\n",
       "    .dataframe tbody tr th {\n",
       "        vertical-align: top;\n",
       "    }\n",
       "\n",
       "    .dataframe thead th {\n",
       "        text-align: right;\n",
       "    }\n",
       "</style>\n",
       "<table border=\"1\" class=\"dataframe\">\n",
       "  <thead>\n",
       "    <tr style=\"text-align: right;\">\n",
       "      <th></th>\n",
       "      <th>id</th>\n",
       "      <th>pid</th>\n",
       "      <th>ms_subclass</th>\n",
       "      <th>lot_frontage</th>\n",
       "      <th>lot_area</th>\n",
       "      <th>overall_qual</th>\n",
       "      <th>overall_cond</th>\n",
       "      <th>house_age</th>\n",
       "    </tr>\n",
       "  </thead>\n",
       "  <tbody>\n",
       "    <tr>\n",
       "      <th>count</th>\n",
       "      <td>2051.000000</td>\n",
       "      <td>2.051000e+03</td>\n",
       "      <td>2051.000000</td>\n",
       "      <td>2051.000000</td>\n",
       "      <td>2051.000000</td>\n",
       "      <td>2051.000000</td>\n",
       "      <td>2051.000000</td>\n",
       "      <td>2051.000000</td>\n",
       "    </tr>\n",
       "    <tr>\n",
       "      <th>mean</th>\n",
       "      <td>1474.033642</td>\n",
       "      <td>7.135900e+08</td>\n",
       "      <td>57.008776</td>\n",
       "      <td>57.944417</td>\n",
       "      <td>10065.208191</td>\n",
       "      <td>6.112140</td>\n",
       "      <td>5.562165</td>\n",
       "      <td>38.291078</td>\n",
       "    </tr>\n",
       "    <tr>\n",
       "      <th>std</th>\n",
       "      <td>843.980841</td>\n",
       "      <td>1.886918e+08</td>\n",
       "      <td>42.824223</td>\n",
       "      <td>33.137332</td>\n",
       "      <td>6742.488909</td>\n",
       "      <td>1.426271</td>\n",
       "      <td>1.104497</td>\n",
       "      <td>30.177889</td>\n",
       "    </tr>\n",
       "    <tr>\n",
       "      <th>min</th>\n",
       "      <td>1.000000</td>\n",
       "      <td>5.263011e+08</td>\n",
       "      <td>20.000000</td>\n",
       "      <td>0.000000</td>\n",
       "      <td>1300.000000</td>\n",
       "      <td>1.000000</td>\n",
       "      <td>1.000000</td>\n",
       "      <td>0.000000</td>\n",
       "    </tr>\n",
       "    <tr>\n",
       "      <th>25%</th>\n",
       "      <td>753.500000</td>\n",
       "      <td>5.284581e+08</td>\n",
       "      <td>20.000000</td>\n",
       "      <td>43.500000</td>\n",
       "      <td>7500.000000</td>\n",
       "      <td>5.000000</td>\n",
       "      <td>5.000000</td>\n",
       "      <td>9.000000</td>\n",
       "    </tr>\n",
       "    <tr>\n",
       "      <th>50%</th>\n",
       "      <td>1486.000000</td>\n",
       "      <td>5.354532e+08</td>\n",
       "      <td>50.000000</td>\n",
       "      <td>63.000000</td>\n",
       "      <td>9430.000000</td>\n",
       "      <td>6.000000</td>\n",
       "      <td>5.000000</td>\n",
       "      <td>36.000000</td>\n",
       "    </tr>\n",
       "    <tr>\n",
       "      <th>75%</th>\n",
       "      <td>2198.000000</td>\n",
       "      <td>9.071801e+08</td>\n",
       "      <td>70.000000</td>\n",
       "      <td>78.000000</td>\n",
       "      <td>11513.500000</td>\n",
       "      <td>7.000000</td>\n",
       "      <td>6.000000</td>\n",
       "      <td>56.500000</td>\n",
       "    </tr>\n",
       "    <tr>\n",
       "      <th>max</th>\n",
       "      <td>2930.000000</td>\n",
       "      <td>9.241520e+08</td>\n",
       "      <td>190.000000</td>\n",
       "      <td>313.000000</td>\n",
       "      <td>159000.000000</td>\n",
       "      <td>10.000000</td>\n",
       "      <td>9.000000</td>\n",
       "      <td>138.000000</td>\n",
       "    </tr>\n",
       "  </tbody>\n",
       "</table>\n",
       "</div>"
      ],
      "text/plain": [
       "                id           pid  ms_subclass  lot_frontage       lot_area  \\\n",
       "count  2051.000000  2.051000e+03  2051.000000   2051.000000    2051.000000   \n",
       "mean   1474.033642  7.135900e+08    57.008776     57.944417   10065.208191   \n",
       "std     843.980841  1.886918e+08    42.824223     33.137332    6742.488909   \n",
       "min       1.000000  5.263011e+08    20.000000      0.000000    1300.000000   \n",
       "25%     753.500000  5.284581e+08    20.000000     43.500000    7500.000000   \n",
       "50%    1486.000000  5.354532e+08    50.000000     63.000000    9430.000000   \n",
       "75%    2198.000000  9.071801e+08    70.000000     78.000000   11513.500000   \n",
       "max    2930.000000  9.241520e+08   190.000000    313.000000  159000.000000   \n",
       "\n",
       "       overall_qual  overall_cond    house_age  \n",
       "count   2051.000000   2051.000000  2051.000000  \n",
       "mean       6.112140      5.562165    38.291078  \n",
       "std        1.426271      1.104497    30.177889  \n",
       "min        1.000000      1.000000     0.000000  \n",
       "25%        5.000000      5.000000     9.000000  \n",
       "50%        6.000000      5.000000    36.000000  \n",
       "75%        7.000000      6.000000    56.500000  \n",
       "max       10.000000      9.000000   138.000000  "
      ]
     },
     "execution_count": 820,
     "metadata": {},
     "output_type": "execute_result"
    }
   ],
   "source": [
    "# exploration of numeric features slice 1\n",
    "num_features.iloc[:,:8].describe()\n"
   ]
  },
  {
   "cell_type": "code",
   "execution_count": 821,
   "id": "300e81ed",
   "metadata": {},
   "outputs": [],
   "source": [
    "# Most variables of known range are correct(e.g. overall_qual)\n",
    "\n",
    "# to remove 'id number' type variables\n",
    "# recategorise wrongly classified variable (ms_subclass)\n",
    "\n",
    "# id to remove\n",
    "# pid to remove\n",
    "train.drop(['pid', 'id'], axis=1, inplace=True)\n",
    "\n",
    "# ms_subclass to change to categorical\n",
    "train['ms_subclass'] = train['ms_subclass'].astype(str)"
   ]
  },
  {
   "cell_type": "code",
   "execution_count": 822,
   "id": "7233645c",
   "metadata": {},
   "outputs": [
    {
     "data": {
      "text/html": [
       "<div>\n",
       "<style scoped>\n",
       "    .dataframe tbody tr th:only-of-type {\n",
       "        vertical-align: middle;\n",
       "    }\n",
       "\n",
       "    .dataframe tbody tr th {\n",
       "        vertical-align: top;\n",
       "    }\n",
       "\n",
       "    .dataframe thead th {\n",
       "        text-align: right;\n",
       "    }\n",
       "</style>\n",
       "<table border=\"1\" class=\"dataframe\">\n",
       "  <thead>\n",
       "    <tr style=\"text-align: right;\">\n",
       "      <th></th>\n",
       "      <th>year_remod/add</th>\n",
       "      <th>mas_vnr_area</th>\n",
       "      <th>bsmtfin_sf_1</th>\n",
       "      <th>bsmtfin_sf_2</th>\n",
       "      <th>bsmt_unf_sf</th>\n",
       "      <th>total_bsmt_sf</th>\n",
       "      <th>1st_flr_sf</th>\n",
       "      <th>2nd_flr_sf</th>\n",
       "    </tr>\n",
       "  </thead>\n",
       "  <tbody>\n",
       "    <tr>\n",
       "      <th>count</th>\n",
       "      <td>2051.000000</td>\n",
       "      <td>2051.000000</td>\n",
       "      <td>2051.000000</td>\n",
       "      <td>2051.000000</td>\n",
       "      <td>2051.000000</td>\n",
       "      <td>2051.000000</td>\n",
       "      <td>2051.000000</td>\n",
       "      <td>2051.000000</td>\n",
       "    </tr>\n",
       "    <tr>\n",
       "      <th>mean</th>\n",
       "      <td>1984.190151</td>\n",
       "      <td>98.626524</td>\n",
       "      <td>442.084837</td>\n",
       "      <td>47.935641</td>\n",
       "      <td>567.451487</td>\n",
       "      <td>1057.471965</td>\n",
       "      <td>1164.488055</td>\n",
       "      <td>329.329108</td>\n",
       "    </tr>\n",
       "    <tr>\n",
       "      <th>std</th>\n",
       "      <td>21.036250</td>\n",
       "      <td>174.324690</td>\n",
       "      <td>461.195041</td>\n",
       "      <td>164.964052</td>\n",
       "      <td>445.022846</td>\n",
       "      <td>449.908003</td>\n",
       "      <td>396.446923</td>\n",
       "      <td>425.671046</td>\n",
       "    </tr>\n",
       "    <tr>\n",
       "      <th>min</th>\n",
       "      <td>1950.000000</td>\n",
       "      <td>0.000000</td>\n",
       "      <td>0.000000</td>\n",
       "      <td>0.000000</td>\n",
       "      <td>0.000000</td>\n",
       "      <td>0.000000</td>\n",
       "      <td>334.000000</td>\n",
       "      <td>0.000000</td>\n",
       "    </tr>\n",
       "    <tr>\n",
       "      <th>25%</th>\n",
       "      <td>1964.500000</td>\n",
       "      <td>0.000000</td>\n",
       "      <td>0.000000</td>\n",
       "      <td>0.000000</td>\n",
       "      <td>220.000000</td>\n",
       "      <td>793.000000</td>\n",
       "      <td>879.500000</td>\n",
       "      <td>0.000000</td>\n",
       "    </tr>\n",
       "    <tr>\n",
       "      <th>50%</th>\n",
       "      <td>1993.000000</td>\n",
       "      <td>0.000000</td>\n",
       "      <td>368.000000</td>\n",
       "      <td>0.000000</td>\n",
       "      <td>474.000000</td>\n",
       "      <td>994.000000</td>\n",
       "      <td>1093.000000</td>\n",
       "      <td>0.000000</td>\n",
       "    </tr>\n",
       "    <tr>\n",
       "      <th>75%</th>\n",
       "      <td>2004.000000</td>\n",
       "      <td>159.000000</td>\n",
       "      <td>733.500000</td>\n",
       "      <td>0.000000</td>\n",
       "      <td>811.000000</td>\n",
       "      <td>1318.500000</td>\n",
       "      <td>1405.000000</td>\n",
       "      <td>692.500000</td>\n",
       "    </tr>\n",
       "    <tr>\n",
       "      <th>max</th>\n",
       "      <td>2010.000000</td>\n",
       "      <td>1600.000000</td>\n",
       "      <td>5644.000000</td>\n",
       "      <td>1474.000000</td>\n",
       "      <td>2336.000000</td>\n",
       "      <td>6110.000000</td>\n",
       "      <td>5095.000000</td>\n",
       "      <td>1862.000000</td>\n",
       "    </tr>\n",
       "  </tbody>\n",
       "</table>\n",
       "</div>"
      ],
      "text/plain": [
       "       year_remod/add  mas_vnr_area  bsmtfin_sf_1  bsmtfin_sf_2  bsmt_unf_sf  \\\n",
       "count     2051.000000   2051.000000   2051.000000   2051.000000  2051.000000   \n",
       "mean      1984.190151     98.626524    442.084837     47.935641   567.451487   \n",
       "std         21.036250    174.324690    461.195041    164.964052   445.022846   \n",
       "min       1950.000000      0.000000      0.000000      0.000000     0.000000   \n",
       "25%       1964.500000      0.000000      0.000000      0.000000   220.000000   \n",
       "50%       1993.000000      0.000000    368.000000      0.000000   474.000000   \n",
       "75%       2004.000000    159.000000    733.500000      0.000000   811.000000   \n",
       "max       2010.000000   1600.000000   5644.000000   1474.000000  2336.000000   \n",
       "\n",
       "       total_bsmt_sf   1st_flr_sf   2nd_flr_sf  \n",
       "count    2051.000000  2051.000000  2051.000000  \n",
       "mean     1057.471965  1164.488055   329.329108  \n",
       "std       449.908003   396.446923   425.671046  \n",
       "min         0.000000   334.000000     0.000000  \n",
       "25%       793.000000   879.500000     0.000000  \n",
       "50%       994.000000  1093.000000     0.000000  \n",
       "75%      1318.500000  1405.000000   692.500000  \n",
       "max      6110.000000  5095.000000  1862.000000  "
      ]
     },
     "execution_count": 822,
     "metadata": {},
     "output_type": "execute_result"
    }
   ],
   "source": [
    "# exploration of numeric features slice 2\n",
    "num_features.iloc[:,8:16].describe() \n",
    "                                        # 2nd_flr_sf, low_qual_fin_sf and bsmt_full_bath\n",
    "                                        # have 0 at min, 25% and 50%\n",
    "                                        # these variables likely have low counts \n",
    "                                        # (e.g. few homes with low quality finish\n",
    "                                        # to kiv and assess again during eda"
   ]
  },
  {
   "cell_type": "code",
   "execution_count": 823,
   "id": "92bb366f",
   "metadata": {},
   "outputs": [
    {
     "data": {
      "text/html": [
       "<div>\n",
       "<style scoped>\n",
       "    .dataframe tbody tr th:only-of-type {\n",
       "        vertical-align: middle;\n",
       "    }\n",
       "\n",
       "    .dataframe tbody tr th {\n",
       "        vertical-align: top;\n",
       "    }\n",
       "\n",
       "    .dataframe thead th {\n",
       "        text-align: right;\n",
       "    }\n",
       "</style>\n",
       "<table border=\"1\" class=\"dataframe\">\n",
       "  <thead>\n",
       "    <tr style=\"text-align: right;\">\n",
       "      <th></th>\n",
       "      <th>low_qual_fin_sf</th>\n",
       "      <th>gr_liv_area</th>\n",
       "      <th>bsmt_full_bath</th>\n",
       "      <th>bsmt_half_bath</th>\n",
       "      <th>full_bath</th>\n",
       "      <th>half_bath</th>\n",
       "      <th>bedroom_abvgr</th>\n",
       "      <th>kitchen_abvgr</th>\n",
       "    </tr>\n",
       "  </thead>\n",
       "  <tbody>\n",
       "    <tr>\n",
       "      <th>count</th>\n",
       "      <td>2051.000000</td>\n",
       "      <td>2051.000000</td>\n",
       "      <td>2051.000000</td>\n",
       "      <td>2051.000000</td>\n",
       "      <td>2051.000000</td>\n",
       "      <td>2051.000000</td>\n",
       "      <td>2051.000000</td>\n",
       "      <td>2051.000000</td>\n",
       "    </tr>\n",
       "    <tr>\n",
       "      <th>mean</th>\n",
       "      <td>5.512921</td>\n",
       "      <td>1499.330083</td>\n",
       "      <td>0.427109</td>\n",
       "      <td>0.063384</td>\n",
       "      <td>1.577279</td>\n",
       "      <td>0.371039</td>\n",
       "      <td>2.843491</td>\n",
       "      <td>1.042906</td>\n",
       "    </tr>\n",
       "    <tr>\n",
       "      <th>std</th>\n",
       "      <td>51.068870</td>\n",
       "      <td>500.447829</td>\n",
       "      <td>0.522589</td>\n",
       "      <td>0.251590</td>\n",
       "      <td>0.549279</td>\n",
       "      <td>0.501043</td>\n",
       "      <td>0.826618</td>\n",
       "      <td>0.209790</td>\n",
       "    </tr>\n",
       "    <tr>\n",
       "      <th>min</th>\n",
       "      <td>0.000000</td>\n",
       "      <td>334.000000</td>\n",
       "      <td>0.000000</td>\n",
       "      <td>0.000000</td>\n",
       "      <td>0.000000</td>\n",
       "      <td>0.000000</td>\n",
       "      <td>0.000000</td>\n",
       "      <td>0.000000</td>\n",
       "    </tr>\n",
       "    <tr>\n",
       "      <th>25%</th>\n",
       "      <td>0.000000</td>\n",
       "      <td>1129.000000</td>\n",
       "      <td>0.000000</td>\n",
       "      <td>0.000000</td>\n",
       "      <td>1.000000</td>\n",
       "      <td>0.000000</td>\n",
       "      <td>2.000000</td>\n",
       "      <td>1.000000</td>\n",
       "    </tr>\n",
       "    <tr>\n",
       "      <th>50%</th>\n",
       "      <td>0.000000</td>\n",
       "      <td>1444.000000</td>\n",
       "      <td>0.000000</td>\n",
       "      <td>0.000000</td>\n",
       "      <td>2.000000</td>\n",
       "      <td>0.000000</td>\n",
       "      <td>3.000000</td>\n",
       "      <td>1.000000</td>\n",
       "    </tr>\n",
       "    <tr>\n",
       "      <th>75%</th>\n",
       "      <td>0.000000</td>\n",
       "      <td>1728.500000</td>\n",
       "      <td>1.000000</td>\n",
       "      <td>0.000000</td>\n",
       "      <td>2.000000</td>\n",
       "      <td>1.000000</td>\n",
       "      <td>3.000000</td>\n",
       "      <td>1.000000</td>\n",
       "    </tr>\n",
       "    <tr>\n",
       "      <th>max</th>\n",
       "      <td>1064.000000</td>\n",
       "      <td>5642.000000</td>\n",
       "      <td>3.000000</td>\n",
       "      <td>2.000000</td>\n",
       "      <td>4.000000</td>\n",
       "      <td>2.000000</td>\n",
       "      <td>8.000000</td>\n",
       "      <td>3.000000</td>\n",
       "    </tr>\n",
       "  </tbody>\n",
       "</table>\n",
       "</div>"
      ],
      "text/plain": [
       "       low_qual_fin_sf  gr_liv_area  bsmt_full_bath  bsmt_half_bath  \\\n",
       "count      2051.000000  2051.000000     2051.000000     2051.000000   \n",
       "mean          5.512921  1499.330083        0.427109        0.063384   \n",
       "std          51.068870   500.447829        0.522589        0.251590   \n",
       "min           0.000000   334.000000        0.000000        0.000000   \n",
       "25%           0.000000  1129.000000        0.000000        0.000000   \n",
       "50%           0.000000  1444.000000        0.000000        0.000000   \n",
       "75%           0.000000  1728.500000        1.000000        0.000000   \n",
       "max        1064.000000  5642.000000        3.000000        2.000000   \n",
       "\n",
       "         full_bath    half_bath  bedroom_abvgr  kitchen_abvgr  \n",
       "count  2051.000000  2051.000000    2051.000000    2051.000000  \n",
       "mean      1.577279     0.371039       2.843491       1.042906  \n",
       "std       0.549279     0.501043       0.826618       0.209790  \n",
       "min       0.000000     0.000000       0.000000       0.000000  \n",
       "25%       1.000000     0.000000       2.000000       1.000000  \n",
       "50%       2.000000     0.000000       3.000000       1.000000  \n",
       "75%       2.000000     1.000000       3.000000       1.000000  \n",
       "max       4.000000     2.000000       8.000000       3.000000  "
      ]
     },
     "execution_count": 823,
     "metadata": {},
     "output_type": "execute_result"
    }
   ],
   "source": [
    "# exploration of numeric features slice 3\n",
    "num_features.iloc[:,16:24].describe()\n",
    "                                        # bsmt_half_bath and full_bath\n",
    "                                        # have 0 at min, 25% and 50%\n",
    "                                        # these variables likely have low counts\n",
    "            \n",
    "                                        # kitchen_abvgr and fireplaces\n",
    "                                        # appear to have low variation\n",
    "                                        # (e.g. kitchen_abvgr have same value at 25%, 50% and 75%)\n",
    "                                        # to kiv and assess again during eda"
   ]
  },
  {
   "cell_type": "code",
   "execution_count": 824,
   "id": "8f00d6f5",
   "metadata": {},
   "outputs": [
    {
     "data": {
      "text/html": [
       "<div>\n",
       "<style scoped>\n",
       "    .dataframe tbody tr th:only-of-type {\n",
       "        vertical-align: middle;\n",
       "    }\n",
       "\n",
       "    .dataframe tbody tr th {\n",
       "        vertical-align: top;\n",
       "    }\n",
       "\n",
       "    .dataframe thead th {\n",
       "        text-align: right;\n",
       "    }\n",
       "</style>\n",
       "<table border=\"1\" class=\"dataframe\">\n",
       "  <thead>\n",
       "    <tr style=\"text-align: right;\">\n",
       "      <th></th>\n",
       "      <th>totrms_abvgrd</th>\n",
       "      <th>fireplaces</th>\n",
       "      <th>garage_age</th>\n",
       "      <th>garage_cars</th>\n",
       "      <th>garage_area</th>\n",
       "      <th>wood_deck_sf</th>\n",
       "      <th>open_porch_sf</th>\n",
       "      <th>enclosed_porch</th>\n",
       "    </tr>\n",
       "  </thead>\n",
       "  <tbody>\n",
       "    <tr>\n",
       "      <th>count</th>\n",
       "      <td>2051.000000</td>\n",
       "      <td>2051.000000</td>\n",
       "      <td>2051.000000</td>\n",
       "      <td>2051.000000</td>\n",
       "      <td>2051.000000</td>\n",
       "      <td>2051.000000</td>\n",
       "      <td>2051.000000</td>\n",
       "      <td>2051.000000</td>\n",
       "    </tr>\n",
       "    <tr>\n",
       "      <th>mean</th>\n",
       "      <td>6.435885</td>\n",
       "      <td>0.590931</td>\n",
       "      <td>35.209166</td>\n",
       "      <td>1.775719</td>\n",
       "      <td>473.440761</td>\n",
       "      <td>93.833740</td>\n",
       "      <td>47.556802</td>\n",
       "      <td>22.571916</td>\n",
       "    </tr>\n",
       "    <tr>\n",
       "      <th>std</th>\n",
       "      <td>1.560225</td>\n",
       "      <td>0.638516</td>\n",
       "      <td>28.868087</td>\n",
       "      <td>0.765357</td>\n",
       "      <td>216.135102</td>\n",
       "      <td>128.549416</td>\n",
       "      <td>66.747241</td>\n",
       "      <td>59.845110</td>\n",
       "    </tr>\n",
       "    <tr>\n",
       "      <th>min</th>\n",
       "      <td>2.000000</td>\n",
       "      <td>0.000000</td>\n",
       "      <td>0.000000</td>\n",
       "      <td>0.000000</td>\n",
       "      <td>0.000000</td>\n",
       "      <td>0.000000</td>\n",
       "      <td>0.000000</td>\n",
       "      <td>0.000000</td>\n",
       "    </tr>\n",
       "    <tr>\n",
       "      <th>25%</th>\n",
       "      <td>5.000000</td>\n",
       "      <td>0.000000</td>\n",
       "      <td>9.000000</td>\n",
       "      <td>1.000000</td>\n",
       "      <td>319.000000</td>\n",
       "      <td>0.000000</td>\n",
       "      <td>0.000000</td>\n",
       "      <td>0.000000</td>\n",
       "    </tr>\n",
       "    <tr>\n",
       "      <th>50%</th>\n",
       "      <td>6.000000</td>\n",
       "      <td>1.000000</td>\n",
       "      <td>32.000000</td>\n",
       "      <td>2.000000</td>\n",
       "      <td>480.000000</td>\n",
       "      <td>0.000000</td>\n",
       "      <td>27.000000</td>\n",
       "      <td>0.000000</td>\n",
       "    </tr>\n",
       "    <tr>\n",
       "      <th>75%</th>\n",
       "      <td>7.000000</td>\n",
       "      <td>1.000000</td>\n",
       "      <td>53.000000</td>\n",
       "      <td>2.000000</td>\n",
       "      <td>576.000000</td>\n",
       "      <td>168.000000</td>\n",
       "      <td>70.000000</td>\n",
       "      <td>0.000000</td>\n",
       "    </tr>\n",
       "    <tr>\n",
       "      <th>max</th>\n",
       "      <td>15.000000</td>\n",
       "      <td>4.000000</td>\n",
       "      <td>115.000000</td>\n",
       "      <td>5.000000</td>\n",
       "      <td>1418.000000</td>\n",
       "      <td>1424.000000</td>\n",
       "      <td>547.000000</td>\n",
       "      <td>432.000000</td>\n",
       "    </tr>\n",
       "  </tbody>\n",
       "</table>\n",
       "</div>"
      ],
      "text/plain": [
       "       totrms_abvgrd   fireplaces   garage_age  garage_cars  garage_area  \\\n",
       "count    2051.000000  2051.000000  2051.000000  2051.000000  2051.000000   \n",
       "mean        6.435885     0.590931    35.209166     1.775719   473.440761   \n",
       "std         1.560225     0.638516    28.868087     0.765357   216.135102   \n",
       "min         2.000000     0.000000     0.000000     0.000000     0.000000   \n",
       "25%         5.000000     0.000000     9.000000     1.000000   319.000000   \n",
       "50%         6.000000     1.000000    32.000000     2.000000   480.000000   \n",
       "75%         7.000000     1.000000    53.000000     2.000000   576.000000   \n",
       "max        15.000000     4.000000   115.000000     5.000000  1418.000000   \n",
       "\n",
       "       wood_deck_sf  open_porch_sf  enclosed_porch  \n",
       "count   2051.000000    2051.000000     2051.000000  \n",
       "mean      93.833740      47.556802       22.571916  \n",
       "std      128.549416      66.747241       59.845110  \n",
       "min        0.000000       0.000000        0.000000  \n",
       "25%        0.000000       0.000000        0.000000  \n",
       "50%        0.000000      27.000000        0.000000  \n",
       "75%      168.000000      70.000000        0.000000  \n",
       "max     1424.000000     547.000000      432.000000  "
      ]
     },
     "execution_count": 824,
     "metadata": {},
     "output_type": "execute_result"
    }
   ],
   "source": [
    "# exploration of numeric features slice 3\n",
    "num_features.iloc[:,24:32].describe()\n",
    "                                        # wood_deck_sf, enclosed_porch, 3ssn_porch and screen_porch\n",
    "                                        # appear to have similar issues\n",
    "                                        # 0 at min, 25%, 50% and 75%\n",
    "                                        # consider to remove, assess again during eda"
   ]
  },
  {
   "cell_type": "code",
   "execution_count": 825,
   "id": "32399706",
   "metadata": {},
   "outputs": [
    {
     "data": {
      "text/html": [
       "<div>\n",
       "<style scoped>\n",
       "    .dataframe tbody tr th:only-of-type {\n",
       "        vertical-align: middle;\n",
       "    }\n",
       "\n",
       "    .dataframe tbody tr th {\n",
       "        vertical-align: top;\n",
       "    }\n",
       "\n",
       "    .dataframe thead th {\n",
       "        text-align: right;\n",
       "    }\n",
       "</style>\n",
       "<table border=\"1\" class=\"dataframe\">\n",
       "  <thead>\n",
       "    <tr style=\"text-align: right;\">\n",
       "      <th></th>\n",
       "      <th>3ssn_porch</th>\n",
       "      <th>screen_porch</th>\n",
       "      <th>pool</th>\n",
       "      <th>misc_val</th>\n",
       "      <th>mo_sold</th>\n",
       "      <th>yr_sold</th>\n",
       "      <th>saleprice</th>\n",
       "    </tr>\n",
       "  </thead>\n",
       "  <tbody>\n",
       "    <tr>\n",
       "      <th>count</th>\n",
       "      <td>2051.000000</td>\n",
       "      <td>2051.000000</td>\n",
       "      <td>2051.000000</td>\n",
       "      <td>2051.000000</td>\n",
       "      <td>2051.000000</td>\n",
       "      <td>2051.000000</td>\n",
       "      <td>2051.000000</td>\n",
       "    </tr>\n",
       "    <tr>\n",
       "      <th>mean</th>\n",
       "      <td>2.591419</td>\n",
       "      <td>16.511458</td>\n",
       "      <td>0.004388</td>\n",
       "      <td>51.574354</td>\n",
       "      <td>6.219893</td>\n",
       "      <td>2007.775719</td>\n",
       "      <td>181469.701609</td>\n",
       "    </tr>\n",
       "    <tr>\n",
       "      <th>std</th>\n",
       "      <td>25.229615</td>\n",
       "      <td>57.374204</td>\n",
       "      <td>0.066113</td>\n",
       "      <td>573.393985</td>\n",
       "      <td>2.744736</td>\n",
       "      <td>1.312014</td>\n",
       "      <td>79258.659352</td>\n",
       "    </tr>\n",
       "    <tr>\n",
       "      <th>min</th>\n",
       "      <td>0.000000</td>\n",
       "      <td>0.000000</td>\n",
       "      <td>0.000000</td>\n",
       "      <td>0.000000</td>\n",
       "      <td>1.000000</td>\n",
       "      <td>2006.000000</td>\n",
       "      <td>12789.000000</td>\n",
       "    </tr>\n",
       "    <tr>\n",
       "      <th>25%</th>\n",
       "      <td>0.000000</td>\n",
       "      <td>0.000000</td>\n",
       "      <td>0.000000</td>\n",
       "      <td>0.000000</td>\n",
       "      <td>4.000000</td>\n",
       "      <td>2007.000000</td>\n",
       "      <td>129825.000000</td>\n",
       "    </tr>\n",
       "    <tr>\n",
       "      <th>50%</th>\n",
       "      <td>0.000000</td>\n",
       "      <td>0.000000</td>\n",
       "      <td>0.000000</td>\n",
       "      <td>0.000000</td>\n",
       "      <td>6.000000</td>\n",
       "      <td>2008.000000</td>\n",
       "      <td>162500.000000</td>\n",
       "    </tr>\n",
       "    <tr>\n",
       "      <th>75%</th>\n",
       "      <td>0.000000</td>\n",
       "      <td>0.000000</td>\n",
       "      <td>0.000000</td>\n",
       "      <td>0.000000</td>\n",
       "      <td>8.000000</td>\n",
       "      <td>2009.000000</td>\n",
       "      <td>214000.000000</td>\n",
       "    </tr>\n",
       "    <tr>\n",
       "      <th>max</th>\n",
       "      <td>508.000000</td>\n",
       "      <td>490.000000</td>\n",
       "      <td>1.000000</td>\n",
       "      <td>17000.000000</td>\n",
       "      <td>12.000000</td>\n",
       "      <td>2010.000000</td>\n",
       "      <td>611657.000000</td>\n",
       "    </tr>\n",
       "  </tbody>\n",
       "</table>\n",
       "</div>"
      ],
      "text/plain": [
       "        3ssn_porch  screen_porch         pool      misc_val      mo_sold  \\\n",
       "count  2051.000000   2051.000000  2051.000000   2051.000000  2051.000000   \n",
       "mean      2.591419     16.511458     0.004388     51.574354     6.219893   \n",
       "std      25.229615     57.374204     0.066113    573.393985     2.744736   \n",
       "min       0.000000      0.000000     0.000000      0.000000     1.000000   \n",
       "25%       0.000000      0.000000     0.000000      0.000000     4.000000   \n",
       "50%       0.000000      0.000000     0.000000      0.000000     6.000000   \n",
       "75%       0.000000      0.000000     0.000000      0.000000     8.000000   \n",
       "max     508.000000    490.000000     1.000000  17000.000000    12.000000   \n",
       "\n",
       "           yr_sold      saleprice  \n",
       "count  2051.000000    2051.000000  \n",
       "mean   2007.775719  181469.701609  \n",
       "std       1.312014   79258.659352  \n",
       "min    2006.000000   12789.000000  \n",
       "25%    2007.000000  129825.000000  \n",
       "50%    2008.000000  162500.000000  \n",
       "75%    2009.000000  214000.000000  \n",
       "max    2010.000000  611657.000000  "
      ]
     },
     "execution_count": 825,
     "metadata": {},
     "output_type": "execute_result"
    }
   ],
   "source": [
    "# exploration of numeric features slice 4\n",
    "num_features.iloc[:,32:].describe() \n",
    "                                            # misc_val has 0 at min, 25%, 50% and 75%\n",
    "                                            # consider to remove, assess again during eda\n",
    "        \n",
    "                                            # mo_sold represents categories to change to string"
   ]
  },
  {
   "cell_type": "code",
   "execution_count": 826,
   "id": "6b2d8c30",
   "metadata": {},
   "outputs": [],
   "source": [
    "# mo_sold change to categorical\n",
    "train['mo_sold'] = train['mo_sold'].astype(str)"
   ]
  },
  {
   "cell_type": "code",
   "execution_count": 827,
   "id": "f7e79da8",
   "metadata": {},
   "outputs": [],
   "source": [
    "# save numeric columns for later EDA\n",
    "# as we might change some ordinal variables to numeric first,\n",
    "# and do not wish to assess them again\n",
    "num_col = train.select_dtypes([np.number]).columns\n"
   ]
  },
  {
   "cell_type": "markdown",
   "id": "d383efa7",
   "metadata": {},
   "source": [
    "### Remarks\n",
    "**Continuous features data cleaning**\n",
    "\n",
    "All continuous features which had an expected range had values within it.<br/>\n",
    "Several features had the same number across the percentiles. These features are likely to be rare in the dataset of houses, and likely to be rare among houses in Ames. For example enclosed_porch has a 0 value at min, 25%, 50% and 75%. This means that few houses have an enclosed_porch in the first place.<br/>\n",
    "\n",
    "Problematic features are not yet removed as they will be further examined during EDA. Closer attention to be paid to these variables and to remove them if they present poorly at EDA. "
   ]
  },
  {
   "cell_type": "markdown",
   "id": "0b11a811",
   "metadata": {},
   "source": [
    "### Categorical Features"
   ]
  },
  {
   "cell_type": "code",
   "execution_count": 828,
   "id": "86fa4f8d",
   "metadata": {
    "scrolled": false
   },
   "outputs": [],
   "source": [
    "# Function to examine each categorical feature\n",
    "def count_mean(feature):\n",
    "    print(train.groupby(feature)['saleprice'].agg([np.size, np.mean]).sort_values('mean'))"
   ]
  },
  {
   "cell_type": "code",
   "execution_count": 829,
   "id": "edc0122f",
   "metadata": {},
   "outputs": [
    {
     "name": "stdout",
     "output_type": "stream",
     "text": [
      "           size           mean\n",
      "ms_zoning                     \n",
      "A (agr)       2   47300.000000\n",
      "I (all)       1   57625.000000\n",
      "C (all)      19   78010.894737\n",
      "RM          316  129119.142405\n",
      "RH           14  148859.571429\n",
      "RL         1598  191235.164581\n",
      "FV          101  218618.316832\n"
     ]
    }
   ],
   "source": [
    "# ms_zoning\n",
    "count_mean('ms_zoning') # combine C, A, I as they have low counts.\n",
    "                        # are qualitatively similar and have similar saleprice"
   ]
  },
  {
   "cell_type": "code",
   "execution_count": 830,
   "id": "4571f808",
   "metadata": {},
   "outputs": [],
   "source": [
    "# ms_zoning clean\n",
    "train['ms_zoning']=['a_c_i' if x in ['A (agr)', 'I (all)', 'C (all)'] else x for x in train['ms_zoning']]"
   ]
  },
  {
   "cell_type": "code",
   "execution_count": 831,
   "id": "ba69c96b",
   "metadata": {},
   "outputs": [
    {
     "name": "stdout",
     "output_type": "stream",
     "text": [
      "           size           mean\n",
      "lot_shape                     \n",
      "Reg        1295  162925.812355\n",
      "IR3           9  193182.222222\n",
      "IR1         692  211848.670520\n",
      "IR2          55  233954.745455\n"
     ]
    }
   ],
   "source": [
    "# lot_shape\n",
    "count_mean('lot_shape') # ordinal feature's mean saleprice does not follow expected order\n",
    "                        # would expect more irregular plots to be more expensive\n",
    "                        # to remove"
   ]
  },
  {
   "cell_type": "code",
   "execution_count": 832,
   "id": "ff9cdfef",
   "metadata": {},
   "outputs": [],
   "source": [
    "# drop lot_shape\n",
    "train.drop('lot_shape', axis = 1, inplace=True)"
   ]
  },
  {
   "cell_type": "code",
   "execution_count": 833,
   "id": "b831784a",
   "metadata": {},
   "outputs": [
    {
     "name": "stdout",
     "output_type": "stream",
     "text": [
      "           size           mean\n",
      "utilities                     \n",
      "NoSewr        1   57625.000000\n",
      "NoSeWa        1  137500.000000\n",
      "AllPub     2049  181551.602245\n"
     ]
    }
   ],
   "source": [
    "# utilities\n",
    "count_mean('utilities') # small counts, to delete feature"
   ]
  },
  {
   "cell_type": "code",
   "execution_count": 834,
   "id": "87c7ca30",
   "metadata": {},
   "outputs": [],
   "source": [
    "# utilities clean\n",
    "train.drop('utilities', axis=1, inplace=True)"
   ]
  },
  {
   "cell_type": "code",
   "execution_count": 835,
   "id": "f021edee",
   "metadata": {},
   "outputs": [
    {
     "name": "stdout",
     "output_type": "stream",
     "text": [
      "            size           mean\n",
      "lot_config                     \n",
      "FR2           60  174703.600000\n",
      "Inside      1503  177537.014637\n",
      "Corner       348  180629.591954\n",
      "FR3            9  198600.000000\n",
      "CulDSac      131  230744.358779\n",
      "            size           mean\n",
      "land_slope                     \n",
      "Gtl         1953  180358.476703\n",
      "Sev           10  194598.000000\n",
      "Mod           88  204639.465909\n"
     ]
    }
   ],
   "source": [
    "# lot_config and land_slope\n",
    "count_mean('lot_config')\n",
    "count_mean('land_slope') # land_slope dont seem meaningful\n",
    "                         # land slope has small counts in mod and sec with small differences\n",
    "                         # to land_slope remove as not meaningful\n",
    "                         # land slope not similar to land_contour"
   ]
  },
  {
   "cell_type": "code",
   "execution_count": 836,
   "id": "96ea317e",
   "metadata": {},
   "outputs": [],
   "source": [
    "# drop land_slope\n",
    "train.drop('land_slope', axis=1, inplace=True)"
   ]
  },
  {
   "cell_type": "code",
   "execution_count": 837,
   "id": "d6ce964d",
   "metadata": {
    "scrolled": false
   },
   "outputs": [
    {
     "name": "stdout",
     "output_type": "stream",
     "text": [
      "              size           mean\n",
      "neighborhood                     \n",
      "MeadowV         24  100231.250000\n",
      "IDOTRR          69  101103.188406\n",
      "BrDale          19  103371.052632\n",
      "OldTown        163  125276.300613\n",
      "BrkSide         76  127022.697368\n",
      "Edwards        143  130493.468531\n",
      "SWISU           32  134758.875000\n",
      "Landmrk          1  137000.000000\n",
      "Sawyer         111  137181.909910\n",
      "NPkVill         17  140476.470588\n",
      "Blueste          6  144566.666667\n",
      "NAmes          310  145905.816129\n",
      "Mitchel         82  167656.707317\n",
      "SawyerW         87  187760.160920\n",
      "Greens           3  188666.666667\n",
      "Gilbert        116  189228.387931\n",
      "NWAmes          87  194619.022989\n",
      "Blmngtn         22  200417.681818\n",
      "CollgCr        180  202497.216667\n",
      "Crawfor         71  205901.211268\n",
      "ClearCr         27  217490.074074\n",
      "Somerst        130  227183.900000\n",
      "Timber          48  241051.354167\n",
      "Veenker         17  253570.588235\n",
      "GrnHill          2  280000.000000\n",
      "NoRidge         48  316294.125000\n",
      "NridgHt        122  322831.352459\n",
      "StoneBr         38  329675.736842\n",
      "             size           mean\n",
      "condition_1                     \n",
      "Artery         70  128765.000000\n",
      "RRNe            3  129616.666667\n",
      "RRAe           21  139685.714286\n",
      "Feedr         109  143223.605505\n",
      "RRAn           36  172604.777778\n",
      "Norm         1767  185007.310130\n",
      "RRNn            6  198208.333333\n",
      "PosA           12  254733.333333\n",
      "PosN           27  254794.296296\n",
      "             size           mean\n",
      "condition_2                     \n",
      "RRNn            2   96750.000000\n",
      "Artery          5  119050.000000\n",
      "Feedr          11  129181.818182\n",
      "RRAn            1  136905.000000\n",
      "Norm         2025  181382.075556\n",
      "RRAe            1  190000.000000\n",
      "PosA            3  390666.666667\n",
      "PosN            3  395666.666667\n"
     ]
    }
   ],
   "source": [
    "# neighborhood, condition_1, condition_2\n",
    "\n",
    "# mean saleprice for each feature\n",
    "count_mean('neighborhood') # clear difference between categories\n",
    "count_mean('condition_1') # clear difference between categories\n",
    "count_mean('condition_2') # clear difference between categories\n",
    "\n",
    "# mean saleprice across 2 features\n",
    "# hashed as it will print a long table\n",
    "# count_mean(['condition_1', 'neighborhood']) # features are not nested\n",
    "# count_mean(['condition_2', 'neighborhood']) # features are not nested\n",
    "# count_mean(['neighborhood', 'condition_2']) # features are not nested\n",
    "\n",
    "                                            # as features are not nested and appears important,\n",
    "                                            # to keep all three location features"
   ]
  },
  {
   "cell_type": "code",
   "execution_count": 838,
   "id": "a36c15bc",
   "metadata": {},
   "outputs": [
    {
     "name": "stdout",
     "output_type": "stream",
     "text": [
      "            size           mean\n",
      "exter_qual                     \n",
      "Fa            26   89801.192308\n",
      "TA          1247  143270.978348\n",
      "Gd           697  230802.484935\n",
      "Ex            81  374460.308642\n",
      "            size           mean\n",
      "exter_cond                     \n",
      "Po             2   44800.000000\n",
      "Fa            49  102507.693878\n",
      "Gd           215  167623.023256\n",
      "TA          1778  185258.202475\n",
      "Ex             7  236263.857143\n",
      "                       size           mean\n",
      "exter_qual exter_cond                     \n",
      "Fa         Po             1   13100.000000\n",
      "TA         Po             1   76500.000000\n",
      "Fa         Fa            15   77745.866667\n",
      "TA         Fa            33  108990.575758\n",
      "Fa         TA             9  115449.222222\n",
      "           Gd             1  116500.000000\n",
      "TA         Ex             3  136166.666667\n",
      "           TA          1054  143664.080645\n",
      "           Gd           156  148431.282051\n",
      "Gd         Gd            56  217872.678571\n",
      "           TA           638  231627.139498\n",
      "           Fa             1  260000.000000\n",
      "Ex         Gd             2  283150.000000\n",
      "           Ex             2  307500.000000\n",
      "Gd         Ex             2  315173.500000\n",
      "Ex         TA            77  378571.233766\n"
     ]
    }
   ],
   "source": [
    "# exter_qual and exter_cond\n",
    "count_mean('exter_qual') # important\n",
    "count_mean('exter_cond') # important\n",
    "count_mean(['exter_qual', 'exter_cond']) # not nested\n",
    "\n",
    "                            # since exter_qual is mostly orderd\n",
    "                            # convert to continuous\n",
    "                            # since exter_cond is poorlt orderd\n",
    "                            # to drop"
   ]
  },
  {
   "cell_type": "code",
   "execution_count": 839,
   "id": "c4b011b6",
   "metadata": {},
   "outputs": [],
   "source": [
    "# convert exter_qual to continuous\n",
    "# to drop exter_cond\n",
    "train['exter_qual'] = train['exter_qual'].map(ordto_con)\n",
    "train.drop('exter_cond', axis = 1, inplace=True)"
   ]
  },
  {
   "cell_type": "code",
   "execution_count": 840,
   "id": "8db5f5bd",
   "metadata": {},
   "outputs": [
    {
     "name": "stdout",
     "output_type": "stream",
     "text": [
      "           size           mean\n",
      "bsmt_qual                     \n",
      "Po            1   89000.000000\n",
      "non          55  106341.345455\n",
      "Fa           60  107752.166667\n",
      "TA          887  139988.461105\n",
      "Gd          864  202537.582176\n",
      "Ex          184  329506.619565\n",
      "           size           mean\n",
      "bsmt_cond                     \n",
      "non          55  106341.345455\n",
      "Fa           65  118629.076923\n",
      "Po            5  124063.200000\n",
      "TA         1834  184021.858233\n",
      "Ex            3  195000.000000\n",
      "Gd           89  223969.550562\n"
     ]
    },
    {
     "data": {
      "text/html": [
       "<div>\n",
       "<style scoped>\n",
       "    .dataframe tbody tr th:only-of-type {\n",
       "        vertical-align: middle;\n",
       "    }\n",
       "\n",
       "    .dataframe tbody tr th {\n",
       "        vertical-align: top;\n",
       "    }\n",
       "\n",
       "    .dataframe thead th {\n",
       "        text-align: right;\n",
       "    }\n",
       "</style>\n",
       "<table border=\"1\" class=\"dataframe\">\n",
       "  <thead>\n",
       "    <tr style=\"text-align: right;\">\n",
       "      <th></th>\n",
       "      <th></th>\n",
       "      <th>size</th>\n",
       "      <th>mean</th>\n",
       "    </tr>\n",
       "    <tr>\n",
       "      <th>bsmt_qual</th>\n",
       "      <th>bsmt_cond</th>\n",
       "      <th></th>\n",
       "      <th></th>\n",
       "    </tr>\n",
       "  </thead>\n",
       "  <tbody>\n",
       "    <tr>\n",
       "      <th rowspan=\"3\" valign=\"top\">Ex</th>\n",
       "      <th>Gd</th>\n",
       "      <td>20</td>\n",
       "      <td>298328.350000</td>\n",
       "    </tr>\n",
       "    <tr>\n",
       "      <th>Po</th>\n",
       "      <td>1</td>\n",
       "      <td>267916.000000</td>\n",
       "    </tr>\n",
       "    <tr>\n",
       "      <th>TA</th>\n",
       "      <td>163</td>\n",
       "      <td>333710.030675</td>\n",
       "    </tr>\n",
       "    <tr>\n",
       "      <th rowspan=\"4\" valign=\"top\">Fa</th>\n",
       "      <th>Fa</th>\n",
       "      <td>14</td>\n",
       "      <td>93602.785714</td>\n",
       "    </tr>\n",
       "    <tr>\n",
       "      <th>Gd</th>\n",
       "      <td>2</td>\n",
       "      <td>149250.000000</td>\n",
       "    </tr>\n",
       "    <tr>\n",
       "      <th>Po</th>\n",
       "      <td>3</td>\n",
       "      <td>74183.333333</td>\n",
       "    </tr>\n",
       "    <tr>\n",
       "      <th>TA</th>\n",
       "      <td>41</td>\n",
       "      <td>113015.634146</td>\n",
       "    </tr>\n",
       "    <tr>\n",
       "      <th rowspan=\"4\" valign=\"top\">Gd</th>\n",
       "      <th>Ex</th>\n",
       "      <td>1</td>\n",
       "      <td>290000.000000</td>\n",
       "    </tr>\n",
       "    <tr>\n",
       "      <th>Fa</th>\n",
       "      <td>3</td>\n",
       "      <td>173333.333333</td>\n",
       "    </tr>\n",
       "    <tr>\n",
       "      <th>Gd</th>\n",
       "      <td>47</td>\n",
       "      <td>212751.553191</td>\n",
       "    </tr>\n",
       "    <tr>\n",
       "      <th>TA</th>\n",
       "      <td>813</td>\n",
       "      <td>201947.291513</td>\n",
       "    </tr>\n",
       "    <tr>\n",
       "      <th>Po</th>\n",
       "      <th>Fa</th>\n",
       "      <td>1</td>\n",
       "      <td>89000.000000</td>\n",
       "    </tr>\n",
       "    <tr>\n",
       "      <th rowspan=\"5\" valign=\"top\">TA</th>\n",
       "      <th>Ex</th>\n",
       "      <td>2</td>\n",
       "      <td>147500.000000</td>\n",
       "    </tr>\n",
       "    <tr>\n",
       "      <th>Fa</th>\n",
       "      <td>47</td>\n",
       "      <td>123222.361702</td>\n",
       "    </tr>\n",
       "    <tr>\n",
       "      <th>Gd</th>\n",
       "      <td>20</td>\n",
       "      <td>183445.000000</td>\n",
       "    </tr>\n",
       "    <tr>\n",
       "      <th>Po</th>\n",
       "      <td>1</td>\n",
       "      <td>129850.000000</td>\n",
       "    </tr>\n",
       "    <tr>\n",
       "      <th>TA</th>\n",
       "      <td>817</td>\n",
       "      <td>139883.187271</td>\n",
       "    </tr>\n",
       "    <tr>\n",
       "      <th>non</th>\n",
       "      <th>non</th>\n",
       "      <td>55</td>\n",
       "      <td>106341.345455</td>\n",
       "    </tr>\n",
       "  </tbody>\n",
       "</table>\n",
       "</div>"
      ],
      "text/plain": [
       "                     size           mean\n",
       "bsmt_qual bsmt_cond                     \n",
       "Ex        Gd           20  298328.350000\n",
       "          Po            1  267916.000000\n",
       "          TA          163  333710.030675\n",
       "Fa        Fa           14   93602.785714\n",
       "          Gd            2  149250.000000\n",
       "          Po            3   74183.333333\n",
       "          TA           41  113015.634146\n",
       "Gd        Ex            1  290000.000000\n",
       "          Fa            3  173333.333333\n",
       "          Gd           47  212751.553191\n",
       "          TA          813  201947.291513\n",
       "Po        Fa            1   89000.000000\n",
       "TA        Ex            2  147500.000000\n",
       "          Fa           47  123222.361702\n",
       "          Gd           20  183445.000000\n",
       "          Po            1  129850.000000\n",
       "          TA          817  139883.187271\n",
       "non       non          55  106341.345455"
      ]
     },
     "execution_count": 840,
     "metadata": {},
     "output_type": "execute_result"
    }
   ],
   "source": [
    "# bsmt_qual and bsmt_cond\n",
    "count_mean('bsmt_qual')\n",
    "count_mean('bsmt_cond')\n",
    "\n",
    "train.groupby(['bsmt_qual', 'bsmt_cond'])['saleprice'].agg([np.size, np.mean])\n",
    "                # not nested\n",
    "                            # since bsmt_qual and bsmt_cond are mostly orderd\n",
    "                            # convert to continuous"
   ]
  },
  {
   "cell_type": "code",
   "execution_count": 841,
   "id": "cac586e4",
   "metadata": {},
   "outputs": [],
   "source": [
    "# convert bsmt_qual and bsmt_cond to continuous\n",
    "train['bsmt_qual'] = train['bsmt_qual'].map(ordto_con)\n",
    "train['bsmt_cond'] = train['bsmt_cond'].map(ordto_con)"
   ]
  },
  {
   "cell_type": "code",
   "execution_count": 842,
   "id": "20984f5e",
   "metadata": {},
   "outputs": [
    {
     "name": "stdout",
     "output_type": "stream",
     "text": [
      "               size           mean\n",
      "bsmt_exposure                     \n",
      "non              55  106341.345455\n",
      "No             1342  164632.271982\n",
      "Mn              163  189377.570552\n",
      "Av              288  206262.451389\n",
      "Gd              203  271610.566502\n"
     ]
    }
   ],
   "source": [
    "# bsmt_exposure\n",
    "count_mean('bsmt_exposure')   # to convert to continuous since saleprice is ordered"
   ]
  },
  {
   "cell_type": "code",
   "execution_count": 843,
   "id": "80853d3f",
   "metadata": {},
   "outputs": [],
   "source": [
    "# Function to convert scale from ordinal to continuous\n",
    "def ordto_con2(category):\n",
    "    if type(category) == str:\n",
    "        if category == 'non':\n",
    "            return 0\n",
    "        elif category == 'No':\n",
    "            return 1\n",
    "        elif category == 'Mn':\n",
    "            return 2\n",
    "        elif category ==  'Av':\n",
    "            return 3\n",
    "        elif category == 'Gd':\n",
    "            return 4\n",
    "        else:\n",
    "            return np.nan\n",
    "    else:\n",
    "        return category"
   ]
  },
  {
   "cell_type": "code",
   "execution_count": 844,
   "id": "895f5f79",
   "metadata": {},
   "outputs": [],
   "source": [
    "# convert bsmt_exposure to continuous\n",
    "train['bsmt_exposure'] = train['bsmt_exposure'].map(ordto_con2)"
   ]
  },
  {
   "cell_type": "code",
   "execution_count": 845,
   "id": "d1ecc8f8",
   "metadata": {},
   "outputs": [
    {
     "name": "stdout",
     "output_type": "stream",
     "text": [
      "                size           mean\n",
      "bsmtfin_type_1                     \n",
      "non               55  106341.345455\n",
      "Rec              183  143263.382514\n",
      "BLQ              200  150107.020000\n",
      "LwQ              102  153266.921569\n",
      "ALQ              293  164368.017065\n",
      "Unf              603  166155.257048\n",
      "GLQ              615  237597.245528\n",
      "                size           mean\n",
      "bsmtfin_type_2                     \n",
      "non               55  106341.345455\n",
      "BLQ               48  156659.020833\n",
      "LwQ               60  162284.583333\n",
      "Rec               80  164538.750000\n",
      "Unf             1750  185277.729143\n",
      "ALQ               35  188567.142857\n",
      "GLQ               23  221300.000000\n"
     ]
    }
   ],
   "source": [
    "# bsmtfin_type_1 and bsmtfin_type_2\n",
    "count_mean('bsmtfin_type_1')\n",
    "count_mean('bsmtfin_type_2')\n",
    "                # not nested\n",
    "                # ranks of finish type is not ordered as intended\n",
    "                # however the non is clearly cheaper\n",
    "                # and GLQ(Good living quarters) is clearly more ex\n",
    "                # to create 3 categories non, in between, good"
   ]
  },
  {
   "cell_type": "code",
   "execution_count": 846,
   "id": "16b4bedc",
   "metadata": {},
   "outputs": [],
   "source": [
    "# Function to recategorise bsmt\n",
    "def bsmt_categorise(category):\n",
    "    if category == 'non':\n",
    "        return 'non'\n",
    "    elif category == 'GLQ':\n",
    "        return 'GLQ'\n",
    "    else:\n",
    "        return 'av'"
   ]
  },
  {
   "cell_type": "code",
   "execution_count": 847,
   "id": "fe46acfd",
   "metadata": {},
   "outputs": [],
   "source": [
    "# bsmtfin_type_1 and bsmtfin_type_2 to smaller categories\n",
    "train['bsmtfin_type_1'] = train['bsmtfin_type_1'].map(bsmt_categorise)\n",
    "train['bsmtfin_type_2'] = train['bsmtfin_type_2'].map(bsmt_categorise)"
   ]
  },
  {
   "cell_type": "code",
   "execution_count": 848,
   "id": "84c2653b",
   "metadata": {},
   "outputs": [
    {
     "name": "stdout",
     "output_type": "stream",
     "text": [
      "         size          mean\n",
      "heating                    \n",
      "Grav        5   65180.00000\n",
      "Wall        6   77150.00000\n",
      "OthW        2  125750.00000\n",
      "GasW       20  151275.00000\n",
      "GasA     2018  182422.47671\n",
      "            size           mean\n",
      "heating_qc                     \n",
      "Po             3   69033.333333\n",
      "Fa            67  117123.641791\n",
      "TA           597  138986.705193\n",
      "Gd           319  160174.009404\n",
      "Ex          1065  216027.607512\n"
     ]
    }
   ],
   "source": [
    "# heating and heating_qc\n",
    "count_mean('heating')\n",
    "count_mean('heating_qc')  # to convert heating_qc to continuous since saleprice is ordered\n"
   ]
  },
  {
   "cell_type": "code",
   "execution_count": 849,
   "id": "066c331a",
   "metadata": {},
   "outputs": [],
   "source": [
    "# convery heating_qc to continuous\n",
    "train['heating_qc'] = train['heating_qc'].map(ordto_con)"
   ]
  },
  {
   "cell_type": "code",
   "execution_count": 850,
   "id": "5cf2dfc1",
   "metadata": {},
   "outputs": [
    {
     "name": "stdout",
     "output_type": "stream",
     "text": [
      "            size           mean\n",
      "electrical                     \n",
      "Mix            1   67000.000000\n",
      "FuseP          7   83485.714286\n",
      "FuseF         35  103678.914286\n",
      "FuseA        140  122565.157143\n",
      "SBrkr       1868  187770.382227\n"
     ]
    }
   ],
   "source": [
    "# electrical\n",
    "count_mean('electrical')\n",
    "                    # to combine 'Mix' and 'FuseP'\n",
    "                    # due to low counts ans qualitatively similar\n",
    "        "
   ]
  },
  {
   "cell_type": "code",
   "execution_count": 851,
   "id": "894ac211",
   "metadata": {},
   "outputs": [],
   "source": [
    "# electrical clean\n",
    "train['electrical'] = ['FuseP_Mix' if x in ['FuseP', 'Mix'] else x for x in train['electrical']]"
   ]
  },
  {
   "cell_type": "code",
   "execution_count": 852,
   "id": "02dbc6b2",
   "metadata": {},
   "outputs": [
    {
     "name": "stdout",
     "output_type": "stream",
     "text": [
      "              size           mean\n",
      "kitchen_qual                     \n",
      "Fa              47  101334.957447\n",
      "TA            1047  139501.607450\n",
      "Gd             806  211629.451613\n",
      "Ex             151  336424.463576\n"
     ]
    }
   ],
   "source": [
    "# kitchen_qual\n",
    "count_mean('kitchen_qual') # to convert kitchen_qual to continuous since saleprice is ordered\n"
   ]
  },
  {
   "cell_type": "code",
   "execution_count": 853,
   "id": "68b60d46",
   "metadata": {},
   "outputs": [],
   "source": [
    "# convery kitchen_qual to continuous\n",
    "train['kitchen_qual'] = train['kitchen_qual'].map(ordto_con)"
   ]
  },
  {
   "cell_type": "code",
   "execution_count": 854,
   "id": "2dcbe65a",
   "metadata": {},
   "outputs": [
    {
     "name": "stdout",
     "output_type": "stream",
     "text": [
      "            size           mean\n",
      "functional                     \n",
      "Sal            2   31550.000000\n",
      "Maj2           7   87157.714286\n",
      "Sev            2   95750.000000\n",
      "Mod           29  148108.724138\n",
      "Min2          42  150424.571429\n",
      "Min1          42  154429.761905\n",
      "Maj1          12  163106.166667\n",
      "Typ         1915  183954.749347\n"
     ]
    }
   ],
   "source": [
    "# functional\n",
    "count_mean('functional') # to drop as the order according to cond rank and saleprice is poor"
   ]
  },
  {
   "cell_type": "code",
   "execution_count": 855,
   "id": "03d96580",
   "metadata": {},
   "outputs": [],
   "source": [
    "# drop functional\n",
    "train.drop('functional', axis=1, inplace=True)"
   ]
  },
  {
   "cell_type": "code",
   "execution_count": 856,
   "id": "24111e01",
   "metadata": {},
   "outputs": [
    {
     "name": "stdout",
     "output_type": "stream",
     "text": [
      "              size           mean\n",
      "fireplace_qu                     \n",
      "Po              31  139263.967742\n",
      "non           1000  142001.103000\n",
      "Fa              59  170287.203390\n",
      "TA             407  204893.621622\n",
      "Gd             523  233578.388145\n",
      "Ex              31  331481.483871\n"
     ]
    }
   ],
   "source": [
    "# fireplace_qu\n",
    "count_mean('fireplace_qu') # to convert fireplace_qu to continuous since saleprice is ordered"
   ]
  },
  {
   "cell_type": "code",
   "execution_count": 857,
   "id": "52918761",
   "metadata": {},
   "outputs": [],
   "source": [
    "# convery fireplace_qu to continuous\n",
    "train['fireplace_qu'] = train['fireplace_qu'].map(ordto_con)"
   ]
  },
  {
   "cell_type": "code",
   "execution_count": 858,
   "id": "603e49cc",
   "metadata": {},
   "outputs": [
    {
     "name": "stdout",
     "output_type": "stream",
     "text": [
      "             size           mean\n",
      "garage_type                     \n",
      "CarPort        11  103823.545455\n",
      "non           114  106065.991228\n",
      "Detchd        535  132097.852336\n",
      "Basment        27  143242.333333\n",
      "2Types         19  157184.210526\n",
      "Attchd       1213  205040.195383\n",
      "BuiltIn       132  247883.522727\n",
      "               size           mean\n",
      "garage_finish                     \n",
      "non             114  106065.991228\n",
      "Unf             849  140718.148410\n",
      "RFn             579  204792.036269\n",
      "Fin             509  239800.664047\n",
      "             size           mean\n",
      "garage_qual                     \n",
      "Po              2   65000.000000\n",
      "non           114  106065.991228\n",
      "Fa             82  116184.890244\n",
      "TA           1832  188312.700328\n",
      "Ex              3  241000.000000\n",
      "Gd             18  262989.277778\n",
      "             size           mean\n",
      "garage_cond                     \n",
      "Po              8   89925.000000\n",
      "non           114  106065.991228\n",
      "Fa             47  107387.957447\n",
      "Ex              2  124000.000000\n",
      "TA           1868  188211.900964\n",
      "Gd             12  209030.833333\n"
     ]
    }
   ],
   "source": [
    "# garage_type, garage_finish, garage_qual, garage_cond\n",
    "count_mean('garage_type')\n",
    "count_mean('garage_finish') # to convert to continuous since saleprice is reasonably ordered\n",
    "count_mean('garage_qual') # to convert to continuous since saleprice is reasonably ordered\n",
    "count_mean('garage_cond') # to drop as the order according to cond rank and saleprice is poor\n"
   ]
  },
  {
   "cell_type": "code",
   "execution_count": 859,
   "id": "ce2fc2e4",
   "metadata": {},
   "outputs": [],
   "source": [
    "# to drop garage_finish and garage_cond\n",
    "# convert garage_qual to continuous\n",
    "\n",
    "train.drop('garage_cond', axis=1, inplace=True)\n",
    "train['garage_qual'] = train['garage_qual'].map(ordto_con)"
   ]
  },
  {
   "cell_type": "code",
   "execution_count": 860,
   "id": "cbe4ba12",
   "metadata": {},
   "outputs": [],
   "source": [
    "# Function to convert garage_finish\n",
    "# Function to convert scale from ordinal to continuous\n",
    "def garage_fin_con(category):\n",
    "    if type(category) == str:\n",
    "        if category == 'non':\n",
    "            return 0\n",
    "        elif category == 'Unf':\n",
    "            return 1\n",
    "        elif category == 'RFn':\n",
    "            return 2\n",
    "        elif category == 'Fin':\n",
    "            return 2\n",
    "        else:\n",
    "            return np.nan\n",
    "    else:\n",
    "        return category\n",
    "\n",
    "train['garage_finish'] = train['garage_finish'].map(garage_fin_con)"
   ]
  },
  {
   "cell_type": "code",
   "execution_count": 861,
   "id": "c4fbb64d",
   "metadata": {},
   "outputs": [],
   "source": [
    "# The remaining categorical variables were also examined, \n",
    "# but no transformation was performed.\n",
    "# Variables were kept as is\n",
    "\n",
    "# street and alley\n",
    "# land_contour\n",
    "# bldg_type and house_style\n",
    "# roof_style\n",
    "# roof_matl\n",
    "# exterior_1st\n",
    "# exterior_2nd\n",
    "# mas_vnr_type\n",
    "# foundation\n",
    "# central_air\n",
    "# paved_drive\n",
    "# fence\n",
    "# sale_type"
   ]
  },
  {
   "cell_type": "markdown",
   "id": "c29fc2ff",
   "metadata": {},
   "source": [
    "### Remarks\n",
    "**Categorical features data cleaning**\n",
    "\n",
    "All categorical features had only their expected values.<br/>\n",
    "Several ordinal features which were suitable, were converted to numeric type (continuous features). There were also several ordinal features which were not suitable to be converted to continuous features. These features did not follow the logical order (e.g. garage_cond which had excellent condition had lower prices on average than typical and good garage_cond). This could be because of the low counts in the excellent category, and the overuse of the typical category when surveyors are unsure what to rate.<br/>\n",
    "\n",
    "Other problematic features had few counts within each feature, and some features did not have much variation in saleprice across its categories. These categories are likely rare in the houses in Ames, and do not affect the price much. For example utilities had 3 categories with only 1 count in 2 of the categoires.\n",
    "\n",
    "Features which were considered problematic according to the two broad issues raised above were removed. This is done at this point as no further cleaning will be performed for categorical features."
   ]
  },
  {
   "cell_type": "code",
   "execution_count": 862,
   "id": "5e89e76f",
   "metadata": {},
   "outputs": [
    {
     "name": "stdout",
     "output_type": "stream",
     "text": [
      "(2051, 44)\n",
      "(2051, 27)\n"
     ]
    }
   ],
   "source": [
    "print(train.select_dtypes([np.number]).shape)\n",
    "print(train.select_dtypes(include='object').shape)"
   ]
  },
  {
   "cell_type": "markdown",
   "id": "d7568cca",
   "metadata": {},
   "source": [
    "# Data Visualisation for numeric variables\n",
    "\n",
    "To visualise numeric variables and its relationship with saleprice.\n",
    "- For numeric variables which are clearly not linear and have a low correlation (< 0.2). They will be considered for removal."
   ]
  },
  {
   "cell_type": "code",
   "execution_count": 863,
   "id": "55f13eff",
   "metadata": {},
   "outputs": [
    {
     "data": {
      "image/png": "[encoded data removed]",
      "text/plain": [
       "<Figure size 432x288 with 1 Axes>"
      ]
     },
     "metadata": {
      "needs_background": "light"
     },
     "output_type": "display_data"
    }
   ],
   "source": [
    "plt.hist(train['saleprice'], bins=50) \n",
    "plt.ylabel('Counts')\n",
    "plt.xlabel('saleprice') # saleprice is reasonably normal\n",
    "plt.title('Histogram of saleprice', fontsize=15);"
   ]
  },
  {
   "cell_type": "code",
   "execution_count": 864,
   "id": "c2152840",
   "metadata": {},
   "outputs": [],
   "source": [
    "# Function to explore numeric variables\n",
    "\n",
    "def plot_cor(columns):\n",
    "    var=list(columns)\n",
    "    var.append('saleprice')\n",
    "    corr_series = train[var].corr().unstack() \n",
    "    corr_series = corr_series[corr_series != 1] # remove corr = 1, ie correlate with itself\n",
    "    corr_sorted = corr_series['saleprice'].sort_values()  # sort series of correlations\n",
    "    print(corr_sorted)\n",
    "    scat = sns.pairplot(data=train,\n",
    "                        y_vars=['saleprice'],\n",
    "                        x_vars=train[columns])\n",
    "    scat.fig.subplots_adjust(top=.8)\n",
    "    scat.fig.set_size_inches(15,4)\n",
    "    scat.fig.suptitle('Scatterplot of saleprice and predictors', fontsize = 20)\n"
   ]
  },
  {
   "cell_type": "code",
   "execution_count": 865,
   "id": "529fc57d",
   "metadata": {},
   "outputs": [
    {
     "data": {
      "text/plain": [
       "Index(['lot_frontage', 'lot_area', 'overall_qual', 'overall_cond', 'house_age',\n",
       "       'year_remod/add', 'mas_vnr_area', 'bsmtfin_sf_1', 'bsmtfin_sf_2',\n",
       "       'bsmt_unf_sf', 'total_bsmt_sf', '1st_flr_sf', '2nd_flr_sf',\n",
       "       'low_qual_fin_sf', 'gr_liv_area', 'bsmt_full_bath', 'bsmt_half_bath',\n",
       "       'full_bath', 'half_bath', 'bedroom_abvgr', 'kitchen_abvgr',\n",
       "       'totrms_abvgrd', 'fireplaces', 'garage_age', 'garage_cars',\n",
       "       'garage_area', 'wood_deck_sf', 'open_porch_sf', 'enclosed_porch',\n",
       "       '3ssn_porch', 'screen_porch', 'pool', 'misc_val', 'yr_sold',\n",
       "       'saleprice'],\n",
       "      dtype='object')"
      ]
     },
     "execution_count": 865,
     "metadata": {},
     "output_type": "execute_result"
    }
   ],
   "source": [
    "# An idea of the numeric columns\n",
    "num_col"
   ]
  },
  {
   "cell_type": "code",
   "execution_count": 866,
   "id": "230d6234",
   "metadata": {},
   "outputs": [
    {
     "name": "stdout",
     "output_type": "stream",
     "text": [
      "house_age        -0.571849\n",
      "overall_cond     -0.097019\n",
      "lot_frontage      0.181456\n",
      "lot_area          0.296566\n",
      "year_remod/add    0.550370\n",
      "overall_qual      0.800207\n",
      "dtype: float64\n"
     ]
    },
    {
     "data": {
      "image/png": "[encoded data removed]",
      "text/plain": [
       "<Figure size 1080x288 with 6 Axes>"
      ]
     },
     "metadata": {
      "needs_background": "light"
     },
     "output_type": "display_data"
    }
   ],
   "source": [
    "# explore numeric variables 0:6\n",
    "plot_cor(num_col[:6]) # all have reasonable correlation and trend\n",
    "                      # further investigate overall_cond\n",
    "                      # lot_area appears congested at beginning of axis"
   ]
  },
  {
   "cell_type": "code",
   "execution_count": 867,
   "id": "44cdfbda",
   "metadata": {},
   "outputs": [
    {
     "name": "stdout",
     "output_type": "stream",
     "text": [
      "              size           mean\n",
      "overall_cond                     \n",
      "1                4   59625.000000\n",
      "2                6   65364.833333\n",
      "3               35   99786.000000\n",
      "4               70  114034.571429\n",
      "6              368  148952.665761\n",
      "7              270  155327.270370\n",
      "8              101  155913.366337\n",
      "9               29  198177.586207\n",
      "5             1168  207055.988870\n"
     ]
    }
   ],
   "source": [
    "# view overall_cond\n",
    "count_mean('overall_cond') # option 5 is overused.\n",
    "                           # if not, then the scale is very linear\n",
    "                           # to convert to an ordinal feature with some groupings\n"
   ]
  },
  {
   "cell_type": "code",
   "execution_count": 868,
   "id": "d7dac85f",
   "metadata": {},
   "outputs": [],
   "source": [
    "def conto_ord(category):\n",
    "    if type(category) != str:\n",
    "        if category < 3:\n",
    "            return 'poor'\n",
    "        if category < 5:\n",
    "            return 'fair'\n",
    "        elif category == 5:\n",
    "            return 'avg'\n",
    "        elif category < 9:\n",
    "            return 'good'\n",
    "        elif category == 9:\n",
    "            return 'ex'\n",
    "        else:\n",
    "            return np.nan\n",
    "    else:\n",
    "        return category"
   ]
  },
  {
   "cell_type": "code",
   "execution_count": 869,
   "id": "07c4f522",
   "metadata": {},
   "outputs": [],
   "source": [
    "train['overall_cond'] = train['overall_cond'].map(conto_ord)"
   ]
  },
  {
   "cell_type": "code",
   "execution_count": 870,
   "id": "ba0a3686",
   "metadata": {},
   "outputs": [
    {
     "name": "stdout",
     "output_type": "stream",
     "text": [
      "              saleprice  lot_area_log  lot_area\n",
      "saleprice      1.000000      0.366678  0.296566\n",
      "lot_area_log   0.366678      1.000000  0.773592\n",
      "lot_area       0.296566      0.773592  1.000000\n"
     ]
    },
    {
     "data": {
      "image/png": "[encoded data removed]",
      "text/plain": [
       "<Figure size 432x288 with 2 Axes>"
      ]
     },
     "metadata": {
      "needs_background": "light"
     },
     "output_type": "display_data"
    }
   ],
   "source": [
    "# transformation of lot_area\n",
    "train['lot_area_log']=np.log(train['lot_area'])\n",
    "print(train[['saleprice','lot_area_log','lot_area']].corr())\n",
    "\n",
    "lot_plot = sns.pairplot(data=train, y_vars=['saleprice'], x_vars=['lot_area_log','lot_area'])\n",
    "                            # lot_area_log has a better linear trend\n",
    "                            # and better correlation\n",
    "lot_plot.fig.subplots_adjust(top=.8)\n",
    "lot_plot.fig.set_size_inches(6,4)\n",
    "lot_plot.fig.suptitle('Scatterplot of lot_area and its transformation', fontsize =15)\n",
    "        \n",
    "drop_list = ['lot_area'] # include lot_area to drop list"
   ]
  },
  {
   "cell_type": "code",
   "execution_count": 871,
   "id": "f32f7627",
   "metadata": {},
   "outputs": [],
   "source": [
    "# remove outliers as seen in lot_area\n",
    "\n",
    "# appear to have two clear outliers of very large property\n",
    "train = train.loc[train['lot_area']<100000,:] # remove 2 lot_area outliers"
   ]
  },
  {
   "cell_type": "code",
   "execution_count": 872,
   "id": "2fdfb296",
   "metadata": {},
   "outputs": [
    {
     "name": "stdout",
     "output_type": "stream",
     "text": [
      "bsmtfin_sf_2     0.016835\n",
      "bsmt_unf_sf      0.191051\n",
      "bsmtfin_sf_1     0.422993\n",
      "mas_vnr_area     0.502525\n",
      "1st_flr_sf       0.617896\n",
      "total_bsmt_sf    0.628782\n",
      "dtype: float64\n"
     ]
    },
    {
     "data": {
      "image/png": "[encoded data removed]",
      "text/plain": [
       "<Figure size 1080x288 with 6 Axes>"
      ]
     },
     "metadata": {
      "needs_background": "light"
     },
     "output_type": "display_data"
    }
   ],
   "source": [
    "# explore numeric variables 6:12\n",
    "plot_cor(num_col[6:12]) # all have reasonable correlation and trend\n",
    "                        # bsmt_sf appear to have outliers\n",
    "                        # further investigate overall_cond"
   ]
  },
  {
   "cell_type": "code",
   "execution_count": 873,
   "id": "00b84b84",
   "metadata": {},
   "outputs": [
    {
     "data": {
      "text/plain": [
       "(2047, 72)"
      ]
     },
     "execution_count": 873,
     "metadata": {},
     "output_type": "execute_result"
    }
   ],
   "source": [
    "train = train.loc[train['total_bsmt_sf']<4000,:] # remove 2 total_bsmt_sf outliers\n",
    "train.shape"
   ]
  },
  {
   "cell_type": "code",
   "execution_count": 874,
   "id": "0a5bc7bf",
   "metadata": {},
   "outputs": [],
   "source": [
    "# add bsmtfin_sf_2' to drop_list\n",
    "# as it has a poor linear trend and correlation\n",
    "\n",
    "drop_list.append('bsmtfin_sf_2')"
   ]
  },
  {
   "cell_type": "code",
   "execution_count": 875,
   "id": "51d8e46f",
   "metadata": {},
   "outputs": [
    {
     "name": "stdout",
     "output_type": "stream",
     "text": [
      "low_qual_fin_sf   -0.041503\n",
      "2nd_flr_sf         0.249199\n",
      "gr_liv_area        0.719230\n",
      "dtype: float64\n"
     ]
    },
    {
     "data": {
      "image/png": "[encoded data removed]",
      "text/plain": [
       "<Figure size 1080x288 with 3 Axes>"
      ]
     },
     "metadata": {
      "needs_background": "light"
     },
     "output_type": "display_data"
    }
   ],
   "source": [
    "# explore numeric variables 12:15\n",
    "plot_cor(num_col[12:15]) # low_qual_fin_sf has few counts, poor corr and no trend, to drop"
   ]
  },
  {
   "cell_type": "code",
   "execution_count": 876,
   "id": "94895e51",
   "metadata": {},
   "outputs": [],
   "source": [
    "# add low_qual_fin_sf to drop list\n",
    "drop_list.append('low_qual_fin_sf')"
   ]
  },
  {
   "cell_type": "code",
   "execution_count": 877,
   "id": "86e695df",
   "metadata": {},
   "outputs": [
    {
     "name": "stdout",
     "output_type": "stream",
     "text": [
      "bsmt_half_bath   -0.047754\n",
      "bsmt_full_bath    0.284488\n",
      "half_bath         0.284694\n",
      "full_bath         0.537850\n",
      "dtype: float64\n"
     ]
    },
    {
     "data": {
      "image/png": "[encoded data removed]",
      "text/plain": [
       "<Figure size 1080x288 with 4 Axes>"
      ]
     },
     "metadata": {
      "needs_background": "light"
     },
     "output_type": "display_data"
    }
   ],
   "source": [
    "# explore numeric variables 15:19\n",
    "plot_cor(num_col[15:19])"
   ]
  },
  {
   "cell_type": "code",
   "execution_count": 878,
   "id": "166abc04",
   "metadata": {},
   "outputs": [
    {
     "name": "stdout",
     "output_type": "stream",
     "text": [
      "                size           mean\n",
      "bsmt_full_bath                     \n",
      "0.0             1201  162536.485429\n",
      "3.0                2  179000.000000\n",
      "1.0              822  207139.812652\n",
      "2.0               22  247193.772727\n",
      "                size           mean\n",
      "bsmt_half_bath                     \n",
      "1.0              120  165503.450000\n",
      "2.0                4  177300.250000\n",
      "0.0             1923  182372.279251\n",
      "           size           mean\n",
      "full_bath                     \n",
      "1           900  134870.961111\n",
      "0             8  170226.000000\n",
      "2          1092  214541.596154\n",
      "4             2  269500.000000\n",
      "3            45  304609.155556\n",
      "           size           mean\n",
      "half_bath                     \n",
      "0          1306  163559.251149\n",
      "2            18  173912.388889\n",
      "1           723  213738.178423\n"
     ]
    }
   ],
   "source": [
    "# explore bath variables\n",
    "count_mean('bsmt_full_bath')\n",
    "count_mean('bsmt_half_bath')\n",
    "count_mean('full_bath')\n",
    "count_mean('half_bath')\n",
    "                                # ranking for all bath variables appear to be off\n",
    "                                # Do not follow a logical order or trend\n",
    "                                # to drop all bath variables.\n"
   ]
  },
  {
   "cell_type": "code",
   "execution_count": 879,
   "id": "d33c41b1",
   "metadata": {},
   "outputs": [],
   "source": [
    "# add 'bsmt_full_bath', 'bsmt_half_bath', 'full_bath' and 'half_bath' to drop_list\n",
    "drop_list.extend(['bsmt_full_bath', 'bsmt_half_bath', 'full_bath', 'half_bath'])"
   ]
  },
  {
   "cell_type": "code",
   "execution_count": 880,
   "id": "2073c314",
   "metadata": {},
   "outputs": [
    {
     "name": "stdout",
     "output_type": "stream",
     "text": [
      "garage_age      -0.566310\n",
      "kitchen_abvgr   -0.125318\n",
      "bedroom_abvgr    0.137307\n",
      "fireplaces       0.472400\n",
      "totrms_abvgrd    0.510838\n",
      "dtype: float64\n"
     ]
    },
    {
     "data": {
      "image/png": "[encoded data removed]",
      "text/plain": [
       "<Figure size 1080x288 with 5 Axes>"
      ]
     },
     "metadata": {
      "needs_background": "light"
     },
     "output_type": "display_data"
    }
   ],
   "source": [
    "# explore numeric variables 18:24\n",
    "plot_cor(num_col[19:24])"
   ]
  },
  {
   "cell_type": "code",
   "execution_count": 881,
   "id": "ae62aee7",
   "metadata": {},
   "outputs": [
    {
     "name": "stdout",
     "output_type": "stream",
     "text": [
      "               size           mean\n",
      "bedroom_abvgr                     \n",
      "6                12  164111.333333\n",
      "2               542  164367.787823\n",
      "3              1107  180645.943089\n",
      "1                75  182388.920000\n",
      "8                 1  200000.000000\n",
      "5                41  203885.951220\n",
      "4               264  215141.363636\n",
      "0                 5  240791.800000\n"
     ]
    }
   ],
   "source": [
    "# 'bedroom_abvgr'\n",
    "count_mean('bedroom_abvgr') # ranks do not make sense\n",
    "                            # to drop especially since there is another similar variable"
   ]
  },
  {
   "cell_type": "code",
   "execution_count": 882,
   "id": "a10f2224",
   "metadata": {},
   "outputs": [
    {
     "name": "stdout",
     "output_type": "stream",
     "text": [
      "               size           mean\n",
      "kitchen_abvgr                     \n",
      "3                 1  106000.000000\n",
      "0                 2  127500.000000\n",
      "2                88  133367.886364\n",
      "1              1956  183626.857873\n"
     ]
    }
   ],
   "source": [
    "# 'kitchen_abvgr'\n",
    "count_mean('kitchen_abvgr') # has poor correlation and trend\n",
    "                            # to drop"
   ]
  },
  {
   "cell_type": "code",
   "execution_count": 883,
   "id": "92c3968e",
   "metadata": {},
   "outputs": [],
   "source": [
    "drop_list.extend(['kitchen_abvgr', 'bedroom_abvgr'])"
   ]
  },
  {
   "cell_type": "code",
   "execution_count": 884,
   "id": "2c94c3b3",
   "metadata": {
    "scrolled": false
   },
   "outputs": [
    {
     "name": "stdout",
     "output_type": "stream",
     "text": [
      "enclosed_porch   -0.135344\n",
      "3ssn_porch        0.048903\n",
      "wood_deck_sf      0.327141\n",
      "open_porch_sf     0.338443\n",
      "garage_cars       0.648459\n",
      "garage_area       0.655278\n",
      "dtype: float64\n"
     ]
    },
    {
     "data": {
      "image/png": "[encoded data removed]",
      "text/plain": [
       "<Figure size 1080x288 with 6 Axes>"
      ]
     },
     "metadata": {
      "needs_background": "light"
     },
     "output_type": "display_data"
    }
   ],
   "source": [
    "# explore numeric variables 18:24\n",
    "plot_cor(num_col[24:30])"
   ]
  },
  {
   "cell_type": "code",
   "execution_count": 885,
   "id": "ea0c8ab8",
   "metadata": {},
   "outputs": [],
   "source": [
    "# add 'enclosed_porch' and '3ssn_porch' to drop_list\n",
    "# enclosed_porch' and '3ssn_porch' have poor correlation and linear trend\n",
    "drop_list.extend(['enclosed_porch', '3ssn_porch'])"
   ]
  },
  {
   "cell_type": "code",
   "execution_count": 886,
   "id": "4f10830b",
   "metadata": {},
   "outputs": [
    {
     "name": "stdout",
     "output_type": "stream",
     "text": [
      "yr_sold        -0.014402\n",
      "yr_sold        -0.014402\n",
      "misc_val       -0.010881\n",
      "misc_val       -0.010881\n",
      "pool            0.028060\n",
      "pool            0.028060\n",
      "screen_porch    0.135068\n",
      "screen_porch    0.135068\n",
      "dtype: float64\n"
     ]
    },
    {
     "data": {
      "image/png": "[encoded data removed]",
      "text/plain": [
       "<Figure size 1080x288 with 6 Axes>"
      ]
     },
     "metadata": {
      "needs_background": "light"
     },
     "output_type": "display_data"
    }
   ],
   "source": [
    "# explore numeric variables 30:\n",
    "plot_cor(num_col[30:])"
   ]
  },
  {
   "cell_type": "code",
   "execution_count": 887,
   "id": "6bd96808",
   "metadata": {},
   "outputs": [
    {
     "name": "stdout",
     "output_type": "stream",
     "text": [
      "      size          mean\n",
      "pool                    \n",
      "0     2039  181234.20206\n",
      "1        8  216871.25000\n"
     ]
    }
   ],
   "source": [
    "# pool is actually binary\n",
    "count_mean('pool') # small counts in homes with pool and small differences in saleprice\n",
    "                    # to drop"
   ]
  },
  {
   "cell_type": "code",
   "execution_count": 888,
   "id": "64d1f0bc",
   "metadata": {},
   "outputs": [],
   "source": [
    "# add 'yr_sold', 'misc_val' and 'screen_porch' to drop_list\n",
    "# variables have poor correlation and linear trend\n",
    "drop_list.extend(['screen_porch', 'yr_sold', 'misc_val', 'pool'])"
   ]
  },
  {
   "cell_type": "code",
   "execution_count": 889,
   "id": "6c03bc59",
   "metadata": {},
   "outputs": [
    {
     "data": {
      "text/plain": [
       "['lot_area',\n",
       " 'bsmtfin_sf_2',\n",
       " 'low_qual_fin_sf',\n",
       " 'bsmt_full_bath',\n",
       " 'bsmt_half_bath',\n",
       " 'full_bath',\n",
       " 'half_bath',\n",
       " 'kitchen_abvgr',\n",
       " 'bedroom_abvgr',\n",
       " 'enclosed_porch',\n",
       " '3ssn_porch',\n",
       " 'screen_porch',\n",
       " 'yr_sold',\n",
       " 'misc_val',\n",
       " 'pool']"
      ]
     },
     "execution_count": 889,
     "metadata": {},
     "output_type": "execute_result"
    }
   ],
   "source": [
    "drop_list"
   ]
  },
  {
   "cell_type": "code",
   "execution_count": 890,
   "id": "e73c5f30",
   "metadata": {},
   "outputs": [
    {
     "name": "stdout",
     "output_type": "stream",
     "text": [
      "(2047, 29)\n",
      "(2047, 57)\n"
     ]
    }
   ],
   "source": [
    "# drop variables in droplist\n",
    "train.drop(drop_list, axis=1, inplace=True)\n",
    "\n",
    "# number of features\n",
    "print(train.select_dtypes([np.number]).shape)\n",
    "print(train.shape)"
   ]
  },
  {
   "cell_type": "markdown",
   "id": "481a67d5",
   "metadata": {},
   "source": [
    "### Remarks\n",
    "**Continuous features data cleaning**\n",
    "\n",
    "All continuous features were within their range if it was prescribed.\n",
    "\n",
    "Lot area was log transformed, which improved its correlation with saleprice.\n",
    "\n",
    "Some outliers were spotted, probably from very large houses which is uncommon. These datapoints were removed from the sample.\n",
    "\n",
    "Certain varaibles had very little useful counts within the feature causing the bulk of the data to be at 0. For example low_qual_sq_fin were mostly 0, likely cause few homes had low quality finished areas in their homes. Such variables were dropped.\n",
    "\n",
    "bsmt_full_bath, bsmt_half_bath, full_bath and half_bath features are in between continuous and categorical features. Nonetheless they did not appear to have a relationship with saleprice and were dropped."
   ]
  },
  {
   "cell_type": "markdown",
   "id": "04f9f7b0",
   "metadata": {},
   "source": [
    "### Remarks\n",
    "**After data cleaning and eda**\n",
    "\n",
    "The dataset provides numerous features which is largely clean and usable. Features which have been deemed important during background research are available in the dataset, and simple correlations have revealed multiple variables with high correlations with the outcome of interest, saleprice.<br/>\n",
    "\n",
    "It is likely that a reasonable model can be built fromt he existing data which can predict saleprice."
   ]
  },
  {
   "cell_type": "markdown",
   "id": "44094e95",
   "metadata": {},
   "source": [
    "### Assessing Correlations between predictors\n",
    "\n",
    "Check and remove variables which are highly correlated, and conceptually similar."
   ]
  },
  {
   "cell_type": "code",
   "execution_count": 891,
   "id": "32db6339",
   "metadata": {},
   "outputs": [
    {
     "data": {
      "text/plain": [
       "garage_area    garage_cars      0.897597\n",
       "garage_cars    garage_area      0.897597\n",
       "fireplace_qu   fireplaces       0.861572\n",
       "fireplaces     fireplace_qu     0.861572\n",
       "totrms_abvgrd  gr_liv_area      0.812835\n",
       "gr_liv_area    totrms_abvgrd    0.812835\n",
       "overall_qual   saleprice        0.803859\n",
       "saleprice      overall_qual     0.803859\n",
       "1st_flr_sf     total_bsmt_sf    0.789959\n",
       "total_bsmt_sf  1st_flr_sf       0.789959\n",
       "garage_age     house_age        0.788174\n",
       "house_age      garage_age       0.788174\n",
       "exter_qual     overall_qual     0.738963\n",
       "overall_qual   exter_qual       0.738963\n",
       "kitchen_qual   exter_qual       0.729390\n",
       "exter_qual     kitchen_qual     0.729390\n",
       "gr_liv_area    saleprice        0.719230\n",
       "saleprice      gr_liv_area      0.719230\n",
       "garage_cars    garage_age       0.716402\n",
       "garage_age     garage_cars      0.716402\n",
       "dtype: float64"
      ]
     },
     "execution_count": 891,
     "metadata": {},
     "output_type": "execute_result"
    }
   ],
   "source": [
    "# Reference list of highly correlated variables\n",
    "# If they are set to 0 by lasso later on, can check if they are represented by a similar variable\n",
    "\n",
    "# Examine highly correlated variables \n",
    "# to weed out possible multicollinear variables\n",
    "corr_abs = train.select_dtypes([np.number]).corr().abs() # get absolute correlations\n",
    "corr_series = corr_abs.unstack()                         # convert df to series\n",
    "corr_sorted = corr_series.sort_values(ascending=False)   # sort series of correlations\n",
    "corr_sorted = corr_sorted[corr_sorted != 1]              # remove corr = 1, ie correlate with itself\n",
    "corr_sorted[:20]"
   ]
  },
  {
   "cell_type": "code",
   "execution_count": 892,
   "id": "998e9219",
   "metadata": {},
   "outputs": [],
   "source": [
    "# for vairables which are highly correlated (r > 0.8), and are logically related, to only use one\n",
    "# remove garage_cars\n",
    "# remove totrms_abvgrd\n",
    "\n",
    "train.drop(['garage_cars', 'totrms_abvgrd'], axis=1, inplace=True)"
   ]
  },
  {
   "cell_type": "markdown",
   "id": "d34b3b68",
   "metadata": {},
   "source": [
    "### Data cleaning for Kaggle Upload"
   ]
  },
  {
   "cell_type": "code",
   "execution_count": 893,
   "id": "acee4aa6",
   "metadata": {},
   "outputs": [],
   "source": [
    "# test data cleaning and transformation\n",
    "test_or = pd.read_csv('datasets/test.csv')\n",
    "test = pd.read_csv('datasets/test.csv')\n",
    "\n",
    "new_col_names = [x.replace(\" \", \"_\").lower() for x in list(test.columns)]\n",
    "test.columns = new_col_names\n",
    "\n",
    "test.drop('pool_qc', axis = 1, inplace = True)  \n",
    "test['pool_area'] = [ x if x == 0 else 1 for x in test['pool_area']]\n",
    "test.rename(columns={\"pool_area\": \"pool\"}, inplace=True)\n",
    "\n",
    "test.drop('misc_feature', axis=1, inplace=True)\n",
    "test['alley'].fillna('no_alley', inplace=True)\n",
    "test['fence'].fillna('no_fence', inplace=True)\n",
    "test['fireplace_qu'].fillna('non', inplace=True)\n",
    "\n",
    "\n",
    "test.fillna({\n",
    "    'mas_vnr_type' : 'non',\n",
    "    'mas_vnr_area' : 0,  \n",
    "}, inplace=True)\n",
    "\n",
    "test['lot_frontage'].fillna(0, inplace=True)\n",
    "\n",
    "test['garage_yr_blt'] = test['garage_yr_blt'].fillna(1910)\n",
    "           \n",
    "test.loc[(test['garage_area'].isnull()) & \n",
    "          (test['garage_type'] == 'Detchd'), 'garage_type'] = np.nan\n",
    "           \n",
    "test.fillna({\n",
    "    'garage_type':'non',\n",
    "    'garage_finish':'non',\n",
    "    'garage_qual':'non',\n",
    "    'garage_cond':'non',\n",
    "    'garage_cars' : 0,\n",
    "    'garage_area' : 0\n",
    "}, inplace=True)\n",
    "\n",
    "\n",
    "test.fillna({\n",
    "    'bsmt_qual':'non',\n",
    "    'bsmt_cond':'non',\n",
    "    'bsmt_exposure':'non',\n",
    "    'bsmtfin_type_1':'non',\n",
    "    'bsmtfin_sf_1' : 0,\n",
    "    'bsmtfin_type_2' : 'non',\n",
    "    'bsmtfin_sf_2' : 0,\n",
    "    'bsmt_unf_sf' : 0,\n",
    "    'total_bsmt_sf' : 0,\n",
    "    'bsmt_full_bath' : 0,\n",
    "    'bsmt_half_bath' : 0,  \n",
    "}, inplace=True)\n",
    "\n",
    "test['garage_yr_blt'] = 2010 - test['garage_yr_blt']\n",
    "test['year_built'] = 2010 - test['year_built']\n",
    "\n",
    "test.rename(columns={\"garage_yr_blt\": \"garage_age\", \"year_built\": \"house_age\"}, inplace=True)\n",
    "\n",
    "test.drop(['pid', 'id'], axis=1, inplace=True)\n",
    "test['ms_subclass'] = test['ms_subclass'].astype(str)\n",
    "test['mo_sold'] = test['mo_sold'].astype(str)\n",
    "\n",
    "test['ms_zoning']=['a_c_i' if x in ['A (agr)', 'I (all)', 'C (all)'] else x for x in test['ms_zoning']]\n",
    "test.drop('lot_shape', axis = 1, inplace=True)\n",
    "test.drop('utilities', axis=1, inplace=True)\n",
    "test.drop('land_slope', axis=1, inplace=True)\n",
    "\n",
    "test['exter_qual'] = test['exter_qual'].map(ordto_con)\n",
    "test.drop('exter_cond', axis = 1, inplace=True)\n",
    "test['bsmt_qual'] = test['bsmt_qual'].map(ordto_con)\n",
    "test['bsmt_cond'] = test['bsmt_cond'].map(ordto_con)\n",
    "\n",
    "test['bsmt_exposure'] = test['bsmt_exposure'].map(ordto_con2)\n",
    "test['bsmtfin_type_1'] = test['bsmtfin_type_1'].map(bsmt_categorise)\n",
    "test['bsmtfin_type_2'] = test['bsmtfin_type_2'].map(bsmt_categorise)\n",
    "\n",
    "test['heating_qc'] = test['heating_qc'].map(ordto_con)\n",
    "\n",
    "test['electrical'] = ['FuseP_Mix' if x in ['FuseP', 'Mix'] else x for x in test['electrical']]\n",
    "test['kitchen_qual'] = test['kitchen_qual'].map(ordto_con)\n",
    "test.drop('functional', axis=1, inplace=True)\n",
    "test['fireplace_qu'] = test['fireplace_qu'].map(ordto_con)\n",
    "\n",
    "test.drop('garage_cond', axis=1, inplace=True)\n",
    "test['garage_qual'] = test['garage_qual'].map(ordto_con)\n",
    "test['garage_finish'] = test['garage_finish'].map(garage_fin_con)\n",
    "\n",
    "test['lot_area_log']=np.log(test['lot_area'])\n",
    "\n",
    "test['overall_cond'] = test['overall_cond'].map(conto_ord)\n",
    "test.drop(drop_list, axis=1, inplace=True)\n",
    "\n",
    "test.drop(['garage_cars', 'totrms_abvgrd'], axis=1, inplace=True)"
   ]
  },
  {
   "cell_type": "code",
   "execution_count": 894,
   "id": "98255102",
   "metadata": {},
   "outputs": [
    {
     "data": {
      "text/plain": [
       "Index(['lot_frontage', 'overall_qual', 'house_age', 'year_remod/add',\n",
       "       'mas_vnr_area', 'exter_qual', 'bsmt_qual', 'bsmt_cond', 'bsmt_exposure',\n",
       "       'bsmtfin_sf_1', 'bsmt_unf_sf', 'total_bsmt_sf', 'heating_qc',\n",
       "       '1st_flr_sf', '2nd_flr_sf', 'gr_liv_area', 'kitchen_qual', 'fireplaces',\n",
       "       'fireplace_qu', 'garage_age', 'garage_finish', 'garage_area',\n",
       "       'garage_qual', 'wood_deck_sf', 'open_porch_sf', 'saleprice',\n",
       "       'lot_area_log'],\n",
       "      dtype='object')"
      ]
     },
     "execution_count": 894,
     "metadata": {},
     "output_type": "execute_result"
    }
   ],
   "source": [
    "train.select_dtypes([np.number]).columns"
   ]
  },
  {
   "cell_type": "code",
   "execution_count": 895,
   "id": "f6cbefe3",
   "metadata": {},
   "outputs": [
    {
     "data": {
      "text/plain": [
       "Index(['ms_subclass', 'ms_zoning', 'street', 'alley', 'land_contour',\n",
       "       'lot_config', 'neighborhood', 'condition_1', 'condition_2', 'bldg_type',\n",
       "       'house_style', 'overall_cond', 'roof_style', 'roof_matl',\n",
       "       'exterior_1st', 'exterior_2nd', 'mas_vnr_type', 'foundation',\n",
       "       'bsmtfin_type_1', 'bsmtfin_type_2', 'heating', 'central_air',\n",
       "       'electrical', 'garage_type', 'paved_drive', 'fence', 'mo_sold',\n",
       "       'sale_type'],\n",
       "      dtype='object')"
      ]
     },
     "execution_count": 895,
     "metadata": {},
     "output_type": "execute_result"
    }
   ],
   "source": [
    "train.select_dtypes(include='object').columns"
   ]
  },
  {
   "cell_type": "markdown",
   "id": "557c9a3e",
   "metadata": {},
   "source": [
    "# Model Building\n",
    "\n",
    "Model building will be performed in a step-wise fashion where a predetermined set of variables will be added after each step. Each model will be evaluated and poorly performing features will be considered to be dropped.<br/>\n",
    "\n",
    "Model 1: To include variables supported by background research<br/>\n",
    "Model 2: To add the remaining continuous variables<br/>\n",
    "Model 3: To add the remaining categorical variables<br/>\n",
    "Model 4: Polynomial features<br/>"
   ]
  },
  {
   "cell_type": "markdown",
   "id": "50c4e3fc",
   "metadata": {},
   "source": [
    "**Functions are created below to print out key information for the models built.**"
   ]
  },
  {
   "cell_type": "code",
   "execution_count": 896,
   "id": "86ec6c69",
   "metadata": {},
   "outputs": [],
   "source": [
    "# Function to check that the best alpha does not hit a ceiling\n",
    "\n",
    "def check_alphas():\n",
    "    print(lasso_cv.alpha_)\n",
    "    print(ridge_cv.alpha_)\n",
    "    print(enet_cv.alpha_)"
   ]
  },
  {
   "cell_type": "code",
   "execution_count": 897,
   "id": "bb56ab1a",
   "metadata": {},
   "outputs": [],
   "source": [
    "# Function to get the cross validated neg_mean_squared_error for all variables\n",
    "\n",
    "def get_cross_val(model_no):\n",
    "    print(f' Model {model_no} linear regression cross_val nmse is {lr_cross:.0f}')\n",
    "    print(f' Model {model_no} lasso regression cross_val nmse is {lasso_cross:.0f}')\n",
    "    print(f' Model {model_no} ridge regression cross_val nmse is {ridge_cross:.0f}')\n",
    "    print(f' Model {model_no} enet regression cross_val nmse is {enet_cross:.0f}')"
   ]
  },
  {
   "cell_type": "code",
   "execution_count": 898,
   "id": "5d476a05",
   "metadata": {},
   "outputs": [],
   "source": [
    "# Function to get mean squared error and root mean squared error for all models\n",
    "\n",
    "def error_scores(model_no):\n",
    "    print(f' Model {model_no} linear regression mse={lr_mse:.0f}, rmse ={(lr_mse**0.5):.0f}')\n",
    "    print(f' Model {model_no} ridge regression mse={ridge_mse:.0f}, rmse ={(ridge_mse**0.5):.0f}')\n",
    "    print(f' Model {model_no} lasso regression mse={lasso_mse:.0f}, rmse ={(lasso_mse**0.5):.0f}')\n",
    "    print(f' Model {model_no} enet regression mse={enet_mse:.0f}, rmse ={(enet_mse**0.5):.0f}')"
   ]
  },
  {
   "cell_type": "markdown",
   "id": "bd084dac",
   "metadata": {},
   "source": [
    "### Build Base Model (Model 1)\n",
    "\n",
    "Variables highlighted as important based on background research was used to build the base model. This included variables related to:\n",
    "1. Location, neighborhood, nearby features\n",
    "2. Home size, layout\n",
    "3. Home age\n",
    "4. Property condition"
   ]
  },
  {
   "cell_type": "code",
   "execution_count": 899,
   "id": "38487f0c",
   "metadata": {},
   "outputs": [],
   "source": [
    "# Feature Selection\n",
    "features = ['lot_frontage', 'overall_qual', 'exter_qual', # numeric features first\n",
    "           'house_age', 'bsmt_qual', 'bsmt_cond', 'total_bsmt_sf',\n",
    "           'gr_liv_area', 'kitchen_qual', 'garage_age',\n",
    "           'garage_area', 'garage_qual', 'lot_area_log']\n",
    "\n",
    "cat_features = ['ms_zoning', 'neighborhood',\n",
    "                'condition_1', 'condition_2']\n",
    "\n",
    "features.extend(cat_features)\n",
    "X_1 = train[features]\n"
   ]
  },
  {
   "cell_type": "code",
   "execution_count": 900,
   "id": "6dae0155",
   "metadata": {},
   "outputs": [],
   "source": [
    "# Get_dummies\n",
    "# to get_dummies together with kaggle test set\n",
    "\n",
    "test_data = test[features]            # test data\n",
    "X_1_test_data = pd.concat([X_1, test_data])\n",
    "X_1_test_data = pd.get_dummies(data=X_1_test_data, drop_first=True)\n"
   ]
  },
  {
   "cell_type": "code",
   "execution_count": 901,
   "id": "dcb329e0",
   "metadata": {},
   "outputs": [],
   "source": [
    "# Define X and y\n",
    "X = X_1_test_data.iloc[:train.shape[0],:]\n",
    "y = train['saleprice']"
   ]
  },
  {
   "cell_type": "code",
   "execution_count": 902,
   "id": "c3b7de7c",
   "metadata": {},
   "outputs": [],
   "source": [
    "# Train Test Split\n",
    "X_train, X_holdout, y_train, y_holdout = train_test_split(\n",
    "    X,\n",
    "    y,\n",
    ")\n",
    "\n",
    "# Standardisation\n",
    "ss = StandardScaler()\n",
    "ss.fit(X_train)\n",
    "Z_train = ss.transform(X_train)\n",
    "Z_holdout = ss.transform(X_holdout)\n",
    "\n",
    "\n",
    "Z_train = pd.DataFrame(data=Z_train, columns=X_train.columns)\n",
    "Z_holdout = pd.DataFrame(data=Z_holdout, columns=X_holdout.columns)"
   ]
  },
  {
   "cell_type": "code",
   "execution_count": 903,
   "id": "03dea6fb",
   "metadata": {},
   "outputs": [
    {
     "name": "stderr",
     "output_type": "stream",
     "text": [
      "C:\\Users\\User\\.conda\\envs\\dsi\\lib\\site-packages\\sklearn\\linear_model\\_coordinate_descent.py:633: ConvergenceWarning: Objective did not converge. You might want to increase the number of iterations. Duality gap: 1245336700.3963623, tolerance: 794348290.3029631\n",
      "  model = cd_fast.enet_coordinate_descent_gram(\n"
     ]
    },
    {
     "name": "stdout",
     "output_type": "stream",
     "text": [
      "264.34487557598845\n",
      "55.02518894472362\n",
      "0.15025005005005004\n"
     ]
    }
   ],
   "source": [
    "#    1) instantiate linearRegression and the Cross validated models for regularisation\n",
    "\n",
    "lr = LinearRegression()\n",
    "lasso_cv = LassoCV(n_alphas=200)\n",
    "ridge_cv = RidgeCV(alphas=np.linspace(.0001, 150, 200))\n",
    "enet_cv = ElasticNetCV(alphas=np.linspace(.0001, 150, 1000), l1_ratio=0.5)\n",
    "\n",
    "#    2) fit models with the best alpha\n",
    "lasso_cv.fit(Z_train, y_train)\n",
    "ridge_cv.fit(Z_train, y_train)\n",
    "enet_cv.fit(Z_train, y_train)\n",
    "\n",
    "#    3) check that the best alpha does not hit a ceiling\n",
    "check_alphas()"
   ]
  },
  {
   "cell_type": "code",
   "execution_count": 904,
   "id": "5920372e",
   "metadata": {},
   "outputs": [
    {
     "name": "stdout",
     "output_type": "stream",
     "text": [
      " Model 1 linear regression cross_val nmse is -34551065752290509502484108441288704\n",
      " Model 1 lasso regression cross_val nmse is -805368827\n",
      " Model 1 ridge regression cross_val nmse is -808781319\n",
      " Model 1 enet regression cross_val nmse is -810766089\n"
     ]
    }
   ],
   "source": [
    "#    1) instantiate regularised models with the best alpha\n",
    "\n",
    "lasso_best = Lasso(alpha = lasso_cv.alpha_)\n",
    "ridge_best = Ridge(alpha = ridge_cv.alpha_)\n",
    "enet_best = ElasticNet(alpha = enet_cv.alpha_, l1_ratio=0.5)\n",
    "\n",
    "#    2) get the cross validated neg_mean_squared_error for all variables\n",
    "lr_cross = cross_val_score(lr, Z_train, y_train, cv=5, scoring='neg_mean_squared_error').mean()\n",
    "lasso_cross = cross_val_score(lasso_best, Z_train, y_train, cv=5, scoring='neg_mean_squared_error').mean()\n",
    "ridge_cross = cross_val_score(ridge_best, Z_train, y_train, cv=5, scoring='neg_mean_squared_error').mean()\n",
    "enet_cross = cross_val_score(enet_best, Z_train, y_train, cv=5, scoring='neg_mean_squared_error').mean()\n",
    "\n",
    "get_cross_val('1')"
   ]
  },
  {
   "cell_type": "code",
   "execution_count": 905,
   "id": "f78cb839",
   "metadata": {},
   "outputs": [
    {
     "name": "stdout",
     "output_type": "stream",
     "text": [
      " Model 1 linear regression mse=637711730, rmse =25253\n",
      " Model 1 ridge regression mse=646263292, rmse =25422\n",
      " Model 1 lasso regression mse=653938270, rmse =25572\n",
      " Model 1 enet regression mse=647986394, rmse =25456\n"
     ]
    }
   ],
   "source": [
    "#    1) fit all models with the holdout test data\n",
    "\n",
    "lr.fit(Z_holdout, y_holdout)\n",
    "lasso_best.fit(Z_holdout, y_holdout)\n",
    "ridge_best.fit(Z_holdout, y_holdout)\n",
    "enet_best.fit(Z_holdout, y_holdout)\n",
    "\n",
    "#    2) get mean squared error and root mean squared error for all models\n",
    "lr_mse = mean_squared_error(y_holdout, lr.predict(Z_holdout))\n",
    "ridge_mse = mean_squared_error(y_holdout, lasso_best.predict(Z_holdout))\n",
    "lasso_mse = mean_squared_error(y_holdout, ridge_best.predict(Z_holdout))\n",
    "enet_mse = mean_squared_error(y_holdout, enet_best.predict(Z_holdout))\n",
    "\n",
    "error_scores('1')"
   ]
  },
  {
   "cell_type": "markdown",
   "id": "bad08f78",
   "metadata": {},
   "source": [
    "### Assessing features in the Base Model (Model 1)\n",
    "\n",
    "Use Lasso Regression coefficients to identify variables which will be heavily penalised.\n"
   ]
  },
  {
   "cell_type": "code",
   "execution_count": 906,
   "id": "283f8acf",
   "metadata": {},
   "outputs": [
    {
     "data": {
      "text/plain": [
       "(17, 1)"
      ]
     },
     "execution_count": 906,
     "metadata": {},
     "output_type": "execute_result"
    }
   ],
   "source": [
    "# Find weak variables\n",
    "lasso_coef = pd.DataFrame(data=lasso_best.coef_,\n",
    "                          index=Z_train.columns,\n",
    "                          columns=['coef'])\n",
    "\n",
    "lasso_0 = lasso_coef.loc[lasso_coef['coef'] == 0, :]\n",
    "lasso_0.shape"
   ]
  },
  {
   "cell_type": "code",
   "execution_count": 907,
   "id": "6b5dba51",
   "metadata": {},
   "outputs": [],
   "source": [
    "# to view the variables with 0 coef\n",
    "#lasso_0"
   ]
  },
  {
   "cell_type": "markdown",
   "id": "7c8f00fa",
   "metadata": {},
   "source": [
    "### Review\n",
    "**Base Model (Model 1)**<br/>\n",
    "Absolute mean sqaure error of the train set cross_val_score is similar to the test set. Hence there is little evidence of overfitting.<br/>\n",
    "Several coefficients relating to location were penalised to 0, this is likely because there are too many categories and there are likely to be little differences betweent them. <br/>\n",
    "\n",
    "garage_qual is set to 0, likely due to because it does not have an ideal ordering between its different ranks. Furthermore the middle rank (3) seems to be overused, leaving few counts in the other categories. <br/>\n",
    "\n",
    "As these are core variables they will be retained for now.\n",
    "\n",
    "**Comparison across regression models**<br/>\n",
    "Ridge and enet is very similar while lasso is about 200 points poorer on rmse."
   ]
  },
  {
   "cell_type": "code",
   "execution_count": 908,
   "id": "952ef486",
   "metadata": {},
   "outputs": [],
   "source": [
    "# run code here to see garage_qual counts\n",
    "# count_mean('garage_qual') # note that mean represents mean saleprice"
   ]
  },
  {
   "cell_type": "markdown",
   "id": "d8dfd548",
   "metadata": {},
   "source": [
    "### Model 2\n",
    "\n",
    "Model 2 has will retain all variables included in model 1, and include the remaining continuous variables."
   ]
  },
  {
   "cell_type": "code",
   "execution_count": 909,
   "id": "e35643e9",
   "metadata": {},
   "outputs": [],
   "source": [
    "# Feature Selection\n",
    "features = list(train.select_dtypes([np.number]).columns)\n",
    "features.remove('saleprice')\n",
    "\n",
    "cat_features = ['ms_zoning', 'neighborhood',\n",
    "                'condition_1', 'condition_2']\n",
    "features.extend(cat_features)\n",
    "X_2 = train[features]\n"
   ]
  },
  {
   "cell_type": "code",
   "execution_count": 910,
   "id": "d6c9913b",
   "metadata": {},
   "outputs": [],
   "source": [
    "# Get_dummies\n",
    "# to get_dummies together with test set\n",
    "\n",
    "test_data = test[features]            # test data\n",
    "X_2_test_data = pd.concat([X_2, test_data])\n",
    "X_2_test_data = pd.get_dummies(data=X_2_test_data, drop_first=True)\n"
   ]
  },
  {
   "cell_type": "code",
   "execution_count": 911,
   "id": "d04fd910",
   "metadata": {},
   "outputs": [],
   "source": [
    "# Define X and y\n",
    "X = X_2_test_data.iloc[:train.shape[0],:]\n",
    "y = train['saleprice']"
   ]
  },
  {
   "cell_type": "code",
   "execution_count": 912,
   "id": "083d4a1a",
   "metadata": {},
   "outputs": [],
   "source": [
    "# Train Test Split\n",
    "X_train, X_holdout, y_train, y_holdout = train_test_split(\n",
    "    X,\n",
    "    y,\n",
    ")\n",
    "\n",
    "ss = StandardScaler()\n",
    "ss.fit(X_train)\n",
    "Z_train = ss.transform(X_train)\n",
    "Z_holdout = ss.transform(X_holdout)\n",
    "\n",
    "\n",
    "Z_train = pd.DataFrame(data=Z_train, columns=X_train.columns)\n",
    "Z_holdout = pd.DataFrame(data=Z_holdout, columns=X_holdout.columns)"
   ]
  },
  {
   "cell_type": "code",
   "execution_count": 913,
   "id": "b1b94321",
   "metadata": {},
   "outputs": [
    {
     "name": "stderr",
     "output_type": "stream",
     "text": [
      "C:\\Users\\User\\.conda\\envs\\dsi\\lib\\site-packages\\sklearn\\linear_model\\_coordinate_descent.py:633: ConvergenceWarning: Objective did not converge. You might want to increase the number of iterations. Duality gap: 349431904596.7228, tolerance: 795172030.6508095\n",
      "  model = cd_fast.enet_coordinate_descent_gram(\n",
      "C:\\Users\\User\\.conda\\envs\\dsi\\lib\\site-packages\\sklearn\\linear_model\\_coordinate_descent.py:633: ConvergenceWarning: Objective did not converge. You might want to increase the number of iterations. Duality gap: 317761501058.6778, tolerance: 817786887.7724217\n",
      "  model = cd_fast.enet_coordinate_descent_gram(\n",
      "C:\\Users\\User\\.conda\\envs\\dsi\\lib\\site-packages\\sklearn\\linear_model\\_coordinate_descent.py:633: ConvergenceWarning: Objective did not converge. You might want to increase the number of iterations. Duality gap: 138777959221.84674, tolerance: 779874152.314126\n",
      "  model = cd_fast.enet_coordinate_descent_gram(\n",
      "C:\\Users\\User\\.conda\\envs\\dsi\\lib\\site-packages\\sklearn\\linear_model\\_coordinate_descent.py:633: ConvergenceWarning: Objective did not converge. You might want to increase the number of iterations. Duality gap: 356485699250.59784, tolerance: 799276934.9000987\n",
      "  model = cd_fast.enet_coordinate_descent_gram(\n"
     ]
    },
    {
     "name": "stdout",
     "output_type": "stream",
     "text": [
      "257.00485206093185\n",
      "88.94476432160803\n",
      "0.15025005005005004\n"
     ]
    },
    {
     "name": "stderr",
     "output_type": "stream",
     "text": [
      "C:\\Users\\User\\.conda\\envs\\dsi\\lib\\site-packages\\sklearn\\linear_model\\_coordinate_descent.py:633: ConvergenceWarning: Objective did not converge. You might want to increase the number of iterations. Duality gap: 3694772758.977539, tolerance: 755954118.8755153\n",
      "  model = cd_fast.enet_coordinate_descent_gram(\n"
     ]
    }
   ],
   "source": [
    "#    1) instantiate linearRegression and the Cross validated models for regularisation\n",
    "\n",
    "lr = LinearRegression()\n",
    "lasso_cv = LassoCV(n_alphas=200)\n",
    "ridge_cv = RidgeCV(alphas=np.linspace(.0001, 150, 200))\n",
    "enet_cv = ElasticNetCV(alphas=np.linspace(.0001, 150, 1000), l1_ratio=0.5)\n",
    "\n",
    "#    2) fit models with the best alpha\n",
    "lasso_cv.fit(Z_train, y_train)\n",
    "ridge_cv.fit(Z_train, y_train)\n",
    "enet_cv.fit(Z_train, y_train)\n",
    "\n",
    "#    3) check that the best alpha does not hit a ceiling\n",
    "check_alphas()"
   ]
  },
  {
   "cell_type": "code",
   "execution_count": 914,
   "id": "5ac334d2",
   "metadata": {},
   "outputs": [
    {
     "name": "stdout",
     "output_type": "stream",
     "text": [
      " Model 2 linear regression cross_val nmse is -68316498447304011753972613964103680\n",
      " Model 2 lasso regression cross_val nmse is -700363957\n",
      " Model 2 ridge regression cross_val nmse is -696962681\n",
      " Model 2 enet regression cross_val nmse is -697085119\n"
     ]
    }
   ],
   "source": [
    "#    1) instantiate regularised models with the best alpha\n",
    "\n",
    "lasso_best = Lasso(alpha = lasso_cv.alpha_)\n",
    "ridge_best = Ridge(alpha = ridge_cv.alpha_)\n",
    "enet_best = ElasticNet(alpha = enet_cv.alpha_, l1_ratio=0.5)\n",
    "\n",
    "#    2) get the cross validated neg_mean_squared_error for all variables\n",
    "lr_cross = cross_val_score(lr, Z_train, y_train, cv=5, scoring='neg_mean_squared_error').mean()\n",
    "lasso_cross = cross_val_score(lasso_best, Z_train, y_train, cv=5, scoring='neg_mean_squared_error').mean()\n",
    "ridge_cross = cross_val_score(ridge_best, Z_train, y_train, cv=5, scoring='neg_mean_squared_error').mean()\n",
    "enet_cross = cross_val_score(enet_best, Z_train, y_train, cv=5, scoring='neg_mean_squared_error').mean()\n",
    "\n",
    "get_cross_val('2')\n"
   ]
  },
  {
   "cell_type": "code",
   "execution_count": 916,
   "id": "37df5d46",
   "metadata": {},
   "outputs": [
    {
     "name": "stdout",
     "output_type": "stream",
     "text": [
      " Model 2 linear regression mse=451816758, rmse =21256\n",
      " Model 2 ridge regression mse=458829638, rmse =21420\n",
      " Model 2 lasso regression mse=475094255, rmse =21797\n",
      " Model 2 enet regression mse=459304495, rmse =21431\n"
     ]
    }
   ],
   "source": [
    "#    1) fit all models with the holdout test data\n",
    "\n",
    "lr.fit(Z_holdout, y_holdout)\n",
    "lasso_best.fit(Z_holdout, y_holdout)\n",
    "ridge_best.fit(Z_holdout, y_holdout)\n",
    "enet_best.fit(Z_holdout, y_holdout)\n",
    "\n",
    "#    2) get mean squared error and root mean squared error for all models\n",
    "lr_mse = mean_squared_error(y_holdout, lr.predict(Z_holdout))\n",
    "ridge_mse = mean_squared_error(y_holdout, lasso_best.predict(Z_holdout))\n",
    "lasso_mse = mean_squared_error(y_holdout, ridge_best.predict(Z_holdout))\n",
    "enet_mse = mean_squared_error(y_holdout, enet_best.predict(Z_holdout))\n",
    "\n",
    "error_scores('2')"
   ]
  },
  {
   "cell_type": "markdown",
   "id": "36a6d0e9",
   "metadata": {},
   "source": [
    "### Identify poorly performing features in model 2\n",
    "Use Lasso Regression to identify variables which will be heavily penalised"
   ]
  },
  {
   "cell_type": "code",
   "execution_count": 917,
   "id": "206ad3c4",
   "metadata": {},
   "outputs": [
    {
     "data": {
      "text/plain": [
       "(19, 1)"
      ]
     },
     "execution_count": 917,
     "metadata": {},
     "output_type": "execute_result"
    }
   ],
   "source": [
    "# Find weak variables\n",
    "lasso_coef = pd.DataFrame(data=lasso_best.coef_,\n",
    "                          index=Z_train.columns,\n",
    "                          columns=['coef'])\n",
    "\n",
    "lasso_0 = lasso_coef.loc[lasso_coef['coef'] == 0, :]\n",
    "lasso_0.shape"
   ]
  },
  {
   "cell_type": "code",
   "execution_count": 918,
   "id": "768bd508",
   "metadata": {},
   "outputs": [],
   "source": [
    "# to view the variables with 0 coef\n",
    "# lasso_0"
   ]
  },
  {
   "cell_type": "markdown",
   "id": "d1db9fa8",
   "metadata": {},
   "source": [
    "**Model 2**<br/>\n",
    "RMSE of the train set is similar to the test set. Hence there is little evidence of overfitting. Once again several locations have emerged, likely due to lower counts. Since they are base variables, they will be retained. <br/>\n",
    "\n",
    "Several other heavily penalised features have emerged. In particular, garage_qual has appeared again.\n",
    "Decisions for the variables are below, while the others will be kiv.\n",
    "\n",
    "**Comparison across regression models**<br/>\n",
    "Once again, Ridge and enet is very similar while lasso is about 200 points poorer on rmse.\n",
    "\n",
    "***Comparison with previous models***<br/>\n",
    "RMSE has improved from model 1.<br/>\n",
    "Model 1 rmse~ 27,000<br/>\n",
    "Model 2 rmse~ 24,000<br/>"
   ]
  },
  {
   "cell_type": "code",
   "execution_count": 919,
   "id": "185000aa",
   "metadata": {},
   "outputs": [
    {
     "data": {
      "text/plain": [
       "bsmtfin_sf_1      0.499543\n",
       "total_bsmt_sf     0.439363\n",
       "1st_flr_sf        0.312271\n",
       "overall_qual      0.276450\n",
       "totrms_abvgrd     0.256727\n",
       "exter_qual        0.240727\n",
       "gr_liv_area       0.239225\n",
       "bsmt_qual         0.229245\n",
       "saleprice         0.191072\n",
       "kitchen_qual      0.184799\n",
       "heating_qc        0.173751\n",
       "garage_cars       0.168143\n",
       "bsmt_cond         0.166804\n",
       "year_remod/add    0.160536\n",
       "lot_frontage      0.149681\n",
       "garage_area       0.146112\n",
       "garage_age        0.143808\n",
       "house_age         0.136810\n",
       "open_porch_sf     0.114594\n",
       "fireplace_qu      0.102968\n",
       "garage_finish     0.094441\n",
       "lot_area_log      0.091068\n",
       "mas_vnr_area      0.081299\n",
       "wood_deck_sf      0.035542\n",
       "bsmt_exposure     0.026731\n",
       "garage_qual       0.013994\n",
       "2nd_flr_sf        0.012148\n",
       "fireplaces        0.001485\n",
       "dtype: float64"
      ]
     },
     "execution_count": 919,
     "metadata": {},
     "output_type": "execute_result"
    }
   ],
   "source": [
    "corr_sorted['1st_flr_sf'] # r = 0.79 with total_bsmt_sf\n",
    "                          # r = 0.65 with saleprice\n",
    "\n",
    "corr_sorted['2nd_flr_sf'] # r = 0.66 with gr_liv_area \n",
    "                          # r = 0.25 with saleprice\n",
    "                          # since there is a similar variables and low corr with saleprice\n",
    "                          # to drop\n",
    "        \n",
    "corr_sorted['garage_age'] # r = 0.79 with house_age\n",
    "                          # r = 0.57 with saleprice\n",
    "\n",
    "corr_sorted['garage_qual']# r = 0.61 with garage_age\n",
    "                          # r = 0.29 with saleprice\n",
    "                          # since there is a similar variables and low corr with saleprice\n",
    "                          # to drop\n",
    "    \n",
    "corr_sorted['bsmt_unf_sf']# r = 0.44 with total_bsmt_sf\n",
    "                          # r = 0.19 with saleprice"
   ]
  },
  {
   "cell_type": "code",
   "execution_count": 920,
   "id": "29693633",
   "metadata": {},
   "outputs": [],
   "source": [
    "to_drop = ['2nd_flr_sf', 'garage_qual']"
   ]
  },
  {
   "cell_type": "markdown",
   "id": "32eba7e7",
   "metadata": {},
   "source": [
    "## Model 3\n",
    "\n",
    "Model 3 has will retain all variables included in model 1, and include the remaining categorical variables."
   ]
  },
  {
   "cell_type": "code",
   "execution_count": 921,
   "id": "a8f6adc2",
   "metadata": {},
   "outputs": [],
   "source": [
    "# Feature Selection\n",
    "to_drop.append('saleprice')\n",
    "\n",
    "features = [x for x in list(train.columns) if x not in to_drop]\n",
    "features\n",
    "\n",
    "X_3 = train[features]"
   ]
  },
  {
   "cell_type": "code",
   "execution_count": 922,
   "id": "391f1e76",
   "metadata": {},
   "outputs": [],
   "source": [
    "# Get_dummies\n",
    "# to get_dummies together with test set\n",
    "\n",
    "test_data = test[features]            # test data\n",
    "X_3_test_data = pd.concat([X_3, test_data])\n",
    "X_3_test_data = pd.get_dummies(data=X_3_test_data, drop_first=True)"
   ]
  },
  {
   "cell_type": "code",
   "execution_count": 923,
   "id": "ede37d92",
   "metadata": {},
   "outputs": [],
   "source": [
    "# Define X and y\n",
    "X = X_3_test_data.iloc[:train.shape[0],:]\n",
    "y = train['saleprice']"
   ]
  },
  {
   "cell_type": "code",
   "execution_count": 924,
   "id": "24b60173",
   "metadata": {},
   "outputs": [],
   "source": [
    "# Train Test Split\n",
    "X_train, X_holdout, y_train, y_holdout = train_test_split(\n",
    "    X,\n",
    "    y,\n",
    ")\n",
    "\n",
    "# Standardisation\n",
    "ss = StandardScaler()\n",
    "ss.fit(X_train)\n",
    "Z_train = ss.transform(X_train)\n",
    "Z_holdout = ss.transform(X_holdout)\n",
    "\n",
    "\n",
    "Z_train = pd.DataFrame(data=Z_train, columns=X_train.columns)\n",
    "Z_holdout = pd.DataFrame(data=Z_holdout, columns=X_holdout.columns)"
   ]
  },
  {
   "cell_type": "code",
   "execution_count": 925,
   "id": "09375dd9",
   "metadata": {},
   "outputs": [
    {
     "name": "stderr",
     "output_type": "stream",
     "text": [
      "C:\\Users\\User\\.conda\\envs\\dsi\\lib\\site-packages\\sklearn\\linear_model\\_coordinate_descent.py:633: ConvergenceWarning: Objective did not converge. You might want to increase the number of iterations. Duality gap: 254771815588.44913, tolerance: 746508577.8464361\n",
      "  model = cd_fast.enet_coordinate_descent_gram(\n",
      "C:\\Users\\User\\.conda\\envs\\dsi\\lib\\site-packages\\sklearn\\linear_model\\_coordinate_descent.py:633: ConvergenceWarning: Objective did not converge. You might want to increase the number of iterations. Duality gap: 255455682875.00922, tolerance: 731727745.0060744\n",
      "  model = cd_fast.enet_coordinate_descent_gram(\n",
      "C:\\Users\\User\\.conda\\envs\\dsi\\lib\\site-packages\\sklearn\\linear_model\\_coordinate_descent.py:633: ConvergenceWarning: Objective did not converge. You might want to increase the number of iterations. Duality gap: 241257166066.46747, tolerance: 709575109.4290518\n",
      "  model = cd_fast.enet_coordinate_descent_gram(\n",
      "C:\\Users\\User\\.conda\\envs\\dsi\\lib\\site-packages\\sklearn\\linear_model\\_coordinate_descent.py:633: ConvergenceWarning: Objective did not converge. You might want to increase the number of iterations. Duality gap: 254222561175.114, tolerance: 718584956.4709039\n",
      "  model = cd_fast.enet_coordinate_descent_gram(\n"
     ]
    },
    {
     "name": "stdout",
     "output_type": "stream",
     "text": [
      "528.1522440689399\n",
      "150.0\n",
      "0.45055015015015015\n"
     ]
    },
    {
     "name": "stderr",
     "output_type": "stream",
     "text": [
      "C:\\Users\\User\\.conda\\envs\\dsi\\lib\\site-packages\\sklearn\\linear_model\\_coordinate_descent.py:633: ConvergenceWarning: Objective did not converge. You might want to increase the number of iterations. Duality gap: 262990582022.9846, tolerance: 762090972.4544567\n",
      "  model = cd_fast.enet_coordinate_descent_gram(\n"
     ]
    }
   ],
   "source": [
    "#    1) instantiate linearRegression and the Cross validated models for regularisation\n",
    "\n",
    "lr = LinearRegression()\n",
    "lasso_cv = LassoCV(n_alphas=200)\n",
    "ridge_cv = RidgeCV(alphas=np.linspace(.0001, 150, 200))\n",
    "enet_cv = ElasticNetCV(alphas=np.linspace(.0001, 150, 1000), l1_ratio=0.5)\n",
    "\n",
    "#    2) fit models with the best alpha\n",
    "lasso_cv.fit(Z_train, y_train)\n",
    "ridge_cv.fit(Z_train, y_train)\n",
    "enet_cv.fit(Z_train, y_train)\n",
    "\n",
    "#    3) check that the best alpha does not hit a ceiling\n",
    "check_alphas()"
   ]
  },
  {
   "cell_type": "code",
   "execution_count": 926,
   "id": "00d85719",
   "metadata": {},
   "outputs": [
    {
     "name": "stdout",
     "output_type": "stream",
     "text": [
      " Model 3 linear regression cross_val nmse is -191907898267313146839617564049408\n",
      " Model 3 lasso regression cross_val nmse is -600209920\n",
      " Model 3 ridge regression cross_val nmse is -626362308\n",
      " Model 3 enet regression cross_val nmse is -623222991\n"
     ]
    }
   ],
   "source": [
    "#    1) instantiate regularised models with the best alpha\n",
    "\n",
    "lasso_best = Lasso(alpha = lasso_cv.alpha_)\n",
    "ridge_best = Ridge(alpha = ridge_cv.alpha_)\n",
    "enet_best = ElasticNet(alpha = enet_cv.alpha_, l1_ratio=0.5)\n",
    "\n",
    "#    2) get the cross validated neg_mean_squared_error for all variables\n",
    "lr_cross = cross_val_score(lr, Z_train, y_train, cv=5, scoring='neg_mean_squared_error').mean()\n",
    "lasso_cross = cross_val_score(lasso_best, Z_train, y_train, cv=5, scoring='neg_mean_squared_error').mean()\n",
    "ridge_cross = cross_val_score(ridge_best, Z_train, y_train, cv=5, scoring='neg_mean_squared_error').mean()\n",
    "enet_cross = cross_val_score(enet_best, Z_train, y_train, cv=5, scoring='neg_mean_squared_error').mean()\n",
    "\n",
    "get_cross_val('3')\n"
   ]
  },
  {
   "cell_type": "code",
   "execution_count": 927,
   "id": "93201f4b",
   "metadata": {},
   "outputs": [
    {
     "name": "stdout",
     "output_type": "stream",
     "text": [
      " Model 3 linear regression mse=310959988, rmse =17634\n",
      " Model 3 ridge regression mse=389371445, rmse =19732\n",
      " Model 3 lasso regression mse=406806682, rmse =20169\n",
      " Model 3 enet regression mse=388523304, rmse =19711\n"
     ]
    }
   ],
   "source": [
    "#    1) fit all models with the holdout test data\n",
    "\n",
    "lr.fit(Z_holdout, y_holdout)\n",
    "lasso_best.fit(Z_holdout, y_holdout)\n",
    "ridge_best.fit(Z_holdout, y_holdout)\n",
    "enet_best.fit(Z_holdout, y_holdout)\n",
    "\n",
    "#    2) get mean squared error and root mean squared error for all models\n",
    "lr_mse = mean_squared_error(y_holdout, lr.predict(Z_holdout))\n",
    "ridge_mse = mean_squared_error(y_holdout, lasso_best.predict(Z_holdout))\n",
    "lasso_mse = mean_squared_error(y_holdout, ridge_best.predict(Z_holdout))\n",
    "enet_mse = mean_squared_error(y_holdout, enet_best.predict(Z_holdout))\n",
    "\n",
    "error_scores('3')"
   ]
  },
  {
   "cell_type": "markdown",
   "id": "43d1914a",
   "metadata": {},
   "source": [
    "### Identify poorly performing features in model 3\n",
    "Use Lasso Regression to identify variables which will be heavily penalised\n"
   ]
  },
  {
   "cell_type": "code",
   "execution_count": 928,
   "id": "14527aa1",
   "metadata": {},
   "outputs": [
    {
     "data": {
      "text/plain": [
       "(113, 1)"
      ]
     },
     "execution_count": 928,
     "metadata": {},
     "output_type": "execute_result"
    }
   ],
   "source": [
    "# Find weak variables\n",
    "lasso_coef = pd.DataFrame(data=lasso_best.coef_,\n",
    "                          index=Z_train.columns,\n",
    "                          columns=['coef'])\n",
    "\n",
    "lasso_0 = lasso_coef.loc[lasso_coef['coef'] == 0, :]\n",
    "lasso_0.shape"
   ]
  },
  {
   "cell_type": "code",
   "execution_count": 929,
   "id": "1a3af164",
   "metadata": {},
   "outputs": [],
   "source": [
    "# to view the variables with 0 coef\n",
    "# lasso_0"
   ]
  },
  {
   "cell_type": "markdown",
   "id": "1b40703d",
   "metadata": {},
   "source": [
    "### Review\n",
    "\n",
    "**Model 3**<br/>\n",
    "RMSE of the train set is similar to the test set. Hence there is little evidence of overfitting.<br/>\n",
    "\n",
    "Numerous variables were heavily penalised. \n",
    "Continuous variables that were previously flagged in step 2, flagged in step 3 but are not part of the base model were removed. Continuous features removed:\n",
    "1. bsmt_unf_sf\n",
    "\n",
    "Categorical variables were checked further checked through the previously created function 'count_mean' to see the proportions in each category and the differences in the mean saleprice for each category. If these variables had small counts in each category, small differences in mean saleprice and had most of its category coefficients set to 0 (e.g. sale_type has 6 of 8 categories set to 0), the category will be removed. Categorical features removed:\n",
    "1. street\n",
    "2. alley\n",
    "3. house_style\n",
    "4. roof_style\n",
    "5. exterior_1st\n",
    "6. exterior_2nd\n",
    "7. mas_vnr_type\n",
    "8. foundation\n",
    "9. central_air\n",
    "10. electrical\n",
    "11. garage_type\n",
    "12. mo_sold\n",
    "13. sale_type\n",
    "\n",
    "**Comparison across regression models**<br/>\n",
    "Once again, Ridge and enet is very similar while lasso is about 300 points poorer on rmse.\n",
    "\n",
    "***Comparison***<br/>\n",
    "RMSE has improved from model 2.<br/>\n",
    "Model 1 rmse~ 27,000<br/>\n",
    "Model 2 rmse~ 24,000<br/>\n",
    "Model 3 rmse~ 22,000<br/>\n",
    "\n",
    "To assess if dropping the above variables will have a negative impact on the model, model 3I will be fit."
   ]
  },
  {
   "cell_type": "markdown",
   "id": "9f21d274",
   "metadata": {},
   "source": [
    "### Model 3I\n",
    "Check if mode improved/maintain after dropping the abovementioned variables"
   ]
  },
  {
   "cell_type": "code",
   "execution_count": 930,
   "id": "b85e2a5f",
   "metadata": {},
   "outputs": [],
   "source": [
    "to_drop.extend(['bsmt_unf_sf', 'street', 'alley',\n",
    "                 'house_style', 'roof_style', 'exterior_1st', 'exterior_2nd',\n",
    "                 'mas_vnr_type', 'foundation', 'central_air', 'electrical',\n",
    "                 'garage_type', 'mo_sold', 'sale_type'])"
   ]
  },
  {
   "cell_type": "code",
   "execution_count": 931,
   "id": "57f2cc17",
   "metadata": {},
   "outputs": [],
   "source": [
    "features = [x for x in list(train.columns) if x not in to_drop]\n",
    "features\n",
    "\n",
    "X_3I = train[features]"
   ]
  },
  {
   "cell_type": "code",
   "execution_count": 932,
   "id": "80eac23c",
   "metadata": {},
   "outputs": [],
   "source": [
    "# Get_dummies\n",
    "# to get_dummies together with test set\n",
    "\n",
    "test_data = test[features]            # test data\n",
    "X_3I_test_data = pd.concat([X_3I, test_data])\n",
    "X_3I_test_data = pd.get_dummies(data=X_3I_test_data, drop_first=True)"
   ]
  },
  {
   "cell_type": "code",
   "execution_count": 933,
   "id": "22877da3",
   "metadata": {},
   "outputs": [
    {
     "data": {
      "text/plain": [
       "(2925, 120)"
      ]
     },
     "execution_count": 933,
     "metadata": {},
     "output_type": "execute_result"
    }
   ],
   "source": [
    "X_3I_test_data.shape"
   ]
  },
  {
   "cell_type": "code",
   "execution_count": 934,
   "id": "146e29ae",
   "metadata": {},
   "outputs": [],
   "source": [
    "# Define X and y\n",
    "X = X_3I_test_data.iloc[:train.shape[0],:]\n",
    "y = train['saleprice']"
   ]
  },
  {
   "cell_type": "code",
   "execution_count": 935,
   "id": "58a8f2f9",
   "metadata": {},
   "outputs": [],
   "source": [
    "# Train Test Split\n",
    "X_train, X_holdout, y_train, y_holdout = train_test_split(\n",
    "    X,\n",
    "    y,\n",
    ")\n",
    "\n",
    "# Standardisation\n",
    "ss = StandardScaler()\n",
    "ss.fit(X_train)\n",
    "Z_train = ss.transform(X_train)\n",
    "Z_holdout = ss.transform(X_holdout)\n",
    "\n",
    "\n",
    "Z_train = pd.DataFrame(data=Z_train, columns=X_train.columns)\n",
    "Z_holdout = pd.DataFrame(data=Z_holdout, columns=X_holdout.columns)"
   ]
  },
  {
   "cell_type": "code",
   "execution_count": 936,
   "id": "6159b9ce",
   "metadata": {},
   "outputs": [
    {
     "name": "stderr",
     "output_type": "stream",
     "text": [
      "C:\\Users\\User\\.conda\\envs\\dsi\\lib\\site-packages\\sklearn\\linear_model\\_coordinate_descent.py:633: ConvergenceWarning: Objective did not converge. You might want to increase the number of iterations. Duality gap: 326033718953.4163, tolerance: 784994022.4983708\n",
      "  model = cd_fast.enet_coordinate_descent_gram(\n",
      "C:\\Users\\User\\.conda\\envs\\dsi\\lib\\site-packages\\sklearn\\linear_model\\_coordinate_descent.py:633: ConvergenceWarning: Objective did not converge. You might want to increase the number of iterations. Duality gap: 310075367625.987, tolerance: 788548183.4803774\n",
      "  model = cd_fast.enet_coordinate_descent_gram(\n",
      "C:\\Users\\User\\.conda\\envs\\dsi\\lib\\site-packages\\sklearn\\linear_model\\_coordinate_descent.py:633: ConvergenceWarning: Objective did not converge. You might want to increase the number of iterations. Duality gap: 321500225947.221, tolerance: 774372197.8964036\n",
      "  model = cd_fast.enet_coordinate_descent_gram(\n",
      "C:\\Users\\User\\.conda\\envs\\dsi\\lib\\site-packages\\sklearn\\linear_model\\_coordinate_descent.py:633: ConvergenceWarning: Objective did not converge. You might want to increase the number of iterations. Duality gap: 302357340915.9149, tolerance: 790800680.2409469\n",
      "  model = cd_fast.enet_coordinate_descent_gram(\n"
     ]
    },
    {
     "name": "stdout",
     "output_type": "stream",
     "text": [
      "73.75683434751323\n",
      "33.91967537688442\n",
      "0.15025005005005004\n"
     ]
    },
    {
     "name": "stderr",
     "output_type": "stream",
     "text": [
      "C:\\Users\\User\\.conda\\envs\\dsi\\lib\\site-packages\\sklearn\\linear_model\\_coordinate_descent.py:633: ConvergenceWarning: Objective did not converge. You might want to increase the number of iterations. Duality gap: 311535283354.6182, tolerance: 765028873.6243528\n",
      "  model = cd_fast.enet_coordinate_descent_gram(\n"
     ]
    }
   ],
   "source": [
    "#    1) instantiate linearRegression and the Cross validated models for regularisation\n",
    "\n",
    "lr = LinearRegression()\n",
    "lasso_cv = LassoCV(n_alphas=200)\n",
    "ridge_cv = RidgeCV(alphas=np.linspace(.0001, 150, 200))\n",
    "enet_cv = ElasticNetCV(alphas=np.linspace(.0001, 150, 1000), l1_ratio=0.5)\n",
    "\n",
    "#    2) fit models with the best alpha\n",
    "lasso_cv.fit(Z_train, y_train)\n",
    "ridge_cv.fit(Z_train, y_train)\n",
    "enet_cv.fit(Z_train, y_train)\n",
    "\n",
    "#    3) check that the best alpha does not hit a ceiling\n",
    "check_alphas()\n"
   ]
  },
  {
   "cell_type": "code",
   "execution_count": 937,
   "id": "f03950f2",
   "metadata": {},
   "outputs": [
    {
     "name": "stdout",
     "output_type": "stream",
     "text": [
      " Model 3I linear regression cross_val nmse is -77078799074612115619849789505536\n",
      " Model 3I lasso regression cross_val nmse is -638850708\n",
      " Model 3I ridge regression cross_val nmse is -637329913\n",
      " Model 3I enet regression cross_val nmse is -639239535\n"
     ]
    }
   ],
   "source": [
    "#    1) instantiate regularised models with the best alpha\n",
    "\n",
    "lasso_best = Lasso(alpha = lasso_cv.alpha_)\n",
    "ridge_best = Ridge(alpha = ridge_cv.alpha_)\n",
    "enet_best = ElasticNet(alpha = enet_cv.alpha_, l1_ratio=0.5)\n",
    "\n",
    "#    2) get the cross validated neg_mean_squared_error for all variables\n",
    "lr_cross = cross_val_score(lr, Z_train, y_train, cv=5, scoring='neg_mean_squared_error').mean()\n",
    "lasso_cross = cross_val_score(lasso_best, Z_train, y_train, cv=5, scoring='neg_mean_squared_error').mean()\n",
    "ridge_cross = cross_val_score(ridge_best, Z_train, y_train, cv=5, scoring='neg_mean_squared_error').mean()\n",
    "enet_cross = cross_val_score(enet_best, Z_train, y_train, cv=5, scoring='neg_mean_squared_error').mean()\n",
    "\n",
    "get_cross_val('3I')\n"
   ]
  },
  {
   "cell_type": "code",
   "execution_count": 938,
   "id": "51ac5087",
   "metadata": {},
   "outputs": [
    {
     "name": "stdout",
     "output_type": "stream",
     "text": [
      " Model 3I linear regression mse=373587990, rmse =19328\n",
      " Model 3I ridge regression mse=376595134, rmse =19406\n",
      " Model 3I lasso regression mse=396970846, rmse =19924\n",
      " Model 3I enet regression mse=400102543, rmse =20003\n"
     ]
    }
   ],
   "source": [
    "#    1) fit all models with the holdout test data\n",
    "\n",
    "lr.fit(Z_holdout, y_holdout)\n",
    "lasso_best.fit(Z_holdout, y_holdout)\n",
    "ridge_best.fit(Z_holdout, y_holdout)\n",
    "enet_best.fit(Z_holdout, y_holdout)\n",
    "\n",
    "#    2) get mean squared error and root mean squared error for all models\n",
    "lr_mse = mean_squared_error(y_holdout, lr.predict(Z_holdout))\n",
    "ridge_mse = mean_squared_error(y_holdout, lasso_best.predict(Z_holdout))\n",
    "lasso_mse = mean_squared_error(y_holdout, ridge_best.predict(Z_holdout))\n",
    "enet_mse = mean_squared_error(y_holdout, enet_best.predict(Z_holdout))\n",
    "\n",
    "error_scores('3I')"
   ]
  },
  {
   "cell_type": "markdown",
   "id": "8b94416d",
   "metadata": {},
   "source": [
    "**Model 3I**<br/>\n",
    "\n",
    "RMSE of the train set is similar to the test set. Hence there is little evidence of overfitting.<br/>\n",
    "\n",
    "\n",
    "**Comparison***<br/>\n",
    "RMSE has improved from model 3.<br/>\n",
    "Model 1 rmse~ 27,000<br/>\n",
    "Model 2 rmse~ 24,000<br/>\n",
    "Model 3 rmse~ 22,000<br/>\n",
    "Model 3I rmse~ 21,000<br/>\n",
    "\n",
    "Since rmse did not drop from model 3, the dropped features were likely not important to predict saleprice."
   ]
  },
  {
   "cell_type": "markdown",
   "id": "6c112aff",
   "metadata": {},
   "source": [
    "### Model 4\n",
    "\n",
    "Model 3 has will retain all variables included in model 3I and add on selected polynomial features."
   ]
  },
  {
   "cell_type": "markdown",
   "id": "33355ebe",
   "metadata": {},
   "source": [
    "**Exploration of potential polynomial features***"
   ]
  },
  {
   "cell_type": "code",
   "execution_count": 939,
   "id": "d60b9025",
   "metadata": {},
   "outputs": [
    {
     "name": "stderr",
     "output_type": "stream",
     "text": [
      "C:\\Users\\User\\.conda\\envs\\dsi\\lib\\site-packages\\sklearn\\utils\\deprecation.py:87: FutureWarning: Function get_feature_names is deprecated; get_feature_names is deprecated in 1.0 and will be removed in 1.2. Please use get_feature_names_out instead.\n",
      "  warnings.warn(msg, category=FutureWarning)\n"
     ]
    }
   ],
   "source": [
    "# Polynomial transformation\n",
    "X_pol = train.select_dtypes([np.number]).copy()\n",
    "poly = PolynomialFeatures(include_bias=False)\n",
    "X_poly = poly.fit_transform(X_pol)\n",
    "\n",
    "pol_df = pd.DataFrame(X_poly, # convert polynomial transformation into df\n",
    "                      columns=poly.get_feature_names(X_pol.columns))"
   ]
  },
  {
   "cell_type": "code",
   "execution_count": 940,
   "id": "92f80c79",
   "metadata": {},
   "outputs": [],
   "source": [
    "# To get a table of correlations\n",
    "poly_sale = pol_df.corr()[['saleprice']]\n",
    "nonsale_col = [x for x in list(poly_sale.index) if 'saleprice' not in x]\n",
    "\n",
    "poly_sale['saleprice_abs'] = poly_sale['saleprice'].abs()"
   ]
  },
  {
   "cell_type": "code",
   "execution_count": 941,
   "id": "5bbdeb1b",
   "metadata": {},
   "outputs": [],
   "source": [
    "# Top 20 variables have been flagged for polynomial fitting\n",
    "top_20_poly = poly_sale.loc[nonsale_col,].sort_values('saleprice_abs',ascending = False).head(20)\n",
    "\n",
    "top_20_poly = list(top_20_poly.index)"
   ]
  },
  {
   "cell_type": "code",
   "execution_count": 942,
   "id": "d7606f61",
   "metadata": {},
   "outputs": [],
   "source": [
    "# Extract individual features which are in top_20_poly\n",
    "\n",
    "each_poly_v = []\n",
    "for feat in top_20_poly:\n",
    "    two_v = feat.split()\n",
    "    each_poly_v.extend(two_v)\n",
    "\n",
    "# creat list of top_20_poly with different order as they get mixed up later\n",
    "comb_poly_v = []\n",
    "for feat in top_20_poly:\n",
    "    two_v = feat.split()\n",
    "    if len(two_v) == 2:\n",
    "        reverse_v = two_v[1] + ' ' + two_v[0]\n",
    "    comb_poly_v.append(reverse_v)\n",
    "    comb_poly_v.append(feat)\n",
    "\n",
    "# get unique features in each_poly_v\n",
    "poly_set = set(each_poly_v)\n",
    "ind_poly_feat = list(poly_set)\n",
    "\n",
    "# remove extra var and add reference index \n",
    "ind_poly_feat.remove('overall_qual^2')\n",
    "ind_poly_feat.append('ref')"
   ]
  },
  {
   "cell_type": "markdown",
   "id": "59bd5f8e",
   "metadata": {},
   "source": [
    "**Creating and adding selected polynomial features**"
   ]
  },
  {
   "cell_type": "code",
   "execution_count": 943,
   "id": "4167a660",
   "metadata": {},
   "outputs": [],
   "source": [
    "X_3I = train[features].copy()\n",
    "test_3I = test[features].copy() # adding in to get polynomials together\n",
    "X_test_3I = pd.concat([X_3I, test_3I])\n",
    "X_test_3I ['ref']=list(range(0,2925))"
   ]
  },
  {
   "cell_type": "code",
   "execution_count": 944,
   "id": "2b71d4a3",
   "metadata": {},
   "outputs": [
    {
     "name": "stderr",
     "output_type": "stream",
     "text": [
      "C:\\Users\\User\\.conda\\envs\\dsi\\lib\\site-packages\\sklearn\\utils\\deprecation.py:87: FutureWarning: Function get_feature_names is deprecated; get_feature_names is deprecated in 1.0 and will be removed in 1.2. Please use get_feature_names_out instead.\n",
      "  warnings.warn(msg, category=FutureWarning)\n"
     ]
    }
   ],
   "source": [
    "# Polynomial transformation\n",
    "X_pol = X_test_3I [ind_poly_feat].copy()\n",
    "poly = PolynomialFeatures(include_bias=False)\n",
    "X_poly = poly.fit_transform(X_pol)\n",
    "\n",
    "pol_pd = pd.DataFrame(X_poly, # convert polynomial transformation into df\n",
    "                      columns=poly.get_feature_names(X_pol.columns))"
   ]
  },
  {
   "cell_type": "code",
   "execution_count": 945,
   "id": "3a46cffb",
   "metadata": {},
   "outputs": [],
   "source": [
    "# list of polynomials\n",
    "pol_pd_varlist = []\n",
    "for var in comb_poly_v:\n",
    "    if var in list(pol_pd.columns):\n",
    "        pol_pd_varlist.append(var)\n",
    "        \n",
    "# add reference\n",
    "pol_pd_varlist.append('ref')"
   ]
  },
  {
   "cell_type": "code",
   "execution_count": 948,
   "id": "69113c0d",
   "metadata": {},
   "outputs": [],
   "source": [
    "poly_features = pol_pd[pol_pd_varlist]"
   ]
  },
  {
   "cell_type": "markdown",
   "id": "8bbdd778",
   "metadata": {},
   "source": [
    "**Model 4**"
   ]
  },
  {
   "cell_type": "code",
   "execution_count": 949,
   "id": "78f67027",
   "metadata": {},
   "outputs": [],
   "source": [
    "X_4_poly = pd.merge(X_test_3I, poly_features, on=['overall_qual', 'ref'])"
   ]
  },
  {
   "cell_type": "code",
   "execution_count": 950,
   "id": "df78acb3",
   "metadata": {},
   "outputs": [],
   "source": [
    "# Get_dummies\n",
    "# to get_dummies together with test set\n",
    "\n",
    "X_4_test_data= pd.get_dummies(data=X_4_poly, drop_first=True)"
   ]
  },
  {
   "cell_type": "code",
   "execution_count": 951,
   "id": "9bd5ed74",
   "metadata": {},
   "outputs": [],
   "source": [
    "# Define X and y\n",
    "X = X_4_test_data.loc[X_4_test_data['ref']<train.shape[0],:].copy()\n",
    "X.drop('ref', inplace=True, axis=1)\n",
    "y = train['saleprice']"
   ]
  },
  {
   "cell_type": "code",
   "execution_count": 952,
   "id": "3b394bbe",
   "metadata": {},
   "outputs": [],
   "source": [
    "# Train Test Split\n",
    "X_train, X_holdout, y_train, y_holdout = train_test_split(\n",
    "    X,\n",
    "    y,\n",
    ")\n",
    "\n",
    "# Standardisation\n",
    "ss = StandardScaler()\n",
    "ss.fit(X_train)\n",
    "Z_train = ss.transform(X_train)\n",
    "Z_holdout = ss.transform(X_holdout)\n",
    "\n",
    "\n",
    "Z_train = pd.DataFrame(data=Z_train, columns=X_train.columns)\n",
    "Z_holdout = pd.DataFrame(data=Z_holdout, columns=X_holdout.columns)"
   ]
  },
  {
   "cell_type": "code",
   "execution_count": 953,
   "id": "dc398702",
   "metadata": {},
   "outputs": [
    {
     "name": "stderr",
     "output_type": "stream",
     "text": [
      "C:\\Users\\User\\.conda\\envs\\dsi\\lib\\site-packages\\sklearn\\linear_model\\_coordinate_descent.py:647: ConvergenceWarning: Objective did not converge. You might want to increase the number of iterations, check the scale of the features or consider increasing regularisation. Duality gap: 2.138e+10, tolerance: 9.672e+08\n",
      "  model = cd_fast.enet_coordinate_descent(\n",
      "C:\\Users\\User\\.conda\\envs\\dsi\\lib\\site-packages\\sklearn\\linear_model\\_coordinate_descent.py:633: ConvergenceWarning: Objective did not converge. You might want to increase the number of iterations. Duality gap: 200342907501.95227, tolerance: 772771698.8337865\n",
      "  model = cd_fast.enet_coordinate_descent_gram(\n",
      "C:\\Users\\User\\.conda\\envs\\dsi\\lib\\site-packages\\sklearn\\linear_model\\_coordinate_descent.py:633: ConvergenceWarning: Objective did not converge. You might want to increase the number of iterations. Duality gap: 191809011156.64288, tolerance: 772771698.8337865\n",
      "  model = cd_fast.enet_coordinate_descent_gram(\n",
      "C:\\Users\\User\\.conda\\envs\\dsi\\lib\\site-packages\\sklearn\\linear_model\\_coordinate_descent.py:633: ConvergenceWarning: Objective did not converge. You might want to increase the number of iterations. Duality gap: 200485215880.07965, tolerance: 773900844.8485268\n",
      "  model = cd_fast.enet_coordinate_descent_gram(\n",
      "C:\\Users\\User\\.conda\\envs\\dsi\\lib\\site-packages\\sklearn\\linear_model\\_coordinate_descent.py:633: ConvergenceWarning: Objective did not converge. You might want to increase the number of iterations. Duality gap: 204739725426.22543, tolerance: 773900844.8485268\n",
      "  model = cd_fast.enet_coordinate_descent_gram(\n",
      "C:\\Users\\User\\.conda\\envs\\dsi\\lib\\site-packages\\sklearn\\linear_model\\_coordinate_descent.py:633: ConvergenceWarning: Objective did not converge. You might want to increase the number of iterations. Duality gap: 156416339222.5061, tolerance: 736056184.0586921\n",
      "  model = cd_fast.enet_coordinate_descent_gram(\n",
      "C:\\Users\\User\\.conda\\envs\\dsi\\lib\\site-packages\\sklearn\\linear_model\\_coordinate_descent.py:633: ConvergenceWarning: Objective did not converge. You might want to increase the number of iterations. Duality gap: 207811649382.2119, tolerance: 736056184.0586921\n",
      "  model = cd_fast.enet_coordinate_descent_gram(\n",
      "C:\\Users\\User\\.conda\\envs\\dsi\\lib\\site-packages\\sklearn\\linear_model\\_coordinate_descent.py:633: ConvergenceWarning: Objective did not converge. You might want to increase the number of iterations. Duality gap: 207458648177.1224, tolerance: 794313675.8111953\n",
      "  model = cd_fast.enet_coordinate_descent_gram(\n",
      "C:\\Users\\User\\.conda\\envs\\dsi\\lib\\site-packages\\sklearn\\linear_model\\_coordinate_descent.py:633: ConvergenceWarning: Objective did not converge. You might want to increase the number of iterations. Duality gap: 199290755569.8973, tolerance: 794313675.8111953\n",
      "  model = cd_fast.enet_coordinate_descent_gram(\n",
      "C:\\Users\\User\\.conda\\envs\\dsi\\lib\\site-packages\\sklearn\\linear_model\\_coordinate_descent.py:633: ConvergenceWarning: Objective did not converge. You might want to increase the number of iterations. Duality gap: 185585753066.78326, tolerance: 791545503.0799339\n",
      "  model = cd_fast.enet_coordinate_descent_gram(\n",
      "C:\\Users\\User\\.conda\\envs\\dsi\\lib\\site-packages\\sklearn\\linear_model\\_coordinate_descent.py:633: ConvergenceWarning: Objective did not converge. You might want to increase the number of iterations. Duality gap: 197255803834.12347, tolerance: 791545503.0799339\n",
      "  model = cd_fast.enet_coordinate_descent_gram(\n",
      "C:\\Users\\User\\.conda\\envs\\dsi\\lib\\site-packages\\sklearn\\linear_model\\_coordinate_descent.py:647: ConvergenceWarning: Objective did not converge. You might want to increase the number of iterations, check the scale of the features or consider increasing regularisation. Duality gap: 2.578e+11, tolerance: 9.672e+08\n",
      "  model = cd_fast.enet_coordinate_descent(\n"
     ]
    },
    {
     "name": "stdout",
     "output_type": "stream",
     "text": [
      "69.84099474672522\n",
      "5.276478391959799\n",
      "1e-05\n"
     ]
    }
   ],
   "source": [
    "#    1) instantiate linearRegression and the Cross validated models for regularisation\n",
    "\n",
    "lr = LinearRegression()\n",
    "lasso_cv = LassoCV(n_alphas=200)\n",
    "ridge_cv = RidgeCV(alphas=np.linspace(.0001, 150, 200))\n",
    "enet_cv = ElasticNetCV(alphas=np.linspace(.00001, 150, 1000), l1_ratio=0.5)\n",
    "\n",
    "#    2) fit models with the best alpha\n",
    "lasso_cv.fit(Z_train, y_train)\n",
    "ridge_cv.fit(Z_train, y_train)\n",
    "enet_cv.fit(Z_train, y_train)\n",
    "\n",
    "#    3) check that the best alpha does not hit a ceiling\n",
    "check_alphas()\n"
   ]
  },
  {
   "cell_type": "code",
   "execution_count": 954,
   "id": "c30360a0",
   "metadata": {},
   "outputs": [
    {
     "name": "stderr",
     "output_type": "stream",
     "text": [
      "C:\\Users\\User\\.conda\\envs\\dsi\\lib\\site-packages\\sklearn\\linear_model\\_coordinate_descent.py:647: ConvergenceWarning: Objective did not converge. You might want to increase the number of iterations, check the scale of the features or consider increasing regularisation. Duality gap: 3.108e+10, tolerance: 7.728e+08\n",
      "  model = cd_fast.enet_coordinate_descent(\n",
      "C:\\Users\\User\\.conda\\envs\\dsi\\lib\\site-packages\\sklearn\\linear_model\\_coordinate_descent.py:647: ConvergenceWarning: Objective did not converge. You might want to increase the number of iterations, check the scale of the features or consider increasing regularisation. Duality gap: 2.017e+10, tolerance: 7.739e+08\n",
      "  model = cd_fast.enet_coordinate_descent(\n",
      "C:\\Users\\User\\.conda\\envs\\dsi\\lib\\site-packages\\sklearn\\linear_model\\_coordinate_descent.py:647: ConvergenceWarning: Objective did not converge. You might want to increase the number of iterations, check the scale of the features or consider increasing regularisation. Duality gap: 1.431e+10, tolerance: 7.361e+08\n",
      "  model = cd_fast.enet_coordinate_descent(\n",
      "C:\\Users\\User\\.conda\\envs\\dsi\\lib\\site-packages\\sklearn\\linear_model\\_coordinate_descent.py:647: ConvergenceWarning: Objective did not converge. You might want to increase the number of iterations, check the scale of the features or consider increasing regularisation. Duality gap: 2.347e+10, tolerance: 7.943e+08\n",
      "  model = cd_fast.enet_coordinate_descent(\n",
      "C:\\Users\\User\\.conda\\envs\\dsi\\lib\\site-packages\\sklearn\\linear_model\\_coordinate_descent.py:647: ConvergenceWarning: Objective did not converge. You might want to increase the number of iterations, check the scale of the features or consider increasing regularisation. Duality gap: 3.039e+10, tolerance: 7.915e+08\n",
      "  model = cd_fast.enet_coordinate_descent(\n",
      "C:\\Users\\User\\.conda\\envs\\dsi\\lib\\site-packages\\sklearn\\linear_model\\_coordinate_descent.py:647: ConvergenceWarning: Objective did not converge. You might want to increase the number of iterations, check the scale of the features or consider increasing regularisation. Duality gap: 1.922e+11, tolerance: 7.728e+08\n",
      "  model = cd_fast.enet_coordinate_descent(\n",
      "C:\\Users\\User\\.conda\\envs\\dsi\\lib\\site-packages\\sklearn\\linear_model\\_coordinate_descent.py:647: ConvergenceWarning: Objective did not converge. You might want to increase the number of iterations, check the scale of the features or consider increasing regularisation. Duality gap: 2.053e+11, tolerance: 7.739e+08\n",
      "  model = cd_fast.enet_coordinate_descent(\n",
      "C:\\Users\\User\\.conda\\envs\\dsi\\lib\\site-packages\\sklearn\\linear_model\\_coordinate_descent.py:647: ConvergenceWarning: Objective did not converge. You might want to increase the number of iterations, check the scale of the features or consider increasing regularisation. Duality gap: 2.082e+11, tolerance: 7.361e+08\n",
      "  model = cd_fast.enet_coordinate_descent(\n"
     ]
    },
    {
     "name": "stdout",
     "output_type": "stream",
     "text": [
      " Model 4 linear regression cross_val nmse is -23517795915831561845604209393664\n",
      " Model 4 lasso regression cross_val nmse is -432127379\n",
      " Model 4 ridge regression cross_val nmse is -432653400\n",
      " Model 4 enet regression cross_val nmse is -437254544\n"
     ]
    },
    {
     "name": "stderr",
     "output_type": "stream",
     "text": [
      "C:\\Users\\User\\.conda\\envs\\dsi\\lib\\site-packages\\sklearn\\linear_model\\_coordinate_descent.py:647: ConvergenceWarning: Objective did not converge. You might want to increase the number of iterations, check the scale of the features or consider increasing regularisation. Duality gap: 1.997e+11, tolerance: 7.943e+08\n",
      "  model = cd_fast.enet_coordinate_descent(\n",
      "C:\\Users\\User\\.conda\\envs\\dsi\\lib\\site-packages\\sklearn\\linear_model\\_coordinate_descent.py:647: ConvergenceWarning: Objective did not converge. You might want to increase the number of iterations, check the scale of the features or consider increasing regularisation. Duality gap: 1.976e+11, tolerance: 7.915e+08\n",
      "  model = cd_fast.enet_coordinate_descent(\n"
     ]
    }
   ],
   "source": [
    "#    1) instantiate regularised models with the best alpha\n",
    "\n",
    "lasso_best = Lasso(alpha = lasso_cv.alpha_)\n",
    "ridge_best = Ridge(alpha = ridge_cv.alpha_)\n",
    "enet_best = ElasticNet(alpha = enet_cv.alpha_, l1_ratio=0.5)\n",
    "\n",
    "#    2) get the cross validated neg_mean_squared_error for all variables\n",
    "lr_cross = cross_val_score(lr, Z_train, y_train, cv=5, scoring='neg_mean_squared_error').mean()\n",
    "lasso_cross = cross_val_score(lasso_best, Z_train, y_train, cv=5, scoring='neg_mean_squared_error').mean()\n",
    "ridge_cross = cross_val_score(ridge_best, Z_train, y_train, cv=5, scoring='neg_mean_squared_error').mean()\n",
    "enet_cross = cross_val_score(enet_best, Z_train, y_train, cv=5, scoring='neg_mean_squared_error').mean()\n",
    "\n",
    "get_cross_val('4')"
   ]
  },
  {
   "cell_type": "code",
   "execution_count": 955,
   "id": "cccd8ea4",
   "metadata": {},
   "outputs": [
    {
     "name": "stderr",
     "output_type": "stream",
     "text": [
      "C:\\Users\\User\\.conda\\envs\\dsi\\lib\\site-packages\\sklearn\\linear_model\\_coordinate_descent.py:647: ConvergenceWarning: Objective did not converge. You might want to increase the number of iterations, check the scale of the features or consider increasing regularisation. Duality gap: 1.692e+10, tolerance: 3.174e+08\n",
      "  model = cd_fast.enet_coordinate_descent(\n",
      "C:\\Users\\User\\.conda\\envs\\dsi\\lib\\site-packages\\sklearn\\linear_model\\_coordinate_descent.py:647: ConvergenceWarning: Objective did not converge. You might want to increase the number of iterations, check the scale of the features or consider increasing regularisation. Duality gap: 8.278e+10, tolerance: 3.174e+08\n",
      "  model = cd_fast.enet_coordinate_descent(\n"
     ]
    },
    {
     "name": "stdout",
     "output_type": "stream",
     "text": [
      " Model 4 linear regression mse=321013369, rmse =17917\n",
      " Model 4 ridge regression mse=345677340, rmse =18592\n",
      " Model 4 lasso regression mse=351158339, rmse =18739\n",
      " Model 4 enet regression mse=323195270, rmse =17978\n"
     ]
    }
   ],
   "source": [
    "#    1) fit all models with the holdout test data\n",
    "\n",
    "lr.fit(Z_holdout, y_holdout)\n",
    "lasso_best.fit(Z_holdout, y_holdout)\n",
    "ridge_best.fit(Z_holdout, y_holdout)\n",
    "enet_best.fit(Z_holdout, y_holdout)\n",
    "\n",
    "#    2) get mean squared error and root mean squared error for all models\n",
    "lr_mse = mean_squared_error(y_holdout, lr.predict(Z_holdout))\n",
    "ridge_mse = mean_squared_error(y_holdout, lasso_best.predict(Z_holdout))\n",
    "lasso_mse = mean_squared_error(y_holdout, ridge_best.predict(Z_holdout))\n",
    "enet_mse = mean_squared_error(y_holdout, enet_best.predict(Z_holdout))\n",
    "\n",
    "error_scores('4')"
   ]
  },
  {
   "cell_type": "code",
   "execution_count": 956,
   "id": "83c8b7ff",
   "metadata": {},
   "outputs": [
    {
     "data": {
      "text/plain": [
       "(31, 1)"
      ]
     },
     "execution_count": 956,
     "metadata": {},
     "output_type": "execute_result"
    }
   ],
   "source": [
    "# Find weak variables\n",
    "lasso_coef = pd.DataFrame(data=lasso_best.coef_,\n",
    "                          index=Z_train.columns,\n",
    "                          columns=['coef'])\n",
    "\n",
    "lasso_0 = lasso_coef.loc[lasso_coef['coef'] == 0, :]\n",
    "lasso_0.shape"
   ]
  },
  {
   "cell_type": "code",
   "execution_count": 669,
   "id": "a593d7b1",
   "metadata": {},
   "outputs": [],
   "source": [
    "# unhash to view\n",
    "# lasso_0"
   ]
  },
  {
   "cell_type": "markdown",
   "id": "f3b42def",
   "metadata": {},
   "source": [
    "### Review\n",
    "\n",
    "**Model 4**<br/>\n",
    "RMSE of the train set is similar to the test set. Hence there is little evidence of overfitting.<br/>\n",
    "\n",
    "Numerous variables were heavily penalised. Since they are fringe variables, they were dropped.\n",
    "1. roof_matl\n",
    "2. fence\n",
    "3. paved_drive\n",
    "\n",
    "Some interactions were also penalised to coef= 0 in Lasso Regression. It is likely they these were too similar as they were mostly interactions with overall_qual.\n",
    "\n",
    "1. gr_liv_area overall_qual\n",
    "2. gr_liv_area bsmt_qual\n",
    "3. 1st_flr_sf bsmt_qual\n",
    "4. overall_qual^2\n",
    "5. bsmt_qual overall_qual\n",
    "6. year_remod/add overall_qual\n",
    "\n",
    "**Comparison across regression models**<br/>\n",
    "In this analysis, enet and linear regression performed the best, with about 600 rmse better than ridge and lasso regression.\n",
    "\n",
    "***Comparison***<br/>\n",
    "RMSE has improved from model 2.<br/>\n",
    "Model 1 rmse~ 27,000<br/>\n",
    "Model 2 rmse~ 24,000<br/>\n",
    "Model 3 rmse~ 22,000<br/>\n",
    "Model 3I rmse~ 21,000<br/>\n",
    "Model 4 rmse~ 19,000<br/>\n",
    "\n",
    "To assess if dropping the above variables will have a negative impact on the model, model 4I will be fit."
   ]
  },
  {
   "cell_type": "code",
   "execution_count": 958,
   "id": "65cae9fd",
   "metadata": {},
   "outputs": [],
   "source": [
    "poly_drop_list = ['gr_liv_area overall_qual', 'gr_liv_area bsmt_qual',\n",
    "                  '1st_flr_sf bsmt_qual', 'overall_qual^2', \n",
    "                  'bsmt_qual overall_qual', 'year_remod/add overall_qual'\n",
    "                  'roof_matl', 'fence', 'paved_drive']"
   ]
  },
  {
   "cell_type": "markdown",
   "id": "2b652092",
   "metadata": {},
   "source": [
    "**Model 4I**"
   ]
  },
  {
   "cell_type": "code",
   "execution_count": 959,
   "id": "29ec0adf",
   "metadata": {},
   "outputs": [],
   "source": [
    "X_4I_test_data = X_4_poly.copy()\n",
    "\n",
    "poly_features = [x for x in list(X_4I_test_data.columns) if x not in poly_drop_list]\n",
    "poly_features\n",
    "\n",
    "X_4I_test_data = X_4I_test_data[poly_features]"
   ]
  },
  {
   "cell_type": "code",
   "execution_count": 960,
   "id": "db726dce",
   "metadata": {},
   "outputs": [],
   "source": [
    "# Get_dummies\n",
    "# to get_dummies together with test set\n",
    "\n",
    "X_4I_test_data= pd.get_dummies(data=X_4I_test_data, drop_first=True)"
   ]
  },
  {
   "cell_type": "code",
   "execution_count": 961,
   "id": "9bb90082",
   "metadata": {},
   "outputs": [],
   "source": [
    "# Define X and y\n",
    "X = X_4I_test_data.loc[X_4I_test_data['ref']<train.shape[0],:].copy()\n",
    "X.drop('ref', inplace=True, axis=1)\n",
    "\n",
    "y = train['saleprice']"
   ]
  },
  {
   "cell_type": "code",
   "execution_count": 962,
   "id": "dd6cf0fe",
   "metadata": {},
   "outputs": [],
   "source": [
    "# Train Test Split\n",
    "X_train, X_holdout, y_train, y_holdout = train_test_split(\n",
    "    X,\n",
    "    y,\n",
    ")\n",
    "\n",
    "# Standardisation\n",
    "ss = StandardScaler()\n",
    "ss.fit(X_train)\n",
    "Z_train = ss.transform(X_train)\n",
    "Z_holdout = ss.transform(X_holdout)\n",
    "\n",
    "\n",
    "Z_train = pd.DataFrame(data=Z_train, columns=X_train.columns)\n",
    "Z_holdout = pd.DataFrame(data=Z_holdout, columns=X_holdout.columns)"
   ]
  },
  {
   "cell_type": "code",
   "execution_count": 963,
   "id": "d907bb8d",
   "metadata": {},
   "outputs": [
    {
     "name": "stderr",
     "output_type": "stream",
     "text": [
      "C:\\Users\\User\\.conda\\envs\\dsi\\lib\\site-packages\\sklearn\\linear_model\\_coordinate_descent.py:647: ConvergenceWarning: Objective did not converge. You might want to increase the number of iterations, check the scale of the features or consider increasing regularisation. Duality gap: 4.241e+10, tolerance: 9.625e+08\n",
      "  model = cd_fast.enet_coordinate_descent(\n",
      "C:\\Users\\User\\.conda\\envs\\dsi\\lib\\site-packages\\sklearn\\linear_model\\_coordinate_descent.py:633: ConvergenceWarning: Objective did not converge. You might want to increase the number of iterations. Duality gap: 24329916270.20453, tolerance: 778080199.8511019\n",
      "  model = cd_fast.enet_coordinate_descent_gram(\n",
      "C:\\Users\\User\\.conda\\envs\\dsi\\lib\\site-packages\\sklearn\\linear_model\\_coordinate_descent.py:633: ConvergenceWarning: Objective did not converge. You might want to increase the number of iterations. Duality gap: 203668833940.8369, tolerance: 778080199.8511019\n",
      "  model = cd_fast.enet_coordinate_descent_gram(\n",
      "C:\\Users\\User\\.conda\\envs\\dsi\\lib\\site-packages\\sklearn\\linear_model\\_coordinate_descent.py:633: ConvergenceWarning: Objective did not converge. You might want to increase the number of iterations. Duality gap: 25268791600.427673, tolerance: 794516700.4220897\n",
      "  model = cd_fast.enet_coordinate_descent_gram(\n",
      "C:\\Users\\User\\.conda\\envs\\dsi\\lib\\site-packages\\sklearn\\linear_model\\_coordinate_descent.py:633: ConvergenceWarning: Objective did not converge. You might want to increase the number of iterations. Duality gap: 204465797765.26263, tolerance: 794516700.4220897\n",
      "  model = cd_fast.enet_coordinate_descent_gram(\n",
      "C:\\Users\\User\\.conda\\envs\\dsi\\lib\\site-packages\\sklearn\\linear_model\\_coordinate_descent.py:633: ConvergenceWarning: Objective did not converge. You might want to increase the number of iterations. Duality gap: 10538878388.07544, tolerance: 779199310.4316628\n",
      "  model = cd_fast.enet_coordinate_descent_gram(\n",
      "C:\\Users\\User\\.conda\\envs\\dsi\\lib\\site-packages\\sklearn\\linear_model\\_coordinate_descent.py:633: ConvergenceWarning: Objective did not converge. You might want to increase the number of iterations. Duality gap: 218733674927.80496, tolerance: 779199310.4316628\n",
      "  model = cd_fast.enet_coordinate_descent_gram(\n",
      "C:\\Users\\User\\.conda\\envs\\dsi\\lib\\site-packages\\sklearn\\linear_model\\_coordinate_descent.py:633: ConvergenceWarning: Objective did not converge. You might want to increase the number of iterations. Duality gap: 10564596378.82434, tolerance: 712216083.6959325\n",
      "  model = cd_fast.enet_coordinate_descent_gram(\n",
      "C:\\Users\\User\\.conda\\envs\\dsi\\lib\\site-packages\\sklearn\\linear_model\\_coordinate_descent.py:633: ConvergenceWarning: Objective did not converge. You might want to increase the number of iterations. Duality gap: 209286218626.70294, tolerance: 712216083.6959325\n",
      "  model = cd_fast.enet_coordinate_descent_gram(\n"
     ]
    },
    {
     "name": "stdout",
     "output_type": "stream",
     "text": [
      "67.71828914713277\n",
      "3.804784784784785\n",
      "0.001\n"
     ]
    },
    {
     "name": "stderr",
     "output_type": "stream",
     "text": [
      "C:\\Users\\User\\.conda\\envs\\dsi\\lib\\site-packages\\sklearn\\linear_model\\_coordinate_descent.py:633: ConvergenceWarning: Objective did not converge. You might want to increase the number of iterations. Duality gap: 11821033336.336304, tolerance: 785279785.3091651\n",
      "  model = cd_fast.enet_coordinate_descent_gram(\n",
      "C:\\Users\\User\\.conda\\envs\\dsi\\lib\\site-packages\\sklearn\\linear_model\\_coordinate_descent.py:633: ConvergenceWarning: Objective did not converge. You might want to increase the number of iterations. Duality gap: 197712693074.3795, tolerance: 785279785.3091651\n",
      "  model = cd_fast.enet_coordinate_descent_gram(\n",
      "C:\\Users\\User\\.conda\\envs\\dsi\\lib\\site-packages\\sklearn\\linear_model\\_coordinate_descent.py:647: ConvergenceWarning: Objective did not converge. You might want to increase the number of iterations, check the scale of the features or consider increasing regularisation. Duality gap: 2.668e+11, tolerance: 9.625e+08\n",
      "  model = cd_fast.enet_coordinate_descent(\n"
     ]
    }
   ],
   "source": [
    "#    1) instantiate linearRegression and the Cross validated models for regularisation\n",
    "\n",
    "lr = LinearRegression()\n",
    "lasso_cv = LassoCV(n_alphas=200)\n",
    "ridge_cv = RidgeCV(alphas=np.linspace(0.001, 200, 1000))\n",
    "enet_cv = ElasticNetCV(alphas=np.linspace(0.001, 200, 1000), l1_ratio=0.5)\n",
    "\n",
    "#    2) fit models with the best alpha\n",
    "lasso_cv.fit(Z_train, y_train)\n",
    "ridge_cv.fit(Z_train, y_train)\n",
    "enet_cv.fit(Z_train, y_train)\n",
    "\n",
    "#    3) check that the best alpha does not hit a ceiling\n",
    "check_alphas()"
   ]
  },
  {
   "cell_type": "code",
   "execution_count": 964,
   "id": "b33e6d27",
   "metadata": {},
   "outputs": [
    {
     "name": "stderr",
     "output_type": "stream",
     "text": [
      "C:\\Users\\User\\.conda\\envs\\dsi\\lib\\site-packages\\sklearn\\linear_model\\_coordinate_descent.py:647: ConvergenceWarning: Objective did not converge. You might want to increase the number of iterations, check the scale of the features or consider increasing regularisation. Duality gap: 1.947e+10, tolerance: 7.781e+08\n",
      "  model = cd_fast.enet_coordinate_descent(\n",
      "C:\\Users\\User\\.conda\\envs\\dsi\\lib\\site-packages\\sklearn\\linear_model\\_coordinate_descent.py:647: ConvergenceWarning: Objective did not converge. You might want to increase the number of iterations, check the scale of the features or consider increasing regularisation. Duality gap: 4.060e+10, tolerance: 7.945e+08\n",
      "  model = cd_fast.enet_coordinate_descent(\n",
      "C:\\Users\\User\\.conda\\envs\\dsi\\lib\\site-packages\\sklearn\\linear_model\\_coordinate_descent.py:647: ConvergenceWarning: Objective did not converge. You might want to increase the number of iterations, check the scale of the features or consider increasing regularisation. Duality gap: 4.173e+10, tolerance: 7.792e+08\n",
      "  model = cd_fast.enet_coordinate_descent(\n",
      "C:\\Users\\User\\.conda\\envs\\dsi\\lib\\site-packages\\sklearn\\linear_model\\_coordinate_descent.py:647: ConvergenceWarning: Objective did not converge. You might want to increase the number of iterations, check the scale of the features or consider increasing regularisation. Duality gap: 2.246e+10, tolerance: 7.122e+08\n",
      "  model = cd_fast.enet_coordinate_descent(\n",
      "C:\\Users\\User\\.conda\\envs\\dsi\\lib\\site-packages\\sklearn\\linear_model\\_coordinate_descent.py:647: ConvergenceWarning: Objective did not converge. You might want to increase the number of iterations, check the scale of the features or consider increasing regularisation. Duality gap: 3.253e+10, tolerance: 7.853e+08\n",
      "  model = cd_fast.enet_coordinate_descent(\n",
      "C:\\Users\\User\\.conda\\envs\\dsi\\lib\\site-packages\\sklearn\\linear_model\\_coordinate_descent.py:647: ConvergenceWarning: Objective did not converge. You might want to increase the number of iterations, check the scale of the features or consider increasing regularisation. Duality gap: 2.048e+11, tolerance: 7.781e+08\n",
      "  model = cd_fast.enet_coordinate_descent(\n",
      "C:\\Users\\User\\.conda\\envs\\dsi\\lib\\site-packages\\sklearn\\linear_model\\_coordinate_descent.py:647: ConvergenceWarning: Objective did not converge. You might want to increase the number of iterations, check the scale of the features or consider increasing regularisation. Duality gap: 2.056e+11, tolerance: 7.945e+08\n",
      "  model = cd_fast.enet_coordinate_descent(\n",
      "C:\\Users\\User\\.conda\\envs\\dsi\\lib\\site-packages\\sklearn\\linear_model\\_coordinate_descent.py:647: ConvergenceWarning: Objective did not converge. You might want to increase the number of iterations, check the scale of the features or consider increasing regularisation. Duality gap: 2.200e+11, tolerance: 7.792e+08\n",
      "  model = cd_fast.enet_coordinate_descent(\n"
     ]
    },
    {
     "name": "stdout",
     "output_type": "stream",
     "text": [
      " Model 4I linear regression cross_val nmse is -590890542367205315127453679616\n",
      " Model 4I lasso regression cross_val nmse is -447529493\n",
      " Model 4I ridge regression cross_val nmse is -443806760\n",
      " Model 4I enet regression cross_val nmse is -444247841\n"
     ]
    },
    {
     "name": "stderr",
     "output_type": "stream",
     "text": [
      "C:\\Users\\User\\.conda\\envs\\dsi\\lib\\site-packages\\sklearn\\linear_model\\_coordinate_descent.py:647: ConvergenceWarning: Objective did not converge. You might want to increase the number of iterations, check the scale of the features or consider increasing regularisation. Duality gap: 2.101e+11, tolerance: 7.122e+08\n",
      "  model = cd_fast.enet_coordinate_descent(\n",
      "C:\\Users\\User\\.conda\\envs\\dsi\\lib\\site-packages\\sklearn\\linear_model\\_coordinate_descent.py:647: ConvergenceWarning: Objective did not converge. You might want to increase the number of iterations, check the scale of the features or consider increasing regularisation. Duality gap: 1.989e+11, tolerance: 7.853e+08\n",
      "  model = cd_fast.enet_coordinate_descent(\n"
     ]
    }
   ],
   "source": [
    "#    1) instantiate regularised models with the best alpha\n",
    "\n",
    "lasso_best = Lasso(alpha = lasso_cv.alpha_)\n",
    "ridge_best = Ridge(alpha = ridge_cv.alpha_)\n",
    "enet_best = ElasticNet(alpha = enet_cv.alpha_, l1_ratio=0.5)\n",
    "\n",
    "#    2) get the cross validated neg_mean_squared_error for all variables\n",
    "lr_cross = cross_val_score(lr, Z_train, y_train, cv=5, scoring='neg_mean_squared_error').mean()\n",
    "lasso_cross = cross_val_score(lasso_best, Z_train, y_train, cv=5, scoring='neg_mean_squared_error').mean()\n",
    "ridge_cross = cross_val_score(ridge_best, Z_train, y_train, cv=5, scoring='neg_mean_squared_error').mean()\n",
    "enet_cross = cross_val_score(enet_best, Z_train, y_train, cv=5, scoring='neg_mean_squared_error').mean()\n",
    "\n",
    "get_cross_val('4I')"
   ]
  },
  {
   "cell_type": "code",
   "execution_count": 965,
   "id": "b7d0621c",
   "metadata": {},
   "outputs": [
    {
     "name": "stderr",
     "output_type": "stream",
     "text": [
      "C:\\Users\\User\\.conda\\envs\\dsi\\lib\\site-packages\\sklearn\\linear_model\\_coordinate_descent.py:647: ConvergenceWarning: Objective did not converge. You might want to increase the number of iterations, check the scale of the features or consider increasing regularisation. Duality gap: 1.358e+10, tolerance: 3.225e+08\n",
      "  model = cd_fast.enet_coordinate_descent(\n",
      "C:\\Users\\User\\.conda\\envs\\dsi\\lib\\site-packages\\sklearn\\linear_model\\_coordinate_descent.py:647: ConvergenceWarning: Objective did not converge. You might want to increase the number of iterations, check the scale of the features or consider increasing regularisation. Duality gap: 7.678e+10, tolerance: 3.225e+08\n",
      "  model = cd_fast.enet_coordinate_descent(\n"
     ]
    },
    {
     "name": "stdout",
     "output_type": "stream",
     "text": [
      " Model 4I linear regression mse=291257903, rmse =17066\n",
      " Model 4I ridge regression mse=305213073, rmse =17470\n",
      " Model 4I lasso regression mse=312973869, rmse =17691\n",
      " Model 4I enet regression mse=292122042, rmse =17092\n"
     ]
    }
   ],
   "source": [
    "#    1) fit all models with the holdout test data\n",
    "\n",
    "lr.fit(Z_holdout, y_holdout)\n",
    "lasso_best.fit(Z_holdout, y_holdout)\n",
    "ridge_best.fit(Z_holdout, y_holdout)\n",
    "enet_best.fit(Z_holdout, y_holdout)\n",
    "\n",
    "#    2) get mean squared error and root mean squared error for all models\n",
    "lr_mse = mean_squared_error(y_holdout, lr.predict(Z_holdout))\n",
    "ridge_mse = mean_squared_error(y_holdout, lasso_best.predict(Z_holdout))\n",
    "lasso_mse = mean_squared_error(y_holdout, ridge_best.predict(Z_holdout))\n",
    "enet_mse = mean_squared_error(y_holdout, enet_best.predict(Z_holdout))\n",
    "\n",
    "error_scores('4I')"
   ]
  },
  {
   "cell_type": "markdown",
   "id": "efa9f123",
   "metadata": {},
   "source": [
    "### Review\n",
    "\n",
    "**Model 4I**<br/>\n",
    "RMSE of the train set is similar to the test set. Hence there is little evidence of overfitting.<br/>\n",
    "\n",
    "**Comparison across regression models**<br/>\n",
    "In this analysis, enet and linear regression performed the best, with about 400 rmse better than ridge and lasso regression.\n",
    "\n",
    "***Comparison***<br/>\n",
    "RMSE has improved from model 2.<br/>\n",
    "Model 1 rmse~ 27,000<br/>\n",
    "Model 2 rmse~ 24,000<br/>\n",
    "Model 3 rmse~ 22,000<br/>\n",
    "Model 3I rmse~ 21,000<br/>\n",
    "Model 4 rmse~ 19,000<br/>\n",
    "Model 4I rmse~ 17,000<br/>\n",
    "\n",
    "To assess if dropping the above variables will have a negative impact on the model, model 4I will be fit."
   ]
  },
  {
   "cell_type": "markdown",
   "id": "7b5393da",
   "metadata": {},
   "source": [
    "## Conclusions and Recommendations"
   ]
  },
  {
   "cell_type": "markdown",
   "id": "7632f6d6",
   "metadata": {},
   "source": [
    "The models above will be able to predict the saleprice of houses to reasonable accuracy. We would reccomend users to use Model 4I using enet regression to predict sale prices as it has the best accuracy.\n",
    "\n",
    "If future staff need to develop other models for a price prediction model in other neighborhoods with little time or resources, it is reccomended to start with variables similar to that in the base model (Model 1). This will require the least number of variables for a reasonable model."
   ]
  },
  {
   "cell_type": "code",
   "execution_count": null,
   "id": "3afb6e04",
   "metadata": {},
   "outputs": [],
   "source": []
  },
  {
   "cell_type": "code",
   "execution_count": 716,
   "id": "c5ed3bb5",
   "metadata": {},
   "outputs": [
    {
     "name": "stderr",
     "output_type": "stream",
     "text": [
      "C:\\Users\\User\\.conda\\envs\\dsi\\lib\\site-packages\\sklearn\\base.py:450: UserWarning: X does not have valid feature names, but ElasticNet was fitted with feature names\n",
      "  warnings.warn(\n"
     ]
    }
   ],
   "source": [
    "#Testing model 1 on Kaggle\n",
    "# Pulling out X vars for kaggle_test data\n",
    "\n",
    "kaggle_test = X_1_test_data.iloc[2047:,:]\n",
    "\n",
    "# Transform and predict for test set\n",
    "\n",
    "kaggle_test_sc = ss.transform(kaggle_test)\n",
    "k = enet_best.predict(kaggle_test_sc)\n",
    "\n",
    "# Manipulation for upload to Kaggle\n",
    "\n",
    "k_up = pd.DataFrame(data=k, columns=['SalePrice'])\n",
    "k_up['Id']=test_or['Id']\n",
    "k_up= k_up[['Id','SalePrice' ]]\n",
    "\n",
    "#Save predicted results to csv\n",
    "k_up.to_csv('result1.csv', index = False)"
   ]
  },
  {
   "cell_type": "code",
   "execution_count": 679,
   "id": "697acd1e",
   "metadata": {},
   "outputs": [],
   "source": [
    "#Testing model 2 on Kaggle\n",
    "# Pulling out X vars for kaggle_test data\n",
    "\n",
    "kaggle_test = X_2_test_data.iloc[2047:,:]\n",
    "\n",
    "# Transform and predict for test set\n",
    "\n",
    "kaggle_test_sc = ss.transform(kaggle_test)\n",
    "k = enet_best.predict(kaggle_test_sc)\n",
    "\n",
    "# Manipulation for upload to Kaggle\n",
    "\n",
    "k_up = pd.DataFrame(data=k, columns=['SalePrice'])\n",
    "k_up['Id']=test_or['Id']\n",
    "k_up= k_up[['Id','SalePrice' ]]\n",
    "\n",
    "#Save predicted results to csv\n",
    "k_up.to_csv('result2.csv', index = False)"
   ]
  },
  {
   "cell_type": "code",
   "execution_count": null,
   "id": "5e04bd88",
   "metadata": {},
   "outputs": [],
   "source": [
    "#Testing model 3 on Kaggle\n",
    "# Pulling out X vars for kaggle_test data\n",
    "\n",
    "kaggle_test = X_3_test_data.iloc[2047:,:]\n",
    "\n",
    "# Transform and predict for test set\n",
    "\n",
    "kaggle_test_sc = ss.transform(kaggle_test)\n",
    "k = enet_best.predict(kaggle_test_sc)\n",
    "\n",
    "# Manipulation for upload to Kaggle\n",
    "\n",
    "k_up = pd.DataFrame(data=k, columns=['SalePrice'])\n",
    "k_up['Id']=test_or['Id']\n",
    "k_up= k_up[['Id','SalePrice' ]]\n",
    "\n",
    "#Save predicted results to csv\n",
    "k_up.to_csv('result3.csv', index = False)"
   ]
  },
  {
   "cell_type": "code",
   "execution_count": null,
   "id": "9e6100b5",
   "metadata": {},
   "outputs": [],
   "source": [
    "#Testing model 3I on Kaggle\n",
    "# Pulling out X vars for kaggle_test data\n",
    "\n",
    "kaggle_test = X_3I_test_data.iloc[2047:,:]\n",
    "\n",
    "# Transform and predict for test set\n",
    "\n",
    "kaggle_test_sc = ss.transform(kaggle_test)\n",
    "k = enet_best.predict(kaggle_test_sc)\n",
    "\n",
    "# Manipulation for upload to Kaggle\n",
    "\n",
    "k_up = pd.DataFrame(data=k, columns=['SalePrice'])\n",
    "k_up['Id']=test_or['Id']\n",
    "k_up= k_up[['Id','SalePrice' ]]\n",
    "\n",
    "#Save predicted results to csv\n",
    "k_up.to_csv('result3I.csv', index = False)"
   ]
  },
  {
   "cell_type": "code",
   "execution_count": 957,
   "id": "3d42c91f",
   "metadata": {},
   "outputs": [
    {
     "name": "stderr",
     "output_type": "stream",
     "text": [
      "C:\\Users\\User\\.conda\\envs\\dsi\\lib\\site-packages\\sklearn\\base.py:450: UserWarning: X does not have valid feature names, but ElasticNet was fitted with feature names\n",
      "  warnings.warn(\n"
     ]
    }
   ],
   "source": [
    "#Testing model 4 on Kaggle\n",
    "# Pulling out X vars for kaggle_test data\n",
    "\n",
    "kaggle_test = X_4_test_data.loc[X_4_test_data['ref']>2046,:].sort_values('ref', ascending=True)\n",
    "kaggle_test.drop('ref', inplace=True, axis=1)\n",
    "\n",
    "# Transform and predict for test set\n",
    "\n",
    "kaggle_test_sc = ss.transform(kaggle_test)\n",
    "k = enet_best.predict(kaggle_test_sc)\n",
    "\n",
    "# Manipulation for upload to Kaggle\n",
    "\n",
    "k_up = pd.DataFrame(data=k, columns=['SalePrice'])\n",
    "k_up['Id']=test_or['Id']\n",
    "k_up= k_up[['Id','SalePrice' ]]\n",
    "\n",
    "#Save predicted results to csv\n",
    "k_up.to_csv('result4.csv', index = False)"
   ]
  },
  {
   "cell_type": "code",
   "execution_count": 720,
   "id": "42303487",
   "metadata": {},
   "outputs": [
    {
     "data": {
      "text/plain": [
       "(878, 142)"
      ]
     },
     "execution_count": 720,
     "metadata": {},
     "output_type": "execute_result"
    }
   ],
   "source": [
    "X_4_test_data.loc[X_4_test_data['ref']>2046,:].shape"
   ]
  },
  {
   "cell_type": "code",
   "execution_count": 968,
   "id": "7efb90ee",
   "metadata": {},
   "outputs": [
    {
     "data": {
      "text/plain": [
       "Ridge(alpha=0.001)"
      ]
     },
     "execution_count": 968,
     "metadata": {},
     "output_type": "execute_result"
    }
   ],
   "source": [
    "#Fitting for model 4I with train + holdout\n",
    "\n",
    "ss = StandardScaler()\n",
    "ss.fit(X)\n",
    "Z = ss.transform(X)\n",
    "ridge_cv.fit(Z, y)\n",
    "ridge_best = Ridge(alpha = ridge_cv.alpha_)\n",
    "ridge_best.fit(Z_holdout, y_holdout)"
   ]
  },
  {
   "cell_type": "code",
   "execution_count": 969,
   "id": "02904251",
   "metadata": {},
   "outputs": [
    {
     "name": "stderr",
     "output_type": "stream",
     "text": [
      "C:\\Users\\User\\.conda\\envs\\dsi\\lib\\site-packages\\sklearn\\base.py:450: UserWarning: X does not have valid feature names, but Ridge was fitted with feature names\n",
      "  warnings.warn(\n"
     ]
    }
   ],
   "source": [
    "#Testing model 4 on Kaggle\n",
    "# Pulling out X vars for kaggle_test data\n",
    "\n",
    "kaggle_test = X_4I_test_data.loc[X_4I_test_data['ref']>2046,:].sort_values('ref', ascending=True)\n",
    "kaggle_test.drop('ref', inplace=True, axis=1)\n",
    "\n",
    "# Transform and predict for test set\n",
    "\n",
    "kaggle_test_sc = ss.transform(kaggle_test)\n",
    "k = ridge_best.predict(kaggle_test_sc)\n",
    "\n",
    "# Manipulation for upload to Kaggle\n",
    "\n",
    "k_up = pd.DataFrame(data=k, columns=['SalePrice'])\n",
    "k_up['Id']=test_or['Id']\n",
    "k_up= k_up[['Id','SalePrice' ]]\n",
    "\n",
    "#Save predicted results to csv\n",
    "k_up.to_csv('result4I.csv', index = False)"
   ]
  },
  {
   "cell_type": "code",
   "execution_count": 857,
   "id": "31147bdf",
   "metadata": {},
   "outputs": [
    {
     "data": {
      "text/plain": [
       "(59,)"
      ]
     },
     "execution_count": 857,
     "metadata": {},
     "output_type": "execute_result"
    }
   ],
   "source": [
    "k.shape\n",
    "lasso_cv.coef_.shape\n",
    "X_1_test_data.columns.shape"
   ]
  },
  {
   "cell_type": "markdown",
   "id": "446a048f",
   "metadata": {},
   "source": []
  },
  {
   "cell_type": "code",
   "execution_count": null,
   "id": "28f1a90e",
   "metadata": {},
   "outputs": [],
   "source": []
  }
 ],
 "metadata": {
  "kernelspec": {
   "display_name": "Python 3 (ipykernel)",
   "language": "python",
   "name": "python3"
  },
  "language_info": {
   "codemirror_mode": {
    "name": "ipython",
    "version": 3
   },
   "file_extension": ".py",
   "mimetype": "text/x-python",
   "name": "python",
   "nbconvert_exporter": "python",
   "pygments_lexer": "ipython3",
   "version": "3.8.12"
  }
 },
 "nbformat": 4,
 "nbformat_minor": 5
}
